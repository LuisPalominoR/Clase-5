{
  "cells": [
    {
      "cell_type": "markdown",
      "metadata": {
        "id": "view-in-github",
        "colab_type": "text"
      },
      "source": [
        "<a href=\"https://colab.research.google.com/github/LuisPalominoR/Clase-5/blob/main/Edificaciones_PROTO.ipynb\" target=\"_parent\"><img src=\"https://colab.research.google.com/assets/colab-badge.svg\" alt=\"Open In Colab\"/></a>"
      ]
    },
    {
      "cell_type": "markdown",
      "metadata": {
        "id": "Ika9qVKHBeYu"
      },
      "source": [
        "<img src=\"https://i.imgur.com/6U6q5jQ.png\"/>"
      ]
    },
    {
      "cell_type": "markdown",
      "metadata": {
        "id": "3-CvaORDBeYv"
      },
      "source": [
        "# Data Cleaning in Python"
      ]
    },
    {
      "cell_type": "markdown",
      "metadata": {
        "id": "emQZYiLLBeYw"
      },
      "source": [
        "The data we have collected may have several issues we need to identify:\n",
        "\n",
        "* Are there missing values? How are they represented?\n",
        "* Is the format of the table ready to be analyzed? Are there other elements not relevant but distracting or likely to confuse our work?\n",
        "* Is every cell well written? are there characters that may not allow future analysis?\n",
        "\n",
        "Let's check some data:"
      ]
    },
    {
      "cell_type": "code",
      "execution_count": 1,
      "metadata": {
        "id": "niGinL5LBeYw"
      },
      "outputs": [],
      "source": [
        "import os"
      ]
    },
    {
      "cell_type": "code",
      "execution_count": 2,
      "metadata": {
        "colab": {
          "base_uri": "https://localhost:8080/"
        },
        "id": "kWs0WyorVg44",
        "outputId": "e4c3b415-49d6-4cb6-840f-85fbd5e96c91"
      },
      "outputs": [
        {
          "output_type": "stream",
          "name": "stdout",
          "text": [
            "Name: openpyxl\n",
            "Version: 3.1.2\n",
            "Summary: A Python library to read/write Excel 2010 xlsx/xlsm files\n",
            "Home-page: https://openpyxl.readthedocs.io\n",
            "Author: See AUTHORS\n",
            "Author-email: charlie.clark@clark-consulting.eu\n",
            "License: MIT\n",
            "Location: /usr/local/lib/python3.10/dist-packages\n",
            "Requires: et-xmlfile\n",
            "Required-by: \n"
          ]
        }
      ],
      "source": [
        "pip show openpyxl"
      ]
    },
    {
      "cell_type": "code",
      "execution_count": 3,
      "metadata": {
        "id": "oJ605_6bViBf"
      },
      "outputs": [],
      "source": [
        "import pandas as pd"
      ]
    },
    {
      "cell_type": "code",
      "execution_count": 4,
      "metadata": {
        "id": "Tz9aHkuZVi6I"
      },
      "outputs": [],
      "source": [
        "folder=\"data\"\n",
        "fileName=\"Edificaciones.xlsx\"\n",
        "fileToRead=os.path.join(folder,fileName)"
      ]
    },
    {
      "cell_type": "code",
      "execution_count": 5,
      "metadata": {
        "id": "JBoZUam6VklY"
      },
      "outputs": [],
      "source": [
        "fileName=\"Edificaciones.xlsx\"\n",
        "fileToRead=os.path.join(folder,fileName)\n",
        "\n",
        "dataExcel=pd.read_excel(fileToRead)"
      ]
    },
    {
      "cell_type": "code",
      "execution_count": 6,
      "metadata": {
        "id": "xxXyTU4wlEdm"
      },
      "outputs": [],
      "source": [
        "df_ordenado = dataExcel.sort_values(by='CODIGO_\\nENTIDAD', ascending=True)"
      ]
    },
    {
      "cell_type": "code",
      "execution_count": 7,
      "metadata": {
        "colab": {
          "base_uri": "https://localhost:8080/"
        },
        "id": "0LPJAi-cVm3J",
        "outputId": "6e30de6c-b759-4956-ba8e-cffa11a54d8d"
      },
      "outputs": [
        {
          "output_type": "stream",
          "name": "stdout",
          "text": [
            "<class 'pandas.core.frame.DataFrame'>\n",
            "Int64Index: 180 entries, 0 to 179\n",
            "Data columns (total 31 columns):\n",
            " #   Column                    Non-Null Count  Dtype \n",
            "---  ------                    --------------  ----- \n",
            " 0   CODIGO_\n",
            "ENTIDAD           180 non-null    int64 \n",
            " 1   CODIGO_\n",
            "UBIGEO            180 non-null    int64 \n",
            " 2   CODIGO_\n",
            "PAIS              180 non-null    object\n",
            " 3   DEPARTAMENTO              180 non-null    object\n",
            " 4   PROVINCIA                 180 non-null    object\n",
            " 5   DISTRITO                  180 non-null    object\n",
            " 6   NOMBRE_UO                 180 non-null    object\n",
            " 7   GOBIERNO_LOCAL            180 non-null    object\n",
            " 8   RUC_GOBIERNO\n",
            "_LOCAL       180 non-null    int64 \n",
            " 9   NUMERO_\n",
            "EXPEDIENTE        180 non-null    object\n",
            " 10  FECHA_\n",
            "INICIO_\n",
            "TRAMITE    86 non-null     object\n",
            " 11  FECHA_\n",
            "EMISION_TRAMITE    168 non-null    object\n",
            " 12  NRO_RESOLUCION_\n",
            "LICENCIA  171 non-null    object\n",
            " 13  TIPO_DOC_\n",
            "SOLICITANTE     151 non-null    object\n",
            " 14  NRO_DOC_\n",
            "SOLICITANTE      151 non-null    object\n",
            " 15  UBICACION_PREDIO          180 non-null    object\n",
            " 16  ZONIFICACION_\n",
            "PREDIO      150 non-null    object\n",
            " 17  TIPO_DE_USO               150 non-null    object\n",
            " 18  TIPO_ALTURA               180 non-null    object\n",
            " 19  DETALLE_ALTURA            150 non-null    object\n",
            " 20  MODALIDAD_\n",
            "APROBACION     150 non-null    object\n",
            " 21  \n",
            "TIPO_OBRA                149 non-null    object\n",
            " 22  OBRA_\n",
            "NUEVA               150 non-null    object\n",
            " 23  OBRA_\n",
            "DEMOLICIÓN          149 non-null    object\n",
            " 24  OBRA_\n",
            "REMODELACIÓN        150 non-null    object\n",
            " 25  OBRA_\n",
            "AMPLIACIÓN          150 non-null    object\n",
            " 26  OBRA_\n",
            "REFACCIÓN           150 non-null    object\n",
            " 27  OBRA_\n",
            "CERCO               150 non-null    object\n",
            " 28  AREA_TOTAL_\n",
            "CONSTRUIDA    150 non-null    object\n",
            " 29  VALOR_\n",
            "OBRA               150 non-null    object\n",
            " 30  FECHA_\n",
            "CORTE              180 non-null    int64 \n",
            "dtypes: int64(4), object(27)\n",
            "memory usage: 45.0+ KB\n"
          ]
        }
      ],
      "source": [
        "df_ordenado.info()"
      ]
    },
    {
      "cell_type": "markdown",
      "metadata": {
        "id": "WRdK0UZ_BeYw"
      },
      "source": [
        "Let's keep the first one:"
      ]
    },
    {
      "cell_type": "markdown",
      "metadata": {
        "id": "LtSR4-fTBeYw"
      },
      "source": [
        "## 1. Clean headers"
      ]
    },
    {
      "cell_type": "code",
      "execution_count": 8,
      "metadata": {
        "colab": {
          "base_uri": "https://localhost:8080/"
        },
        "id": "Uv9H1gdlBeYw",
        "outputId": "1f63de55-ca86-421e-e46b-3cc6ccec6e4d"
      },
      "outputs": [
        {
          "output_type": "execute_result",
          "data": {
            "text/plain": [
              "Index(['CODIGO_\\nENTIDAD', 'CODIGO_\\nUBIGEO', 'CODIGO_\\nPAIS', 'DEPARTAMENTO',\n",
              "       'PROVINCIA', 'DISTRITO', 'NOMBRE_UO', 'GOBIERNO_LOCAL',\n",
              "       'RUC_GOBIERNO\\n_LOCAL', 'NUMERO_\\nEXPEDIENTE',\n",
              "       'FECHA_\\nINICIO_\\nTRAMITE', 'FECHA_\\nEMISION_TRAMITE',\n",
              "       'NRO_RESOLUCION_\\nLICENCIA', 'TIPO_DOC_\\nSOLICITANTE',\n",
              "       'NRO_DOC_\\nSOLICITANTE', 'UBICACION_PREDIO', 'ZONIFICACION_\\nPREDIO',\n",
              "       'TIPO_DE_USO', 'TIPO_ALTURA', 'DETALLE_ALTURA',\n",
              "       'MODALIDAD_\\nAPROBACION', '\\nTIPO_OBRA', 'OBRA_\\nNUEVA',\n",
              "       'OBRA_\\nDEMOLICIÓN ', 'OBRA_\\nREMODELACIÓN ', 'OBRA_\\nAMPLIACIÓN ',\n",
              "       'OBRA_\\nREFACCIÓN ', 'OBRA_\\nCERCO ', 'AREA_TOTAL_\\nCONSTRUIDA ',\n",
              "       'VALOR_\\nOBRA', 'FECHA_\\nCORTE'],\n",
              "      dtype='object')"
            ]
          },
          "metadata": {},
          "execution_count": 8
        }
      ],
      "source": [
        "# check headers\n",
        "df_ordenado.columns"
      ]
    },
    {
      "cell_type": "markdown",
      "metadata": {
        "id": "i1vJCfoGBeYx"
      },
      "source": [
        "Cleaning requires a strategy. In the strings above your main problem is the footnotes and the quasi-duplicates."
      ]
    },
    {
      "cell_type": "code",
      "execution_count": 9,
      "metadata": {
        "colab": {
          "base_uri": "https://localhost:8080/"
        },
        "id": "wzl2jRbkBeYx",
        "outputId": "cb72ceae-72ce-4ceb-e6a2-b32356dc8198"
      },
      "outputs": [
        {
          "output_type": "execute_result",
          "data": {
            "text/plain": [
              "Index(['CODIGO_\\nENTIDAD', 'CODIGO_\\nUBIGEO', 'CODIGO_\\nPAIS',\n",
              "       'NUMERO_\\nEXPEDIENTE', 'FECHA_\\nINICIO_\\nTRAMITE',\n",
              "       'FECHA_\\nEMISION_TRAMITE', 'NRO_RESOLUCION_\\nLICENCIA',\n",
              "       'TIPO_DOC_\\nSOLICITANTE', 'NRO_DOC_\\nSOLICITANTE',\n",
              "       'ZONIFICACION_\\nPREDIO', 'MODALIDAD_\\nAPROBACION', 'OBRA_\\nNUEVA',\n",
              "       'OBRA_\\nDEMOLICIÓN ', 'OBRA_\\nREMODELACIÓN ', 'OBRA_\\nAMPLIACIÓN ',\n",
              "       'OBRA_\\nREFACCIÓN ', 'OBRA_\\nCERCO ', 'AREA_TOTAL_\\nCONSTRUIDA ',\n",
              "       'VALOR_\\nOBRA', 'FECHA_\\nCORTE'],\n",
              "      dtype='object')"
            ]
          },
          "metadata": {},
          "execution_count": 9
        }
      ],
      "source": [
        "# the quasi duplicates\n",
        "nColumns=df_ordenado.columns[df_ordenado.columns.str.contains('_\\n')]\n",
        "nColumns"
      ]
    },
    {
      "cell_type": "code",
      "execution_count": 10,
      "metadata": {
        "colab": {
          "base_uri": "https://localhost:8080/"
        },
        "id": "lCYkZ-KtBeYx",
        "outputId": "18b256b0-b873-4e8c-9292-8efe07a327ce"
      },
      "outputs": [
        {
          "output_type": "execute_result",
          "data": {
            "text/plain": [
              "Index(['DEPARTAMENTO', 'PROVINCIA', 'DISTRITO', 'NOMBRE_UO', 'GOBIERNO_LOCAL',\n",
              "       'RUC_GOBIERNO\\n_LOCAL', 'UBICACION_PREDIO', 'TIPO_DE_USO',\n",
              "       'TIPO_ALTURA', 'DETALLE_ALTURA', '\\nTIPO_OBRA'],\n",
              "      dtype='object')"
            ]
          },
          "metadata": {},
          "execution_count": 10
        }
      ],
      "source": [
        "# the not quasi duplicates\n",
        "df_ordenado.columns[~df_ordenado.columns.str.contains('_\\n')]"
      ]
    },
    {
      "cell_type": "markdown",
      "metadata": {
        "id": "jGA_XT-ZBeYx"
      },
      "source": [
        "Let's keep the last ones without the footnotes, let's _divide and conquer_ using **split()**:"
      ]
    },
    {
      "cell_type": "code",
      "execution_count": 11,
      "metadata": {
        "colab": {
          "base_uri": "https://localhost:8080/"
        },
        "id": "u1BVZ1yUBeYx",
        "outputId": "f8e48ff1-aa1c-4194-d8ea-4d7d0142f6bf"
      },
      "outputs": [
        {
          "output_type": "execute_result",
          "data": {
            "text/plain": [
              "Index(['NOMBRE_UO', 'GOBIERNO_LOCAL', 'UBICACION_PREDIO', 'TIPO_DE_USO',\n",
              "       'TIPO_ALTURA', 'DETALLE_ALTURA'],\n",
              "      dtype='object')"
            ]
          },
          "metadata": {},
          "execution_count": 11
        }
      ],
      "source": [
        "# save the last one but the first ones:\n",
        "notnColumns=df_ordenado.columns[~df_ordenado.columns.str.contains('\\n')][3:]\n",
        "notnColumns"
      ]
    },
    {
      "cell_type": "markdown",
      "metadata": {
        "id": "ui5wA2Ss6Yo6"
      },
      "source": [
        "NOT N COLUMNS"
      ]
    },
    {
      "cell_type": "code",
      "execution_count": 12,
      "metadata": {
        "colab": {
          "base_uri": "https://localhost:8080/"
        },
        "id": "XnCm_PhhBeYx",
        "outputId": "cf099cd4-f1ad-4353-c5aa-5d95f58982e9"
      },
      "outputs": [
        {
          "output_type": "execute_result",
          "data": {
            "text/plain": [
              "[['NOMBRE', 'UO'],\n",
              " ['GOBIERNO', 'LOCAL'],\n",
              " ['UBICACION', 'PREDIO'],\n",
              " ['TIPO', 'DE', 'USO'],\n",
              " ['TIPO', 'ALTURA'],\n",
              " ['DETALLE', 'ALTURA']]"
            ]
          },
          "metadata": {},
          "execution_count": 12
        }
      ],
      "source": [
        "# using list comprehension\n",
        "notnColumns1=[element.split('_') for element in notnColumns]\n",
        "notnColumns1"
      ]
    },
    {
      "cell_type": "code",
      "execution_count": 13,
      "metadata": {
        "id": "twz73jplj5cJ"
      },
      "outputs": [],
      "source": [
        "notnColumns2 = []"
      ]
    },
    {
      "cell_type": "code",
      "execution_count": 14,
      "metadata": {
        "colab": {
          "base_uri": "https://localhost:8080/"
        },
        "id": "A9z4IUc1j8dq",
        "outputId": "b38b9bf6-e39f-4ebd-8985-d5e5add0c2fc"
      },
      "outputs": [
        {
          "output_type": "execute_result",
          "data": {
            "text/plain": [
              "['NOMBRE UO',\n",
              " 'GOBIERNO LOCAL',\n",
              " 'UBICACION PREDIO',\n",
              " 'TIPO DE USO',\n",
              " 'TIPO ALTURA',\n",
              " 'DETALLE ALTURA']"
            ]
          },
          "metadata": {},
          "execution_count": 14
        }
      ],
      "source": [
        "for element in notnColumns1:\n",
        "    nElement = ' '.join(element)\n",
        "    notnColumns2.append(nElement)\n",
        "notnColumns2"
      ]
    },
    {
      "cell_type": "markdown",
      "metadata": {
        "id": "clqD7Y1Q4PqH"
      },
      "source": [
        "RUC GOBIERNO LOCAL"
      ]
    },
    {
      "cell_type": "code",
      "execution_count": 15,
      "metadata": {
        "colab": {
          "base_uri": "https://localhost:8080/"
        },
        "id": "bmTCuI3i4PXf",
        "outputId": "ebf1eb49-fd0c-4ac4-95ad-d71b2e322f48"
      },
      "outputs": [
        {
          "output_type": "execute_result",
          "data": {
            "text/plain": [
              "Index(['RUC_GOBIERNO\\n_LOCAL'], dtype='object')"
            ]
          },
          "metadata": {},
          "execution_count": 15
        }
      ],
      "source": [
        "RUCnColumns=df_ordenado.columns[df_ordenado.columns.str.contains('RUC')]\n",
        "RUCnColumns"
      ]
    },
    {
      "cell_type": "code",
      "execution_count": 16,
      "metadata": {
        "colab": {
          "base_uri": "https://localhost:8080/"
        },
        "id": "sFIoatFm6sOB",
        "outputId": "79dd329f-e62b-4e54-9137-08d78e34bc66"
      },
      "outputs": [
        {
          "output_type": "execute_result",
          "data": {
            "text/plain": [
              "[['RUC_GOBIERNO', 'LOCAL']]"
            ]
          },
          "metadata": {},
          "execution_count": 16
        }
      ],
      "source": [
        "RUCnColumns1=[element.split('\\n_') for element in RUCnColumns]\n",
        "RUCnColumns1"
      ]
    },
    {
      "cell_type": "code",
      "execution_count": 17,
      "metadata": {
        "id": "kYtak0Pv6wCO"
      },
      "outputs": [],
      "source": [
        "RUCnColumns2 = []"
      ]
    },
    {
      "cell_type": "code",
      "execution_count": 18,
      "metadata": {
        "colab": {
          "base_uri": "https://localhost:8080/"
        },
        "id": "uMY9gWzs6yOV",
        "outputId": "0db9a9d5-30f8-438e-face-69587595cd1e"
      },
      "outputs": [
        {
          "output_type": "execute_result",
          "data": {
            "text/plain": [
              "['RUC_GOBIERNO LOCAL']"
            ]
          },
          "metadata": {},
          "execution_count": 18
        }
      ],
      "source": [
        "for element in RUCnColumns1:\n",
        "    RUCElement = ' '.join(element)\n",
        "    RUCnColumns2.append(RUCElement)\n",
        "RUCnColumns2"
      ]
    },
    {
      "cell_type": "code",
      "execution_count": 19,
      "metadata": {
        "colab": {
          "base_uri": "https://localhost:8080/"
        },
        "id": "KwCYQZKk611g",
        "outputId": "7bb30b70-a227-4843-bf38-f49b2c6a080a"
      },
      "outputs": [
        {
          "output_type": "execute_result",
          "data": {
            "text/plain": [
              "[['RUC', 'GOBIERNO LOCAL']]"
            ]
          },
          "metadata": {},
          "execution_count": 19
        }
      ],
      "source": [
        "RUCnColumns3=[element.split('_') for element in RUCnColumns2]\n",
        "RUCnColumns3"
      ]
    },
    {
      "cell_type": "code",
      "execution_count": 20,
      "metadata": {
        "id": "1B7_D4bu64Rt"
      },
      "outputs": [],
      "source": [
        "RUCnColumns4 = []"
      ]
    },
    {
      "cell_type": "code",
      "execution_count": 21,
      "metadata": {
        "colab": {
          "base_uri": "https://localhost:8080/"
        },
        "id": "YLIGZSgG69g0",
        "outputId": "1c60413c-6d32-4676-c545-d9f9996a8239"
      },
      "outputs": [
        {
          "output_type": "execute_result",
          "data": {
            "text/plain": [
              "['RUC GOBIERNO LOCAL']"
            ]
          },
          "metadata": {},
          "execution_count": 21
        }
      ],
      "source": [
        "for element in RUCnColumns3:\n",
        "    RUCElement1 = ' '.join(element)\n",
        "    RUCnColumns4.append(RUCElement1)\n",
        "RUCnColumns4"
      ]
    },
    {
      "cell_type": "markdown",
      "metadata": {
        "id": "QOsvKU_A7fvp"
      },
      "source": [
        "TIPO DE OBRA"
      ]
    },
    {
      "cell_type": "code",
      "execution_count": 22,
      "metadata": {
        "colab": {
          "base_uri": "https://localhost:8080/"
        },
        "id": "Xwfqt7SU7ghB",
        "outputId": "30527916-1a0f-45c6-86a3-e79abef4a7fa"
      },
      "outputs": [
        {
          "output_type": "execute_result",
          "data": {
            "text/plain": [
              "Index(['\\nTIPO_OBRA'], dtype='object')"
            ]
          },
          "metadata": {},
          "execution_count": 22
        }
      ],
      "source": [
        "OBRAnColumns=df_ordenado.columns[df_ordenado.columns.str.contains('TIPO_OBRA')]\n",
        "OBRAnColumns"
      ]
    },
    {
      "cell_type": "code",
      "execution_count": 23,
      "metadata": {
        "colab": {
          "base_uri": "https://localhost:8080/"
        },
        "id": "xRAUrFGQ7jKA",
        "outputId": "6984ed9b-550c-4d66-df59-113ee6bcb662"
      },
      "outputs": [
        {
          "output_type": "execute_result",
          "data": {
            "text/plain": [
              "['TIPO_OBRA']"
            ]
          },
          "metadata": {},
          "execution_count": 23
        }
      ],
      "source": [
        "OBRAnColumns1=[element.strip('\\n') for element in OBRAnColumns]\n",
        "OBRAnColumns1"
      ]
    },
    {
      "cell_type": "code",
      "execution_count": 24,
      "metadata": {
        "colab": {
          "base_uri": "https://localhost:8080/"
        },
        "id": "ndwiiZhZ7mu5",
        "outputId": "71207fe3-c7b2-4650-effe-207e1c7eae4f"
      },
      "outputs": [
        {
          "output_type": "execute_result",
          "data": {
            "text/plain": [
              "[['TIPO', 'OBRA']]"
            ]
          },
          "metadata": {},
          "execution_count": 24
        }
      ],
      "source": [
        "OBRAnColumns2=[element.split('_') for element in OBRAnColumns1]\n",
        "OBRAnColumns2"
      ]
    },
    {
      "cell_type": "code",
      "execution_count": 25,
      "metadata": {
        "id": "f8l4_o8y7nlR"
      },
      "outputs": [],
      "source": [
        "OBRAnColumns3 = []"
      ]
    },
    {
      "cell_type": "code",
      "execution_count": 26,
      "metadata": {
        "colab": {
          "base_uri": "https://localhost:8080/"
        },
        "id": "uVRW4dri7nxw",
        "outputId": "68d0bc51-971a-42a0-9446-24755b0a56b9"
      },
      "outputs": [
        {
          "output_type": "execute_result",
          "data": {
            "text/plain": [
              "['TIPO OBRA']"
            ]
          },
          "metadata": {},
          "execution_count": 26
        }
      ],
      "source": [
        "for element in OBRAnColumns2:\n",
        "    OBRAElement1 = ' '.join(element)\n",
        "    OBRAnColumns3.append(OBRAElement1)\n",
        "OBRAnColumns3"
      ]
    },
    {
      "cell_type": "markdown",
      "metadata": {
        "id": "jtbyihlimGzj"
      },
      "source": [
        "N COLUMNS"
      ]
    },
    {
      "cell_type": "code",
      "execution_count": 27,
      "metadata": {
        "colab": {
          "base_uri": "https://localhost:8080/"
        },
        "id": "N8MsKWxd8Tw_",
        "outputId": "963c0606-82f6-4e59-ff2b-ff9865ff4a88"
      },
      "outputs": [
        {
          "output_type": "execute_result",
          "data": {
            "text/plain": [
              "['CODIGO_\\nENTIDAD',\n",
              " 'CODIGO_\\nUBIGEO',\n",
              " 'CODIGO_\\nPAIS',\n",
              " 'NUMERO_\\nEXPEDIENTE',\n",
              " 'FECHA_\\nINICIO_\\nTRAMITE',\n",
              " 'FECHA_\\nEMISION_TRAMITE',\n",
              " 'NRO_RESOLUCION_\\nLICENCIA',\n",
              " 'TIPO_DOC_\\nSOLICITANTE',\n",
              " 'NRO_DOC_\\nSOLICITANTE',\n",
              " 'ZONIFICACION_\\nPREDIO',\n",
              " 'MODALIDAD_\\nAPROBACION',\n",
              " 'OBRA_\\nNUEVA',\n",
              " 'OBRA_\\nDEMOLICIÓN',\n",
              " 'OBRA_\\nREMODELACIÓN',\n",
              " 'OBRA_\\nAMPLIACIÓN',\n",
              " 'OBRA_\\nREFACCIÓN',\n",
              " 'OBRA_\\nCERCO',\n",
              " 'AREA_TOTAL_\\nCONSTRUIDA',\n",
              " 'VALOR_\\nOBRA',\n",
              " 'FECHA_\\nCORTE']"
            ]
          },
          "metadata": {},
          "execution_count": 27
        }
      ],
      "source": [
        "nColumnsa=[element.strip(' ') for element in nColumns]\n",
        "nColumnsa"
      ]
    },
    {
      "cell_type": "code",
      "execution_count": 28,
      "metadata": {
        "colab": {
          "base_uri": "https://localhost:8080/"
        },
        "id": "8R-3ApAamJyD",
        "outputId": "39983c9e-ed88-4be3-ec78-cfd5af710117"
      },
      "outputs": [
        {
          "output_type": "execute_result",
          "data": {
            "text/plain": [
              "[['CODIGO', 'ENTIDAD'],\n",
              " ['CODIGO', 'UBIGEO'],\n",
              " ['CODIGO', 'PAIS'],\n",
              " ['NUMERO', 'EXPEDIENTE'],\n",
              " ['FECHA', 'INICIO', 'TRAMITE'],\n",
              " ['FECHA', 'EMISION_TRAMITE'],\n",
              " ['NRO_RESOLUCION', 'LICENCIA'],\n",
              " ['TIPO_DOC', 'SOLICITANTE'],\n",
              " ['NRO_DOC', 'SOLICITANTE'],\n",
              " ['ZONIFICACION', 'PREDIO'],\n",
              " ['MODALIDAD', 'APROBACION'],\n",
              " ['OBRA', 'NUEVA'],\n",
              " ['OBRA', 'DEMOLICIÓN'],\n",
              " ['OBRA', 'REMODELACIÓN'],\n",
              " ['OBRA', 'AMPLIACIÓN'],\n",
              " ['OBRA', 'REFACCIÓN'],\n",
              " ['OBRA', 'CERCO'],\n",
              " ['AREA_TOTAL', 'CONSTRUIDA'],\n",
              " ['VALOR', 'OBRA'],\n",
              " ['FECHA', 'CORTE']]"
            ]
          },
          "metadata": {},
          "execution_count": 28
        }
      ],
      "source": [
        "nColumns1=[element.split('_\\n') for element in nColumnsa]\n",
        "nColumns1"
      ]
    },
    {
      "cell_type": "code",
      "execution_count": 29,
      "metadata": {
        "id": "MTa9d2yS-x3G"
      },
      "outputs": [],
      "source": [
        "nColumns2 = []"
      ]
    },
    {
      "cell_type": "code",
      "execution_count": 30,
      "metadata": {
        "colab": {
          "base_uri": "https://localhost:8080/"
        },
        "id": "CtcBn2apyZmu",
        "outputId": "e42b4314-8e9a-4d11-c721-bcb661c92fa5"
      },
      "outputs": [
        {
          "output_type": "execute_result",
          "data": {
            "text/plain": [
              "['CODIGO ENTIDAD',\n",
              " 'CODIGO UBIGEO',\n",
              " 'CODIGO PAIS',\n",
              " 'NUMERO EXPEDIENTE',\n",
              " 'FECHA INICIO TRAMITE',\n",
              " 'FECHA EMISION_TRAMITE',\n",
              " 'NRO_RESOLUCION LICENCIA',\n",
              " 'TIPO_DOC SOLICITANTE',\n",
              " 'NRO_DOC SOLICITANTE',\n",
              " 'ZONIFICACION PREDIO',\n",
              " 'MODALIDAD APROBACION',\n",
              " 'OBRA NUEVA',\n",
              " 'OBRA DEMOLICIÓN',\n",
              " 'OBRA REMODELACIÓN',\n",
              " 'OBRA AMPLIACIÓN',\n",
              " 'OBRA REFACCIÓN',\n",
              " 'OBRA CERCO',\n",
              " 'AREA_TOTAL CONSTRUIDA',\n",
              " 'VALOR OBRA',\n",
              " 'FECHA CORTE']"
            ]
          },
          "metadata": {},
          "execution_count": 30
        }
      ],
      "source": [
        "for element in nColumns1:\n",
        "    nElement2 = ' '.join(element)\n",
        "    nColumns2.append(nElement2)\n",
        "nColumns2"
      ]
    },
    {
      "cell_type": "code",
      "execution_count": 31,
      "metadata": {
        "colab": {
          "base_uri": "https://localhost:8080/"
        },
        "id": "KfTgIxn_xTdO",
        "outputId": "c1f2c2a4-1595-49ba-e4c8-2517322192c2"
      },
      "outputs": [
        {
          "output_type": "execute_result",
          "data": {
            "text/plain": [
              "[['CODIGO ENTIDAD'],\n",
              " ['CODIGO UBIGEO'],\n",
              " ['CODIGO PAIS'],\n",
              " ['NUMERO EXPEDIENTE'],\n",
              " ['FECHA INICIO TRAMITE'],\n",
              " ['FECHA EMISION', 'TRAMITE'],\n",
              " ['NRO', 'RESOLUCION LICENCIA'],\n",
              " ['TIPO', 'DOC SOLICITANTE'],\n",
              " ['NRO', 'DOC SOLICITANTE'],\n",
              " ['ZONIFICACION PREDIO'],\n",
              " ['MODALIDAD APROBACION'],\n",
              " ['OBRA NUEVA'],\n",
              " ['OBRA DEMOLICIÓN'],\n",
              " ['OBRA REMODELACIÓN'],\n",
              " ['OBRA AMPLIACIÓN'],\n",
              " ['OBRA REFACCIÓN'],\n",
              " ['OBRA CERCO'],\n",
              " ['AREA', 'TOTAL CONSTRUIDA'],\n",
              " ['VALOR OBRA'],\n",
              " ['FECHA CORTE']]"
            ]
          },
          "metadata": {},
          "execution_count": 31
        }
      ],
      "source": [
        "nColumns3=[element.split('_') for element in nColumns2]\n",
        "nColumns3"
      ]
    },
    {
      "cell_type": "code",
      "execution_count": 32,
      "metadata": {
        "id": "v3m0TaTZdgUd"
      },
      "outputs": [],
      "source": [
        "nColumns4 = []"
      ]
    },
    {
      "cell_type": "code",
      "execution_count": 33,
      "metadata": {
        "colab": {
          "base_uri": "https://localhost:8080/"
        },
        "id": "sXX_MeiJdiMQ",
        "outputId": "5957d061-e2b5-4cbb-9309-0189dc4f0f85"
      },
      "outputs": [
        {
          "output_type": "execute_result",
          "data": {
            "text/plain": [
              "['CODIGO ENTIDAD',\n",
              " 'CODIGO UBIGEO',\n",
              " 'CODIGO PAIS',\n",
              " 'NUMERO EXPEDIENTE',\n",
              " 'FECHA INICIO TRAMITE',\n",
              " 'FECHA EMISION TRAMITE',\n",
              " 'NRO RESOLUCION LICENCIA',\n",
              " 'TIPO DOC SOLICITANTE',\n",
              " 'NRO DOC SOLICITANTE',\n",
              " 'ZONIFICACION PREDIO',\n",
              " 'MODALIDAD APROBACION',\n",
              " 'OBRA NUEVA',\n",
              " 'OBRA DEMOLICIÓN',\n",
              " 'OBRA REMODELACIÓN',\n",
              " 'OBRA AMPLIACIÓN',\n",
              " 'OBRA REFACCIÓN',\n",
              " 'OBRA CERCO',\n",
              " 'AREA TOTAL CONSTRUIDA',\n",
              " 'VALOR OBRA',\n",
              " 'FECHA CORTE']"
            ]
          },
          "metadata": {},
          "execution_count": 33
        }
      ],
      "source": [
        "for element in nColumns3:\n",
        "    elementn = ' '.join(element)\n",
        "    nColumns4.append(elementn)\n",
        "nColumns4"
      ]
    },
    {
      "cell_type": "code",
      "execution_count": 34,
      "metadata": {
        "colab": {
          "base_uri": "https://localhost:8080/"
        },
        "id": "sCqIss8r3vaA",
        "outputId": "6815d732-07ad-4474-b8e0-d693b458e3dc"
      },
      "outputs": [
        {
          "output_type": "execute_result",
          "data": {
            "text/plain": [
              "{'NOMBRE_UO': 'NOMBRE UO',\n",
              " 'GOBIERNO_LOCAL': 'GOBIERNO LOCAL',\n",
              " 'UBICACION_PREDIO': 'UBICACION PREDIO',\n",
              " 'TIPO_DE_USO': 'TIPO DE USO',\n",
              " 'TIPO_ALTURA': 'TIPO ALTURA',\n",
              " 'DETALLE_ALTURA': 'DETALLE ALTURA'}"
            ]
          },
          "metadata": {},
          "execution_count": 34
        }
      ],
      "source": [
        "change={old:new for old,new in zip(notnColumns,notnColumns2)}\n",
        "change"
      ]
    },
    {
      "cell_type": "code",
      "execution_count": 35,
      "metadata": {
        "colab": {
          "base_uri": "https://localhost:8080/"
        },
        "id": "nqPth78h34n_",
        "outputId": "7ca5935b-cc50-47ac-f962-0180e007a2f3"
      },
      "outputs": [
        {
          "output_type": "execute_result",
          "data": {
            "text/plain": [
              "{'CODIGO_\\nENTIDAD': 'CODIGO ENTIDAD',\n",
              " 'CODIGO_\\nUBIGEO': 'CODIGO UBIGEO',\n",
              " 'CODIGO_\\nPAIS': 'CODIGO PAIS',\n",
              " 'NUMERO_\\nEXPEDIENTE': 'NUMERO EXPEDIENTE',\n",
              " 'FECHA_\\nINICIO_\\nTRAMITE': 'FECHA INICIO TRAMITE',\n",
              " 'FECHA_\\nEMISION_TRAMITE': 'FECHA EMISION TRAMITE',\n",
              " 'NRO_RESOLUCION_\\nLICENCIA': 'NRO RESOLUCION LICENCIA',\n",
              " 'TIPO_DOC_\\nSOLICITANTE': 'TIPO DOC SOLICITANTE',\n",
              " 'NRO_DOC_\\nSOLICITANTE': 'NRO DOC SOLICITANTE',\n",
              " 'ZONIFICACION_\\nPREDIO': 'ZONIFICACION PREDIO',\n",
              " 'MODALIDAD_\\nAPROBACION': 'MODALIDAD APROBACION',\n",
              " 'OBRA_\\nNUEVA': 'OBRA NUEVA',\n",
              " 'OBRA_\\nDEMOLICIÓN ': 'OBRA DEMOLICIÓN',\n",
              " 'OBRA_\\nREMODELACIÓN ': 'OBRA REMODELACIÓN',\n",
              " 'OBRA_\\nAMPLIACIÓN ': 'OBRA AMPLIACIÓN',\n",
              " 'OBRA_\\nREFACCIÓN ': 'OBRA REFACCIÓN',\n",
              " 'OBRA_\\nCERCO ': 'OBRA CERCO',\n",
              " 'AREA_TOTAL_\\nCONSTRUIDA ': 'AREA TOTAL CONSTRUIDA',\n",
              " 'VALOR_\\nOBRA': 'VALOR OBRA',\n",
              " 'FECHA_\\nCORTE': 'FECHA CORTE'}"
            ]
          },
          "metadata": {},
          "execution_count": 35
        }
      ],
      "source": [
        "change2={old:new for old,new in zip(nColumns,nColumns4)}\n",
        "change2"
      ]
    },
    {
      "cell_type": "code",
      "execution_count": 36,
      "metadata": {
        "colab": {
          "base_uri": "https://localhost:8080/"
        },
        "id": "1sL_A9EO-6Iz",
        "outputId": "2e37d40a-9fac-4ae2-85b6-33238e1f8d74"
      },
      "outputs": [
        {
          "output_type": "execute_result",
          "data": {
            "text/plain": [
              "{'\\nTIPO_OBRA': 'TIPO OBRA'}"
            ]
          },
          "metadata": {},
          "execution_count": 36
        }
      ],
      "source": [
        "change3={old:new for old,new in zip(OBRAnColumns,OBRAnColumns3)}\n",
        "change3"
      ]
    },
    {
      "cell_type": "code",
      "execution_count": 37,
      "metadata": {
        "colab": {
          "base_uri": "https://localhost:8080/"
        },
        "id": "CnuZ2x7Z_Dsj",
        "outputId": "8b7adb62-5d84-4e8a-f165-b96ec2d64f56"
      },
      "outputs": [
        {
          "output_type": "execute_result",
          "data": {
            "text/plain": [
              "{'RUC_GOBIERNO\\n_LOCAL': 'RUC GOBIERNO LOCAL'}"
            ]
          },
          "metadata": {},
          "execution_count": 37
        }
      ],
      "source": [
        "change4={old:new for old,new in zip(RUCnColumns,RUCnColumns4)}\n",
        "change4"
      ]
    },
    {
      "cell_type": "code",
      "execution_count": 38,
      "metadata": {
        "colab": {
          "base_uri": "https://localhost:8080/"
        },
        "id": "8-ZLa6_f_S6T",
        "outputId": "0658f0bb-1a8d-4fc0-8a4c-aa88d62ae4e6"
      },
      "outputs": [
        {
          "output_type": "execute_result",
          "data": {
            "text/plain": [
              "{'NOMBRE_UO': 'NOMBRE UO',\n",
              " 'GOBIERNO_LOCAL': 'GOBIERNO LOCAL',\n",
              " 'UBICACION_PREDIO': 'UBICACION PREDIO',\n",
              " 'TIPO_DE_USO': 'TIPO DE USO',\n",
              " 'TIPO_ALTURA': 'TIPO ALTURA',\n",
              " 'DETALLE_ALTURA': 'DETALLE ALTURA',\n",
              " 'CODIGO_\\nENTIDAD': 'CODIGO ENTIDAD',\n",
              " 'CODIGO_\\nUBIGEO': 'CODIGO UBIGEO',\n",
              " 'CODIGO_\\nPAIS': 'CODIGO PAIS',\n",
              " 'NUMERO_\\nEXPEDIENTE': 'NUMERO EXPEDIENTE',\n",
              " 'FECHA_\\nINICIO_\\nTRAMITE': 'FECHA INICIO TRAMITE',\n",
              " 'FECHA_\\nEMISION_TRAMITE': 'FECHA EMISION TRAMITE',\n",
              " 'NRO_RESOLUCION_\\nLICENCIA': 'NRO RESOLUCION LICENCIA',\n",
              " 'TIPO_DOC_\\nSOLICITANTE': 'TIPO DOC SOLICITANTE',\n",
              " 'NRO_DOC_\\nSOLICITANTE': 'NRO DOC SOLICITANTE',\n",
              " 'ZONIFICACION_\\nPREDIO': 'ZONIFICACION PREDIO',\n",
              " 'MODALIDAD_\\nAPROBACION': 'MODALIDAD APROBACION',\n",
              " 'OBRA_\\nNUEVA': 'OBRA NUEVA',\n",
              " 'OBRA_\\nDEMOLICIÓN ': 'OBRA DEMOLICIÓN',\n",
              " 'OBRA_\\nREMODELACIÓN ': 'OBRA REMODELACIÓN',\n",
              " 'OBRA_\\nAMPLIACIÓN ': 'OBRA AMPLIACIÓN',\n",
              " 'OBRA_\\nREFACCIÓN ': 'OBRA REFACCIÓN',\n",
              " 'OBRA_\\nCERCO ': 'OBRA CERCO',\n",
              " 'AREA_TOTAL_\\nCONSTRUIDA ': 'AREA TOTAL CONSTRUIDA',\n",
              " 'VALOR_\\nOBRA': 'VALOR OBRA',\n",
              " 'FECHA_\\nCORTE': 'FECHA CORTE'}"
            ]
          },
          "metadata": {},
          "execution_count": 38
        }
      ],
      "source": [
        "change.update(change2)\n",
        "change"
      ]
    },
    {
      "cell_type": "code",
      "execution_count": 39,
      "metadata": {
        "colab": {
          "base_uri": "https://localhost:8080/"
        },
        "id": "SoSrniWl_Uu8",
        "outputId": "3e8aaaaa-a0f7-4ea7-c837-f314e7e3fc80"
      },
      "outputs": [
        {
          "output_type": "execute_result",
          "data": {
            "text/plain": [
              "{'NOMBRE_UO': 'NOMBRE UO',\n",
              " 'GOBIERNO_LOCAL': 'GOBIERNO LOCAL',\n",
              " 'UBICACION_PREDIO': 'UBICACION PREDIO',\n",
              " 'TIPO_DE_USO': 'TIPO DE USO',\n",
              " 'TIPO_ALTURA': 'TIPO ALTURA',\n",
              " 'DETALLE_ALTURA': 'DETALLE ALTURA',\n",
              " 'CODIGO_\\nENTIDAD': 'CODIGO ENTIDAD',\n",
              " 'CODIGO_\\nUBIGEO': 'CODIGO UBIGEO',\n",
              " 'CODIGO_\\nPAIS': 'CODIGO PAIS',\n",
              " 'NUMERO_\\nEXPEDIENTE': 'NUMERO EXPEDIENTE',\n",
              " 'FECHA_\\nINICIO_\\nTRAMITE': 'FECHA INICIO TRAMITE',\n",
              " 'FECHA_\\nEMISION_TRAMITE': 'FECHA EMISION TRAMITE',\n",
              " 'NRO_RESOLUCION_\\nLICENCIA': 'NRO RESOLUCION LICENCIA',\n",
              " 'TIPO_DOC_\\nSOLICITANTE': 'TIPO DOC SOLICITANTE',\n",
              " 'NRO_DOC_\\nSOLICITANTE': 'NRO DOC SOLICITANTE',\n",
              " 'ZONIFICACION_\\nPREDIO': 'ZONIFICACION PREDIO',\n",
              " 'MODALIDAD_\\nAPROBACION': 'MODALIDAD APROBACION',\n",
              " 'OBRA_\\nNUEVA': 'OBRA NUEVA',\n",
              " 'OBRA_\\nDEMOLICIÓN ': 'OBRA DEMOLICIÓN',\n",
              " 'OBRA_\\nREMODELACIÓN ': 'OBRA REMODELACIÓN',\n",
              " 'OBRA_\\nAMPLIACIÓN ': 'OBRA AMPLIACIÓN',\n",
              " 'OBRA_\\nREFACCIÓN ': 'OBRA REFACCIÓN',\n",
              " 'OBRA_\\nCERCO ': 'OBRA CERCO',\n",
              " 'AREA_TOTAL_\\nCONSTRUIDA ': 'AREA TOTAL CONSTRUIDA',\n",
              " 'VALOR_\\nOBRA': 'VALOR OBRA',\n",
              " 'FECHA_\\nCORTE': 'FECHA CORTE',\n",
              " '\\nTIPO_OBRA': 'TIPO OBRA'}"
            ]
          },
          "metadata": {},
          "execution_count": 39
        }
      ],
      "source": [
        "change.update(change3)\n",
        "change"
      ]
    },
    {
      "cell_type": "code",
      "execution_count": 40,
      "metadata": {
        "colab": {
          "base_uri": "https://localhost:8080/"
        },
        "id": "zwfsO2xF_Y5k",
        "outputId": "5fafc4f9-e005-40ef-a9bb-3d720469d058"
      },
      "outputs": [
        {
          "output_type": "execute_result",
          "data": {
            "text/plain": [
              "{'NOMBRE_UO': 'NOMBRE UO',\n",
              " 'GOBIERNO_LOCAL': 'GOBIERNO LOCAL',\n",
              " 'UBICACION_PREDIO': 'UBICACION PREDIO',\n",
              " 'TIPO_DE_USO': 'TIPO DE USO',\n",
              " 'TIPO_ALTURA': 'TIPO ALTURA',\n",
              " 'DETALLE_ALTURA': 'DETALLE ALTURA',\n",
              " 'CODIGO_\\nENTIDAD': 'CODIGO ENTIDAD',\n",
              " 'CODIGO_\\nUBIGEO': 'CODIGO UBIGEO',\n",
              " 'CODIGO_\\nPAIS': 'CODIGO PAIS',\n",
              " 'NUMERO_\\nEXPEDIENTE': 'NUMERO EXPEDIENTE',\n",
              " 'FECHA_\\nINICIO_\\nTRAMITE': 'FECHA INICIO TRAMITE',\n",
              " 'FECHA_\\nEMISION_TRAMITE': 'FECHA EMISION TRAMITE',\n",
              " 'NRO_RESOLUCION_\\nLICENCIA': 'NRO RESOLUCION LICENCIA',\n",
              " 'TIPO_DOC_\\nSOLICITANTE': 'TIPO DOC SOLICITANTE',\n",
              " 'NRO_DOC_\\nSOLICITANTE': 'NRO DOC SOLICITANTE',\n",
              " 'ZONIFICACION_\\nPREDIO': 'ZONIFICACION PREDIO',\n",
              " 'MODALIDAD_\\nAPROBACION': 'MODALIDAD APROBACION',\n",
              " 'OBRA_\\nNUEVA': 'OBRA NUEVA',\n",
              " 'OBRA_\\nDEMOLICIÓN ': 'OBRA DEMOLICIÓN',\n",
              " 'OBRA_\\nREMODELACIÓN ': 'OBRA REMODELACIÓN',\n",
              " 'OBRA_\\nAMPLIACIÓN ': 'OBRA AMPLIACIÓN',\n",
              " 'OBRA_\\nREFACCIÓN ': 'OBRA REFACCIÓN',\n",
              " 'OBRA_\\nCERCO ': 'OBRA CERCO',\n",
              " 'AREA_TOTAL_\\nCONSTRUIDA ': 'AREA TOTAL CONSTRUIDA',\n",
              " 'VALOR_\\nOBRA': 'VALOR OBRA',\n",
              " 'FECHA_\\nCORTE': 'FECHA CORTE',\n",
              " '\\nTIPO_OBRA': 'TIPO OBRA',\n",
              " 'RUC_GOBIERNO\\n_LOCAL': 'RUC GOBIERNO LOCAL'}"
            ]
          },
          "metadata": {},
          "execution_count": 40
        }
      ],
      "source": [
        "change.update(change4)\n",
        "change"
      ]
    },
    {
      "cell_type": "code",
      "execution_count": 41,
      "metadata": {
        "colab": {
          "base_uri": "https://localhost:8080/"
        },
        "id": "-jpt-rvMCQp-",
        "outputId": "53cc859b-f835-4fb8-9f17-f15b4437c3a2"
      },
      "outputs": [
        {
          "output_type": "execute_result",
          "data": {
            "text/plain": [
              "{'NOMBRE_UO': 'NOMBRE UO',\n",
              " 'GOBIERNO_LOCAL': 'GOBIERNO LOCAL',\n",
              " 'UBICACION_PREDIO': 'UBICACION PREDIO',\n",
              " 'TIPO_DE_USO': 'TIPO DE USO',\n",
              " 'TIPO_ALTURA': 'TIPO ALTURA',\n",
              " 'DETALLE_ALTURA': 'DETALLE ALTURA',\n",
              " 'CODIGO_\\nENTIDAD': 'CODIGO ENTIDAD',\n",
              " 'CODIGO_\\nUBIGEO': 'CODIGO UBIGEO',\n",
              " 'CODIGO_\\nPAIS': 'CODIGO PAIS',\n",
              " 'NUMERO_\\nEXPEDIENTE': 'NUMERO EXPEDIENTE',\n",
              " 'FECHA_\\nINICIO_\\nTRAMITE': 'FECHA INICIO TRAMITE',\n",
              " 'FECHA_\\nEMISION_TRAMITE': 'FECHA EMISION TRAMITE',\n",
              " 'NRO_RESOLUCION_\\nLICENCIA': 'NRO RESOLUCION LICENCIA',\n",
              " 'TIPO_DOC_\\nSOLICITANTE': 'TIPO DOC SOLICITANTE',\n",
              " 'NRO_DOC_\\nSOLICITANTE': 'NRO DOC SOLICITANTE',\n",
              " 'ZONIFICACION_\\nPREDIO': 'ZONIFICACION PREDIO',\n",
              " 'MODALIDAD_\\nAPROBACION': 'MODALIDAD APROBACION',\n",
              " 'OBRA_\\nNUEVA': 'OBRA NUEVA',\n",
              " 'OBRA_\\nDEMOLICIÓN ': 'OBRA DEMOLICIÓN',\n",
              " 'OBRA_\\nREMODELACIÓN ': 'OBRA REMODELACIÓN',\n",
              " 'OBRA_\\nAMPLIACIÓN ': 'OBRA AMPLIACIÓN',\n",
              " 'OBRA_\\nREFACCIÓN ': 'OBRA REFACCIÓN',\n",
              " 'OBRA_\\nCERCO ': 'OBRA CERCO',\n",
              " 'AREA_TOTAL_\\nCONSTRUIDA ': 'AREA TOTAL CONSTRUIDA',\n",
              " 'VALOR_\\nOBRA': 'VALOR OBRA',\n",
              " 'FECHA_\\nCORTE': 'FECHA CORTE',\n",
              " '\\nTIPO_OBRA': 'TIPO OBRA',\n",
              " 'RUC_GOBIERNO\\n_LOCAL': 'RUC GOBIERNO LOCAL'}"
            ]
          },
          "metadata": {},
          "execution_count": 41
        }
      ],
      "source": [
        "change"
      ]
    },
    {
      "cell_type": "code",
      "execution_count": 42,
      "metadata": {
        "colab": {
          "base_uri": "https://localhost:8080/",
          "height": 463
        },
        "id": "M-BfiIjX_buL",
        "outputId": "fa90da2f-d657-4d40-e4f1-4b8ec07a111b"
      },
      "outputs": [
        {
          "output_type": "execute_result",
          "data": {
            "text/plain": [
              "     CODIGO ENTIDAD  CODIGO UBIGEO CODIGO PAIS DEPARTAMENTO PROVINCIA  \\\n",
              "0            301285         150136          PE         Lima      Lima   \n",
              "115          301285         150136          PE         Lima      Lima   \n",
              "116          301285         150136          PE         Lima      Lima   \n",
              "117          301285         150136          PE         Lima      Lima   \n",
              "118          301285         150136          PE         Lima      Lima   \n",
              "\n",
              "       DISTRITO                      NOMBRE UO GOBIERNO LOCAL  \\\n",
              "0    San Miguel  Subgerencia de Obras Privadas     San Miguel   \n",
              "115  San Miguel  Subgerencia de Obras Privadas     San Miguel   \n",
              "116  San Miguel  Subgerencia de Obras Privadas     San Miguel   \n",
              "117  San Miguel  Subgerencia de Obras Privadas     San Miguel   \n",
              "118  San Miguel  Subgerencia de Obras Privadas     San Miguel   \n",
              "\n",
              "     RUC GOBIERNO LOCAL NUMERO EXPEDIENTE  ...                      TIPO OBRA  \\\n",
              "0           20131372184        15636-2022  ...        AMPLIACIÓN/REMODELACIÓN   \n",
              "115         20131372184         7494-2022  ...   LICENCIA DE DEMOLICION TOTAL   \n",
              "116         20131372184         3732-2022  ...  LICENCIA DE EDIFICACION NUEVA   \n",
              "117         20131372184         3947-2022  ...  LICENCIA DE EDIFICACION NUEVA   \n",
              "118         20131372184         3372-2022  ...                            NaN   \n",
              "\n",
              "    OBRA NUEVA OBRA DEMOLICIÓN OBRA REMODELACIÓN OBRA AMPLIACIÓN  \\\n",
              "0            -               -            97,83          208,46    \n",
              "115          -             200                 -               -   \n",
              "116    1688.79               -                 -               -   \n",
              "117    1950.08               -                 -               -   \n",
              "118        NaN             NaN               NaN             NaN   \n",
              "\n",
              "    OBRA REFACCIÓN OBRA CERCO AREA TOTAL CONSTRUIDA  VALOR OBRA FECHA CORTE  \n",
              "0                -          -               208,46   225,652,12    20221231  \n",
              "115              -          -                     -     45455.7    20221231  \n",
              "116              -          -               1688.79  1561032.09    20221231  \n",
              "117              -          -               1950.08  1885715.08    20221231  \n",
              "118            NaN        NaN                   NaN         NaN    20221231  \n",
              "\n",
              "[5 rows x 31 columns]"
            ],
            "text/html": [
              "\n",
              "  <div id=\"df-2b538ccf-f5f7-4e61-b46d-b5eed6b7e55d\" class=\"colab-df-container\">\n",
              "    <div>\n",
              "<style scoped>\n",
              "    .dataframe tbody tr th:only-of-type {\n",
              "        vertical-align: middle;\n",
              "    }\n",
              "\n",
              "    .dataframe tbody tr th {\n",
              "        vertical-align: top;\n",
              "    }\n",
              "\n",
              "    .dataframe thead th {\n",
              "        text-align: right;\n",
              "    }\n",
              "</style>\n",
              "<table border=\"1\" class=\"dataframe\">\n",
              "  <thead>\n",
              "    <tr style=\"text-align: right;\">\n",
              "      <th></th>\n",
              "      <th>CODIGO ENTIDAD</th>\n",
              "      <th>CODIGO UBIGEO</th>\n",
              "      <th>CODIGO PAIS</th>\n",
              "      <th>DEPARTAMENTO</th>\n",
              "      <th>PROVINCIA</th>\n",
              "      <th>DISTRITO</th>\n",
              "      <th>NOMBRE UO</th>\n",
              "      <th>GOBIERNO LOCAL</th>\n",
              "      <th>RUC GOBIERNO LOCAL</th>\n",
              "      <th>NUMERO EXPEDIENTE</th>\n",
              "      <th>...</th>\n",
              "      <th>TIPO OBRA</th>\n",
              "      <th>OBRA NUEVA</th>\n",
              "      <th>OBRA DEMOLICIÓN</th>\n",
              "      <th>OBRA REMODELACIÓN</th>\n",
              "      <th>OBRA AMPLIACIÓN</th>\n",
              "      <th>OBRA REFACCIÓN</th>\n",
              "      <th>OBRA CERCO</th>\n",
              "      <th>AREA TOTAL CONSTRUIDA</th>\n",
              "      <th>VALOR OBRA</th>\n",
              "      <th>FECHA CORTE</th>\n",
              "    </tr>\n",
              "  </thead>\n",
              "  <tbody>\n",
              "    <tr>\n",
              "      <th>0</th>\n",
              "      <td>301285</td>\n",
              "      <td>150136</td>\n",
              "      <td>PE</td>\n",
              "      <td>Lima</td>\n",
              "      <td>Lima</td>\n",
              "      <td>San Miguel</td>\n",
              "      <td>Subgerencia de Obras Privadas</td>\n",
              "      <td>San Miguel</td>\n",
              "      <td>20131372184</td>\n",
              "      <td>15636-2022</td>\n",
              "      <td>...</td>\n",
              "      <td>AMPLIACIÓN/REMODELACIÓN</td>\n",
              "      <td>-</td>\n",
              "      <td>-</td>\n",
              "      <td>97,83</td>\n",
              "      <td>208,46</td>\n",
              "      <td>-</td>\n",
              "      <td>-</td>\n",
              "      <td>208,46</td>\n",
              "      <td>225,652,12</td>\n",
              "      <td>20221231</td>\n",
              "    </tr>\n",
              "    <tr>\n",
              "      <th>115</th>\n",
              "      <td>301285</td>\n",
              "      <td>150136</td>\n",
              "      <td>PE</td>\n",
              "      <td>Lima</td>\n",
              "      <td>Lima</td>\n",
              "      <td>San Miguel</td>\n",
              "      <td>Subgerencia de Obras Privadas</td>\n",
              "      <td>San Miguel</td>\n",
              "      <td>20131372184</td>\n",
              "      <td>7494-2022</td>\n",
              "      <td>...</td>\n",
              "      <td>LICENCIA DE DEMOLICION TOTAL</td>\n",
              "      <td>-</td>\n",
              "      <td>200</td>\n",
              "      <td>-</td>\n",
              "      <td>-</td>\n",
              "      <td>-</td>\n",
              "      <td>-</td>\n",
              "      <td>-</td>\n",
              "      <td>45455.7</td>\n",
              "      <td>20221231</td>\n",
              "    </tr>\n",
              "    <tr>\n",
              "      <th>116</th>\n",
              "      <td>301285</td>\n",
              "      <td>150136</td>\n",
              "      <td>PE</td>\n",
              "      <td>Lima</td>\n",
              "      <td>Lima</td>\n",
              "      <td>San Miguel</td>\n",
              "      <td>Subgerencia de Obras Privadas</td>\n",
              "      <td>San Miguel</td>\n",
              "      <td>20131372184</td>\n",
              "      <td>3732-2022</td>\n",
              "      <td>...</td>\n",
              "      <td>LICENCIA DE EDIFICACION NUEVA</td>\n",
              "      <td>1688.79</td>\n",
              "      <td>-</td>\n",
              "      <td>-</td>\n",
              "      <td>-</td>\n",
              "      <td>-</td>\n",
              "      <td>-</td>\n",
              "      <td>1688.79</td>\n",
              "      <td>1561032.09</td>\n",
              "      <td>20221231</td>\n",
              "    </tr>\n",
              "    <tr>\n",
              "      <th>117</th>\n",
              "      <td>301285</td>\n",
              "      <td>150136</td>\n",
              "      <td>PE</td>\n",
              "      <td>Lima</td>\n",
              "      <td>Lima</td>\n",
              "      <td>San Miguel</td>\n",
              "      <td>Subgerencia de Obras Privadas</td>\n",
              "      <td>San Miguel</td>\n",
              "      <td>20131372184</td>\n",
              "      <td>3947-2022</td>\n",
              "      <td>...</td>\n",
              "      <td>LICENCIA DE EDIFICACION NUEVA</td>\n",
              "      <td>1950.08</td>\n",
              "      <td>-</td>\n",
              "      <td>-</td>\n",
              "      <td>-</td>\n",
              "      <td>-</td>\n",
              "      <td>-</td>\n",
              "      <td>1950.08</td>\n",
              "      <td>1885715.08</td>\n",
              "      <td>20221231</td>\n",
              "    </tr>\n",
              "    <tr>\n",
              "      <th>118</th>\n",
              "      <td>301285</td>\n",
              "      <td>150136</td>\n",
              "      <td>PE</td>\n",
              "      <td>Lima</td>\n",
              "      <td>Lima</td>\n",
              "      <td>San Miguel</td>\n",
              "      <td>Subgerencia de Obras Privadas</td>\n",
              "      <td>San Miguel</td>\n",
              "      <td>20131372184</td>\n",
              "      <td>3372-2022</td>\n",
              "      <td>...</td>\n",
              "      <td>NaN</td>\n",
              "      <td>NaN</td>\n",
              "      <td>NaN</td>\n",
              "      <td>NaN</td>\n",
              "      <td>NaN</td>\n",
              "      <td>NaN</td>\n",
              "      <td>NaN</td>\n",
              "      <td>NaN</td>\n",
              "      <td>NaN</td>\n",
              "      <td>20221231</td>\n",
              "    </tr>\n",
              "  </tbody>\n",
              "</table>\n",
              "<p>5 rows × 31 columns</p>\n",
              "</div>\n",
              "    <div class=\"colab-df-buttons\">\n",
              "\n",
              "  <div class=\"colab-df-container\">\n",
              "    <button class=\"colab-df-convert\" onclick=\"convertToInteractive('df-2b538ccf-f5f7-4e61-b46d-b5eed6b7e55d')\"\n",
              "            title=\"Convert this dataframe to an interactive table.\"\n",
              "            style=\"display:none;\">\n",
              "\n",
              "  <svg xmlns=\"http://www.w3.org/2000/svg\" height=\"24px\" viewBox=\"0 -960 960 960\">\n",
              "    <path d=\"M120-120v-720h720v720H120Zm60-500h600v-160H180v160Zm220 220h160v-160H400v160Zm0 220h160v-160H400v160ZM180-400h160v-160H180v160Zm440 0h160v-160H620v160ZM180-180h160v-160H180v160Zm440 0h160v-160H620v160Z\"/>\n",
              "  </svg>\n",
              "    </button>\n",
              "\n",
              "  <style>\n",
              "    .colab-df-container {\n",
              "      display:flex;\n",
              "      gap: 12px;\n",
              "    }\n",
              "\n",
              "    .colab-df-convert {\n",
              "      background-color: #E8F0FE;\n",
              "      border: none;\n",
              "      border-radius: 50%;\n",
              "      cursor: pointer;\n",
              "      display: none;\n",
              "      fill: #1967D2;\n",
              "      height: 32px;\n",
              "      padding: 0 0 0 0;\n",
              "      width: 32px;\n",
              "    }\n",
              "\n",
              "    .colab-df-convert:hover {\n",
              "      background-color: #E2EBFA;\n",
              "      box-shadow: 0px 1px 2px rgba(60, 64, 67, 0.3), 0px 1px 3px 1px rgba(60, 64, 67, 0.15);\n",
              "      fill: #174EA6;\n",
              "    }\n",
              "\n",
              "    .colab-df-buttons div {\n",
              "      margin-bottom: 4px;\n",
              "    }\n",
              "\n",
              "    [theme=dark] .colab-df-convert {\n",
              "      background-color: #3B4455;\n",
              "      fill: #D2E3FC;\n",
              "    }\n",
              "\n",
              "    [theme=dark] .colab-df-convert:hover {\n",
              "      background-color: #434B5C;\n",
              "      box-shadow: 0px 1px 3px 1px rgba(0, 0, 0, 0.15);\n",
              "      filter: drop-shadow(0px 1px 2px rgba(0, 0, 0, 0.3));\n",
              "      fill: #FFFFFF;\n",
              "    }\n",
              "  </style>\n",
              "\n",
              "    <script>\n",
              "      const buttonEl =\n",
              "        document.querySelector('#df-2b538ccf-f5f7-4e61-b46d-b5eed6b7e55d button.colab-df-convert');\n",
              "      buttonEl.style.display =\n",
              "        google.colab.kernel.accessAllowed ? 'block' : 'none';\n",
              "\n",
              "      async function convertToInteractive(key) {\n",
              "        const element = document.querySelector('#df-2b538ccf-f5f7-4e61-b46d-b5eed6b7e55d');\n",
              "        const dataTable =\n",
              "          await google.colab.kernel.invokeFunction('convertToInteractive',\n",
              "                                                    [key], {});\n",
              "        if (!dataTable) return;\n",
              "\n",
              "        const docLinkHtml = 'Like what you see? Visit the ' +\n",
              "          '<a target=\"_blank\" href=https://colab.research.google.com/notebooks/data_table.ipynb>data table notebook</a>'\n",
              "          + ' to learn more about interactive tables.';\n",
              "        element.innerHTML = '';\n",
              "        dataTable['output_type'] = 'display_data';\n",
              "        await google.colab.output.renderOutput(dataTable, element);\n",
              "        const docLink = document.createElement('div');\n",
              "        docLink.innerHTML = docLinkHtml;\n",
              "        element.appendChild(docLink);\n",
              "      }\n",
              "    </script>\n",
              "  </div>\n",
              "\n",
              "\n",
              "<div id=\"df-2945470c-2d66-4a83-beb2-91b945420796\">\n",
              "  <button class=\"colab-df-quickchart\" onclick=\"quickchart('df-2945470c-2d66-4a83-beb2-91b945420796')\"\n",
              "            title=\"Suggest charts\"\n",
              "            style=\"display:none;\">\n",
              "\n",
              "<svg xmlns=\"http://www.w3.org/2000/svg\" height=\"24px\"viewBox=\"0 0 24 24\"\n",
              "     width=\"24px\">\n",
              "    <g>\n",
              "        <path d=\"M19 3H5c-1.1 0-2 .9-2 2v14c0 1.1.9 2 2 2h14c1.1 0 2-.9 2-2V5c0-1.1-.9-2-2-2zM9 17H7v-7h2v7zm4 0h-2V7h2v10zm4 0h-2v-4h2v4z\"/>\n",
              "    </g>\n",
              "</svg>\n",
              "  </button>\n",
              "\n",
              "<style>\n",
              "  .colab-df-quickchart {\n",
              "      --bg-color: #E8F0FE;\n",
              "      --fill-color: #1967D2;\n",
              "      --hover-bg-color: #E2EBFA;\n",
              "      --hover-fill-color: #174EA6;\n",
              "      --disabled-fill-color: #AAA;\n",
              "      --disabled-bg-color: #DDD;\n",
              "  }\n",
              "\n",
              "  [theme=dark] .colab-df-quickchart {\n",
              "      --bg-color: #3B4455;\n",
              "      --fill-color: #D2E3FC;\n",
              "      --hover-bg-color: #434B5C;\n",
              "      --hover-fill-color: #FFFFFF;\n",
              "      --disabled-bg-color: #3B4455;\n",
              "      --disabled-fill-color: #666;\n",
              "  }\n",
              "\n",
              "  .colab-df-quickchart {\n",
              "    background-color: var(--bg-color);\n",
              "    border: none;\n",
              "    border-radius: 50%;\n",
              "    cursor: pointer;\n",
              "    display: none;\n",
              "    fill: var(--fill-color);\n",
              "    height: 32px;\n",
              "    padding: 0;\n",
              "    width: 32px;\n",
              "  }\n",
              "\n",
              "  .colab-df-quickchart:hover {\n",
              "    background-color: var(--hover-bg-color);\n",
              "    box-shadow: 0 1px 2px rgba(60, 64, 67, 0.3), 0 1px 3px 1px rgba(60, 64, 67, 0.15);\n",
              "    fill: var(--button-hover-fill-color);\n",
              "  }\n",
              "\n",
              "  .colab-df-quickchart-complete:disabled,\n",
              "  .colab-df-quickchart-complete:disabled:hover {\n",
              "    background-color: var(--disabled-bg-color);\n",
              "    fill: var(--disabled-fill-color);\n",
              "    box-shadow: none;\n",
              "  }\n",
              "\n",
              "  .colab-df-spinner {\n",
              "    border: 2px solid var(--fill-color);\n",
              "    border-color: transparent;\n",
              "    border-bottom-color: var(--fill-color);\n",
              "    animation:\n",
              "      spin 1s steps(1) infinite;\n",
              "  }\n",
              "\n",
              "  @keyframes spin {\n",
              "    0% {\n",
              "      border-color: transparent;\n",
              "      border-bottom-color: var(--fill-color);\n",
              "      border-left-color: var(--fill-color);\n",
              "    }\n",
              "    20% {\n",
              "      border-color: transparent;\n",
              "      border-left-color: var(--fill-color);\n",
              "      border-top-color: var(--fill-color);\n",
              "    }\n",
              "    30% {\n",
              "      border-color: transparent;\n",
              "      border-left-color: var(--fill-color);\n",
              "      border-top-color: var(--fill-color);\n",
              "      border-right-color: var(--fill-color);\n",
              "    }\n",
              "    40% {\n",
              "      border-color: transparent;\n",
              "      border-right-color: var(--fill-color);\n",
              "      border-top-color: var(--fill-color);\n",
              "    }\n",
              "    60% {\n",
              "      border-color: transparent;\n",
              "      border-right-color: var(--fill-color);\n",
              "    }\n",
              "    80% {\n",
              "      border-color: transparent;\n",
              "      border-right-color: var(--fill-color);\n",
              "      border-bottom-color: var(--fill-color);\n",
              "    }\n",
              "    90% {\n",
              "      border-color: transparent;\n",
              "      border-bottom-color: var(--fill-color);\n",
              "    }\n",
              "  }\n",
              "</style>\n",
              "\n",
              "  <script>\n",
              "    async function quickchart(key) {\n",
              "      const quickchartButtonEl =\n",
              "        document.querySelector('#' + key + ' button');\n",
              "      quickchartButtonEl.disabled = true;  // To prevent multiple clicks.\n",
              "      quickchartButtonEl.classList.add('colab-df-spinner');\n",
              "      try {\n",
              "        const charts = await google.colab.kernel.invokeFunction(\n",
              "            'suggestCharts', [key], {});\n",
              "      } catch (error) {\n",
              "        console.error('Error during call to suggestCharts:', error);\n",
              "      }\n",
              "      quickchartButtonEl.classList.remove('colab-df-spinner');\n",
              "      quickchartButtonEl.classList.add('colab-df-quickchart-complete');\n",
              "    }\n",
              "    (() => {\n",
              "      let quickchartButtonEl =\n",
              "        document.querySelector('#df-2945470c-2d66-4a83-beb2-91b945420796 button');\n",
              "      quickchartButtonEl.style.display =\n",
              "        google.colab.kernel.accessAllowed ? 'block' : 'none';\n",
              "    })();\n",
              "  </script>\n",
              "</div>\n",
              "    </div>\n",
              "  </div>\n"
            ],
            "application/vnd.google.colaboratory.intrinsic+json": {
              "type": "dataframe",
              "variable_name": "df_ordenado"
            }
          },
          "metadata": {},
          "execution_count": 42
        }
      ],
      "source": [
        "df_ordenado.rename(columns=change,inplace=True)\n",
        "df_ordenado.head()"
      ]
    },
    {
      "cell_type": "markdown",
      "metadata": {
        "id": "VLo8jNCEBeYz"
      },
      "source": [
        "## 2. Clean the data values.\n",
        "\n",
        "Since there are categories, we could try some frequency tables:"
      ]
    },
    {
      "cell_type": "code",
      "execution_count": 43,
      "metadata": {
        "colab": {
          "base_uri": "https://localhost:8080/"
        },
        "id": "7hMIciYoqHdB",
        "outputId": "028989f8-2ede-42a8-8582-18f7fea5a572"
      },
      "outputs": [
        {
          "output_type": "execute_result",
          "data": {
            "text/plain": [
              "Index(['CODIGO ENTIDAD', 'CODIGO UBIGEO', 'CODIGO PAIS', 'DEPARTAMENTO',\n",
              "       'PROVINCIA', 'DISTRITO', 'NOMBRE UO', 'GOBIERNO LOCAL',\n",
              "       'RUC GOBIERNO LOCAL', 'NUMERO EXPEDIENTE', 'FECHA INICIO TRAMITE',\n",
              "       'FECHA EMISION TRAMITE', 'NRO RESOLUCION LICENCIA',\n",
              "       'TIPO DOC SOLICITANTE', 'NRO DOC SOLICITANTE', 'UBICACION PREDIO',\n",
              "       'ZONIFICACION PREDIO', 'TIPO DE USO', 'TIPO ALTURA', 'DETALLE ALTURA',\n",
              "       'MODALIDAD APROBACION', 'TIPO OBRA', 'OBRA NUEVA', 'OBRA DEMOLICIÓN',\n",
              "       'OBRA REMODELACIÓN', 'OBRA AMPLIACIÓN', 'OBRA REFACCIÓN', 'OBRA CERCO',\n",
              "       'AREA TOTAL CONSTRUIDA', 'VALOR OBRA', 'FECHA CORTE'],\n",
              "      dtype='object')"
            ]
          },
          "metadata": {},
          "execution_count": 43
        }
      ],
      "source": [
        "df_ordenado.columns"
      ]
    },
    {
      "cell_type": "markdown",
      "metadata": {
        "id": "6P2moufE0RBX"
      },
      "source": [
        "Código Entidad"
      ]
    },
    {
      "cell_type": "code",
      "execution_count": 44,
      "metadata": {
        "colab": {
          "base_uri": "https://localhost:8080/"
        },
        "id": "NBpZMomi0VGT",
        "outputId": "6b523595-f922-42f8-e005-5938a9aec84c"
      },
      "outputs": [
        {
          "output_type": "execute_result",
          "data": {
            "text/plain": [
              "301285    180\n",
              "Name: CODIGO ENTIDAD, dtype: int64"
            ]
          },
          "metadata": {},
          "execution_count": 44
        }
      ],
      "source": [
        "df_ordenado['CODIGO ENTIDAD'].value_counts(dropna=False).sort_index()"
      ]
    },
    {
      "cell_type": "markdown",
      "metadata": {
        "id": "-k3rDVMN0ZZ9"
      },
      "source": [
        "Código Ubigeo"
      ]
    },
    {
      "cell_type": "code",
      "execution_count": 45,
      "metadata": {
        "colab": {
          "base_uri": "https://localhost:8080/"
        },
        "id": "IeeSqoHh0YV-",
        "outputId": "2606f7db-9f79-4b1c-8e31-9e8a0a01a320"
      },
      "outputs": [
        {
          "output_type": "execute_result",
          "data": {
            "text/plain": [
              "150136    180\n",
              "Name: CODIGO UBIGEO, dtype: int64"
            ]
          },
          "metadata": {},
          "execution_count": 45
        }
      ],
      "source": [
        "df_ordenado['CODIGO UBIGEO'].value_counts(dropna=False).sort_index()"
      ]
    },
    {
      "cell_type": "markdown",
      "metadata": {
        "id": "Ok1cFNat0c1-"
      },
      "source": [
        "Código País"
      ]
    },
    {
      "cell_type": "code",
      "execution_count": 46,
      "metadata": {
        "colab": {
          "base_uri": "https://localhost:8080/"
        },
        "id": "Jho3brW70ggV",
        "outputId": "c961c09b-999a-4925-c97a-f7d530559d82"
      },
      "outputs": [
        {
          "output_type": "execute_result",
          "data": {
            "text/plain": [
              "PE    180\n",
              "Name: CODIGO PAIS, dtype: int64"
            ]
          },
          "metadata": {},
          "execution_count": 46
        }
      ],
      "source": [
        "df_ordenado['CODIGO PAIS'].value_counts(dropna=False).sort_index()"
      ]
    },
    {
      "cell_type": "markdown",
      "metadata": {
        "id": "WKzcN-WG0ie2"
      },
      "source": [
        "Departamento"
      ]
    },
    {
      "cell_type": "code",
      "execution_count": 47,
      "metadata": {
        "colab": {
          "base_uri": "https://localhost:8080/"
        },
        "id": "1t8YjXHe0ku1",
        "outputId": "815cc306-97f2-427c-8e84-5b6b1b3d1865"
      },
      "outputs": [
        {
          "output_type": "execute_result",
          "data": {
            "text/plain": [
              "Lima    180\n",
              "Name: DEPARTAMENTO, dtype: int64"
            ]
          },
          "metadata": {},
          "execution_count": 47
        }
      ],
      "source": [
        "df_ordenado['DEPARTAMENTO'].value_counts(dropna=False).sort_index()"
      ]
    },
    {
      "cell_type": "markdown",
      "metadata": {
        "id": "412fr7350uwO"
      },
      "source": [
        "Provincia"
      ]
    },
    {
      "cell_type": "code",
      "execution_count": 48,
      "metadata": {
        "colab": {
          "base_uri": "https://localhost:8080/"
        },
        "id": "O93T3gvA0xDF",
        "outputId": "4e54fc04-9015-42d0-e0b9-1469eccb2b33"
      },
      "outputs": [
        {
          "output_type": "execute_result",
          "data": {
            "text/plain": [
              "Lima    180\n",
              "Name: PROVINCIA, dtype: int64"
            ]
          },
          "metadata": {},
          "execution_count": 48
        }
      ],
      "source": [
        "df_ordenado['PROVINCIA'].value_counts(dropna=False).sort_index()"
      ]
    },
    {
      "cell_type": "markdown",
      "metadata": {
        "id": "BZZFL_Df0z-M"
      },
      "source": [
        "Distrito"
      ]
    },
    {
      "cell_type": "code",
      "execution_count": 49,
      "metadata": {
        "colab": {
          "base_uri": "https://localhost:8080/"
        },
        "id": "Zkt_QFZN0zNW",
        "outputId": "3274a46c-0ff6-42b3-f058-9ee5a367f39d"
      },
      "outputs": [
        {
          "output_type": "execute_result",
          "data": {
            "text/plain": [
              "San Miguel    180\n",
              "Name: DISTRITO, dtype: int64"
            ]
          },
          "metadata": {},
          "execution_count": 49
        }
      ],
      "source": [
        "df_ordenado['DISTRITO'].value_counts(dropna=False).sort_index()"
      ]
    },
    {
      "cell_type": "markdown",
      "metadata": {
        "id": "i_SleTPk04c2"
      },
      "source": [
        "Nombre Unidad Orgánica"
      ]
    },
    {
      "cell_type": "code",
      "execution_count": 50,
      "metadata": {
        "colab": {
          "base_uri": "https://localhost:8080/"
        },
        "id": "2dlhorSW1Yed",
        "outputId": "e1b0603b-4005-43bf-fc6d-c3754ce808fa"
      },
      "outputs": [
        {
          "output_type": "execute_result",
          "data": {
            "text/plain": [
              "Subgerencia de Obras Privadas    180\n",
              "Name: NOMBRE UO, dtype: int64"
            ]
          },
          "metadata": {},
          "execution_count": 50
        }
      ],
      "source": [
        "df_ordenado['NOMBRE UO'].value_counts(dropna=False).sort_index()"
      ]
    },
    {
      "cell_type": "markdown",
      "metadata": {
        "id": "_Mj9fJzZ1bOu"
      },
      "source": [
        "Gobierno Local"
      ]
    },
    {
      "cell_type": "code",
      "execution_count": 51,
      "metadata": {
        "colab": {
          "base_uri": "https://localhost:8080/"
        },
        "id": "6aDfeHmy1dam",
        "outputId": "82ebb563-6db9-4231-93c0-5d90f987b489"
      },
      "outputs": [
        {
          "output_type": "execute_result",
          "data": {
            "text/plain": [
              "San Miguel    180\n",
              "Name: GOBIERNO LOCAL, dtype: int64"
            ]
          },
          "metadata": {},
          "execution_count": 51
        }
      ],
      "source": [
        "df_ordenado['GOBIERNO LOCAL'].value_counts(dropna=False).sort_index()"
      ]
    },
    {
      "cell_type": "markdown",
      "metadata": {
        "id": "44mFC4yM1fMt"
      },
      "source": [
        "RUC Gobierno Local"
      ]
    },
    {
      "cell_type": "code",
      "execution_count": 52,
      "metadata": {
        "colab": {
          "base_uri": "https://localhost:8080/"
        },
        "id": "8lj79Hk11hj2",
        "outputId": "3ee269db-c44d-4307-dd7c-6a4f11493789"
      },
      "outputs": [
        {
          "output_type": "execute_result",
          "data": {
            "text/plain": [
              "20131372184    180\n",
              "Name: RUC GOBIERNO LOCAL, dtype: int64"
            ]
          },
          "metadata": {},
          "execution_count": 52
        }
      ],
      "source": [
        "df_ordenado['RUC GOBIERNO LOCAL'].value_counts(dropna=False).sort_index()"
      ]
    },
    {
      "cell_type": "markdown",
      "metadata": {
        "id": "5wNKWRK71q4P"
      },
      "source": [
        "Número Expediente"
      ]
    },
    {
      "cell_type": "code",
      "execution_count": 53,
      "metadata": {
        "colab": {
          "base_uri": "https://localhost:8080/"
        },
        "id": "t44w71ps1tMV",
        "outputId": "a089e4d4-55c4-4f32-fd58-0f2bf407a14a"
      },
      "outputs": [
        {
          "output_type": "execute_result",
          "data": {
            "text/plain": [
              "00279-2022    1\n",
              "059-2021      1\n",
              "0637-2022     1\n",
              "10019-2022    1\n",
              "10101-2022    1\n",
              "             ..\n",
              "9419-2022     1\n",
              "9457-2022     1\n",
              "9485-2022     1\n",
              "9767-2021     1\n",
              "9935-2022     1\n",
              "Name: NUMERO EXPEDIENTE, Length: 179, dtype: int64"
            ]
          },
          "metadata": {},
          "execution_count": 53
        }
      ],
      "source": [
        "df_ordenado['NUMERO EXPEDIENTE'].value_counts(dropna=False).sort_index()"
      ]
    },
    {
      "cell_type": "markdown",
      "metadata": {
        "id": "rW7MNx8J2ZYw"
      },
      "source": [
        "Número de la resolución de licencia"
      ]
    },
    {
      "cell_type": "code",
      "execution_count": 54,
      "metadata": {
        "id": "_kkpRMqv3YiO"
      },
      "outputs": [],
      "source": [
        "df_ordenado['NRO RESOLUCION LICENCIA'] = df_ordenado['NRO RESOLUCION LICENCIA'].astype(str)"
      ]
    },
    {
      "cell_type": "code",
      "execution_count": 55,
      "metadata": {
        "colab": {
          "base_uri": "https://localhost:8080/"
        },
        "id": "uXJoJCb42bHO",
        "outputId": "30082566-a8fa-4b8d-aa78-7e77cfbc78bb"
      },
      "outputs": [
        {
          "output_type": "execute_result",
          "data": {
            "text/plain": [
              "0053-2022    1\n",
              "0069-2022    1\n",
              "0072-2022    1\n",
              "009-2022     1\n",
              "040-2022     1\n",
              "            ..\n",
              "97-2022      1\n",
              "991-2022     1\n",
              "994-2022     1\n",
              "995-2022     1\n",
              "nan          9\n",
              "Name: NRO RESOLUCION LICENCIA, Length: 171, dtype: int64"
            ]
          },
          "metadata": {},
          "execution_count": 55
        }
      ],
      "source": [
        "df_ordenado['NRO RESOLUCION LICENCIA'].value_counts(dropna=False).sort_index()"
      ]
    },
    {
      "cell_type": "markdown",
      "metadata": {
        "id": "GR7RNxCQsuGy"
      },
      "source": [
        "Tipo Documento Solicitante"
      ]
    },
    {
      "cell_type": "code",
      "execution_count": 56,
      "metadata": {
        "colab": {
          "base_uri": "https://localhost:8080/"
        },
        "id": "CKM45IjQBeYz",
        "outputId": "e94f85f0-ac88-4302-bf4b-00046f74ffac"
      },
      "outputs": [
        {
          "output_type": "execute_result",
          "data": {
            "text/plain": [
              "DNI     59\n",
              "DNI      4\n",
              "RDA      1\n",
              "RUC     71\n",
              "RUC     16\n",
              "NaN     29\n",
              "Name: TIPO DOC SOLICITANTE, dtype: int64"
            ]
          },
          "metadata": {},
          "execution_count": 56
        }
      ],
      "source": [
        "df_ordenado['TIPO DOC SOLICITANTE'].value_counts(dropna=False).sort_index()"
      ]
    },
    {
      "cell_type": "code",
      "execution_count": 57,
      "metadata": {
        "id": "iHxazMkQry3I"
      },
      "outputs": [],
      "source": [
        "df_ordenado['TIPO DOC SOLICITANTE'] = df_ordenado['TIPO DOC SOLICITANTE'].str.strip()"
      ]
    },
    {
      "cell_type": "code",
      "execution_count": 58,
      "metadata": {
        "colab": {
          "base_uri": "https://localhost:8080/"
        },
        "id": "tY4NPh-vrBsA",
        "outputId": "a3d0306f-a8ba-4f12-eb4e-257cbd1b30c5"
      },
      "outputs": [
        {
          "output_type": "execute_result",
          "data": {
            "text/plain": [
              "DNI    63\n",
              "RDA     1\n",
              "RUC    87\n",
              "NaN    29\n",
              "Name: TIPO DOC SOLICITANTE, dtype: int64"
            ]
          },
          "metadata": {},
          "execution_count": 58
        }
      ],
      "source": [
        "df_ordenado['TIPO DOC SOLICITANTE'].value_counts(dropna=False).sort_index()"
      ]
    },
    {
      "cell_type": "markdown",
      "metadata": {
        "id": "oiCMgtZV39A0"
      },
      "source": [
        "Número Documento Solicitante"
      ]
    },
    {
      "cell_type": "code",
      "execution_count": 59,
      "metadata": {
        "colab": {
          "base_uri": "https://localhost:8080/"
        },
        "id": "eOuttMod4GT_",
        "outputId": "523514c4-2dea-47ff-a068-6c8c2fa88f38"
      },
      "outputs": [
        {
          "output_type": "execute_result",
          "data": {
            "text/plain": [
              "0      20514554014\n",
              "115    20608254421\n",
              "116     2054867913\n",
              "117    20555184086\n",
              "119    20605597204\n",
              "          ...     \n",
              "61         6862888\n",
              "63     20604661880\n",
              "64     20604661880\n",
              "66     20600986164\n",
              "179    20605359737\n",
              "Name: NRO DOC SOLICITANTE, Length: 117, dtype: int64"
            ]
          },
          "metadata": {},
          "execution_count": 59
        }
      ],
      "source": [
        "df_ordenado['NRO DOC SOLICITANTE'] = pd.to_numeric(df_ordenado['NRO DOC SOLICITANTE'], errors='coerce')\n",
        "df_ordenado= df_ordenado.dropna(subset=['NRO DOC SOLICITANTE'])\n",
        "df_ordenado['NRO DOC SOLICITANTE'].astype(int)\n"
      ]
    },
    {
      "cell_type": "code",
      "execution_count": 60,
      "metadata": {
        "colab": {
          "base_uri": "https://localhost:8080/"
        },
        "id": "dAjOCY-u36Pg",
        "outputId": "eefec6d3-22fb-4094-8f02-b43346bfa835"
      },
      "outputs": [
        {
          "output_type": "execute_result",
          "data": {
            "text/plain": [
              "8.777210e+05    1\n",
              "6.055174e+06    1\n",
              "6.134161e+06    1\n",
              "6.720981e+06    1\n",
              "6.862888e+06    1\n",
              "               ..\n",
              "2.060887e+10    1\n",
              "2.060889e+10    2\n",
              "2.060893e+10    1\n",
              "2.060906e+10    1\n",
              "2.050000e+11    1\n",
              "Name: NRO DOC SOLICITANTE, Length: 89, dtype: int64"
            ]
          },
          "metadata": {},
          "execution_count": 60
        }
      ],
      "source": [
        "df_ordenado['NRO DOC SOLICITANTE'].value_counts(dropna=False).sort_index()"
      ]
    },
    {
      "cell_type": "markdown",
      "metadata": {
        "id": "Hvtr9joGs4Zx"
      },
      "source": [
        "Ubicación Predio"
      ]
    },
    {
      "cell_type": "code",
      "execution_count": 61,
      "metadata": {
        "colab": {
          "base_uri": "https://localhost:8080/"
        },
        "id": "4YQ2OOQvBeYz",
        "outputId": "645710f2-bb9e-4a46-e741-3060dba07e41"
      },
      "outputs": [
        {
          "output_type": "execute_result",
          "data": {
            "text/plain": [
              "AV COSTANERA  2982 - -                                                      1\n",
              "AV COSTANERA 2560 -- -                                                      1\n",
              "AV LA MARINA  2115 -- -                                                     1\n",
              "AV LA MARINA  2201-2235 -P-1-2 40429                                        1\n",
              "AV LA MARINA / MONSEÑOR J. DINTILHAC 2201-2235/585 -P-1-2 8 - 9 - 10 -11    1\n",
              "                                                                           ..\n",
              "JR. MANCO II - -- 5                                                         1\n",
              "JR. TALAMBO 161 -- -                                                        1\n",
              "PASAJE  VIRGEN DE FATIMA  233 -- -                                          1\n",
              "PASAJE LAS ROSAS 179 -- -                                                   1\n",
              "PASAJE UNO - -A 14                                                          1\n",
              "Name: UBICACION PREDIO, Length: 113, dtype: int64"
            ]
          },
          "metadata": {},
          "execution_count": 61
        }
      ],
      "source": [
        "df_ordenado['UBICACION PREDIO'].value_counts(dropna=False).sort_index()"
      ]
    },
    {
      "cell_type": "code",
      "execution_count": 62,
      "metadata": {
        "colab": {
          "base_uri": "https://localhost:8080/"
        },
        "id": "Shvpekrltbr2",
        "outputId": "87089136-7d2b-4c1d-f01f-091caaf8877c"
      },
      "outputs": [
        {
          "output_type": "stream",
          "name": "stderr",
          "text": [
            "<ipython-input-62-0add9f28a840>:1: SettingWithCopyWarning: \n",
            "A value is trying to be set on a copy of a slice from a DataFrame.\n",
            "Try using .loc[row_indexer,col_indexer] = value instead\n",
            "\n",
            "See the caveats in the documentation: https://pandas.pydata.org/pandas-docs/stable/user_guide/indexing.html#returning-a-view-versus-a-copy\n",
            "  df_ordenado['UBICACION PREDIO'] = df_ordenado['UBICACION PREDIO'].str.strip()\n"
          ]
        }
      ],
      "source": [
        "df_ordenado['UBICACION PREDIO'] = df_ordenado['UBICACION PREDIO'].str.strip()"
      ]
    },
    {
      "cell_type": "code",
      "execution_count": 63,
      "metadata": {
        "colab": {
          "base_uri": "https://localhost:8080/"
        },
        "id": "AJNdT1tdtfyH",
        "outputId": "f11d6ba1-6001-44ed-d877-49aadd615dd9"
      },
      "outputs": [
        {
          "output_type": "execute_result",
          "data": {
            "text/plain": [
              "AV COSTANERA  2982 - -                                                      1\n",
              "AV COSTANERA 2560 -- -                                                      1\n",
              "AV LA MARINA  2115 -- -                                                     1\n",
              "AV LA MARINA  2201-2235 -P-1-2 40429                                        1\n",
              "AV LA MARINA / MONSEÑOR J. DINTILHAC 2201-2235/585 -P-1-2 8 - 9 - 10 -11    1\n",
              "                                                                           ..\n",
              "JR. MANCO II - -- 5                                                         1\n",
              "JR. TALAMBO 161 -- -                                                        1\n",
              "PASAJE  VIRGEN DE FATIMA  233 -- -                                          1\n",
              "PASAJE LAS ROSAS 179 -- -                                                   1\n",
              "PASAJE UNO - -A 14                                                          1\n",
              "Name: UBICACION PREDIO, Length: 113, dtype: int64"
            ]
          },
          "metadata": {},
          "execution_count": 63
        }
      ],
      "source": [
        "df_ordenado['UBICACION PREDIO'].value_counts(dropna=False).sort_index()"
      ]
    },
    {
      "cell_type": "markdown",
      "metadata": {
        "id": "gWVFblDEtqZi"
      },
      "source": [
        "Zonificación Predio"
      ]
    },
    {
      "cell_type": "code",
      "execution_count": 64,
      "metadata": {
        "colab": {
          "base_uri": "https://localhost:8080/"
        },
        "id": "uVm3WeTztr6K",
        "outputId": "d92f337c-4a31-481b-d434-04b66747cd37"
      },
      "outputs": [
        {
          "output_type": "execute_result",
          "data": {
            "text/plain": [
              "CM            4\n",
              "CZ            6\n",
              "CZ            1\n",
              "E1            3\n",
              "RDA          20\n",
              "RDA Y RDM     1\n",
              "RDM          69\n",
              "RDM          11\n",
              "RDM-CV        1\n",
              "NaN           1\n",
              "Name: ZONIFICACION PREDIO, dtype: int64"
            ]
          },
          "metadata": {},
          "execution_count": 64
        }
      ],
      "source": [
        "df_ordenado['ZONIFICACION PREDIO'].value_counts(dropna=False).sort_index()"
      ]
    },
    {
      "cell_type": "code",
      "execution_count": 65,
      "metadata": {
        "id": "yg-wtxn1ttkz"
      },
      "outputs": [],
      "source": [
        "df_ordenado['ZONIFICACION PREDIO'] = df_ordenado['ZONIFICACION PREDIO'].str.strip()"
      ]
    },
    {
      "cell_type": "code",
      "execution_count": 66,
      "metadata": {
        "colab": {
          "base_uri": "https://localhost:8080/"
        },
        "id": "_JFSwU16tuCR",
        "outputId": "31d1b8fd-442b-4e77-c253-414c4f10993d"
      },
      "outputs": [
        {
          "output_type": "execute_result",
          "data": {
            "text/plain": [
              "CM            4\n",
              "CZ            7\n",
              "E1            3\n",
              "RDA          20\n",
              "RDA Y RDM     1\n",
              "RDM          80\n",
              "RDM-CV        1\n",
              "NaN           1\n",
              "Name: ZONIFICACION PREDIO, dtype: int64"
            ]
          },
          "metadata": {},
          "execution_count": 66
        }
      ],
      "source": [
        "df_ordenado['ZONIFICACION PREDIO'].value_counts(dropna=False).sort_index()"
      ]
    },
    {
      "cell_type": "markdown",
      "metadata": {
        "id": "BXTx5viKuAdi"
      },
      "source": [
        "Tipo de Uso"
      ]
    },
    {
      "cell_type": "code",
      "execution_count": 67,
      "metadata": {
        "id": "Srj7MYihuBnC"
      },
      "outputs": [],
      "source": [
        "USO= df_ordenado['TIPO DE USO'].value_counts(dropna=False).sort_index()"
      ]
    },
    {
      "cell_type": "code",
      "execution_count": 68,
      "metadata": {
        "id": "Mrfr_4fSuC8C"
      },
      "outputs": [],
      "source": [
        "df_ordenado['TIPO DE USO'] = df_ordenado['TIPO DE USO'].str.strip()"
      ]
    },
    {
      "cell_type": "code",
      "execution_count": 69,
      "metadata": {
        "colab": {
          "base_uri": "https://localhost:8080/"
        },
        "id": "i0UbxDPnuDRC",
        "outputId": "089b2e5f-62d8-4039-eb14-9f99224ddb14"
      },
      "outputs": [
        {
          "output_type": "execute_result",
          "data": {
            "text/plain": [
              "CERCO                                                 1\n",
              "COMERCIO                                             11\n",
              "CONJUNTO RESIDENCIAL                                  4\n",
              "E1                                                    1\n",
              "EDIFICIO MULTIFAMILIAR - MODIFICACION DE PROYECTO     1\n",
              "EDUCACION                                             1\n",
              "MULTIFAMILIAR                                        45\n",
              "MULTIFAMILIAR - COMERCIO                              2\n",
              "TERRENO                                               1\n",
              "UNIFAMILIAR                                           6\n",
              "VIIENDA UNIFAMILIAR                                   1\n",
              "VIV.MULTIFAMILIAR                                     1\n",
              "VIVIENA UNIFAMILIAR                                   1\n",
              "VIVIENDA - COMERCIO                                   2\n",
              "VIVIENDA MULTIFAMILIAR                               14\n",
              "VIVIENDA UNIFAMILIAR                                 23\n",
              "VIVIUENDA UNIFAMILIAR                                 1\n",
              "NaN                                                   1\n",
              "Name: TIPO DE USO, dtype: int64"
            ]
          },
          "metadata": {},
          "execution_count": 69
        }
      ],
      "source": [
        "df_ordenado['TIPO DE USO'].value_counts(dropna=False).sort_index()"
      ]
    },
    {
      "cell_type": "code",
      "execution_count": 70,
      "metadata": {
        "colab": {
          "base_uri": "https://localhost:8080/"
        },
        "id": "A1KsSKl5wXIr",
        "outputId": "0cf4446a-41fb-422c-cd64-dbc4459998f7"
      },
      "outputs": [
        {
          "output_type": "execute_result",
          "data": {
            "text/plain": [
              "CERCO                    1\n",
              "COMERCIO                13\n",
              "CONJUNTO RESIDENCIAL     4\n",
              "E1                       1\n",
              "EDUCACION                1\n",
              "MULTIFAMILIAR           63\n",
              "TERRENO                  1\n",
              "UNIFAMILIAR             32\n",
              "NaN                      1\n",
              "Name: TIPO DE USO NORMALIZADO, dtype: int64"
            ]
          },
          "metadata": {},
          "execution_count": 70
        }
      ],
      "source": [
        "def UNIFORMIDAD(FAMILIA):\n",
        "    if pd.isnull(FAMILIA):\n",
        "        return FAMILIA\n",
        "    FAMILIA = FAMILIA.upper()\n",
        "    if 'UNIFAMILIAR' in FAMILIA:\n",
        "        return 'UNIFAMILIAR'\n",
        "    elif 'MULTIFAMILIAR' in FAMILIA:\n",
        "        return 'MULTIFAMILIAR'\n",
        "    elif \"COMERCIO\" in FAMILIA:\n",
        "        return \"COMERCIO\"\n",
        "    else:\n",
        "        return FAMILIA\n",
        "\n",
        "df_ordenado['TIPO DE USO NORMALIZADO'] = df_ordenado['TIPO DE USO'].apply(UNIFORMIDAD)\n",
        "\n",
        "USO1= df_ordenado['TIPO DE USO NORMALIZADO'].value_counts(dropna=False).sort_index()\n",
        "USO1"
      ]
    },
    {
      "cell_type": "markdown",
      "metadata": {
        "id": "zLygEeJWy3q0"
      },
      "source": [
        "Tipo de Altura"
      ]
    },
    {
      "cell_type": "code",
      "execution_count": 71,
      "metadata": {
        "colab": {
          "base_uri": "https://localhost:8080/"
        },
        "id": "JgE0167My4nE",
        "outputId": "1f26380a-57d2-4b65-dbe0-344f9684e05b"
      },
      "outputs": [
        {
          "output_type": "execute_result",
          "data": {
            "text/plain": [
              "PISOS     26\n",
              "PISOS     91\n",
              "Name: TIPO ALTURA, dtype: int64"
            ]
          },
          "metadata": {},
          "execution_count": 71
        }
      ],
      "source": [
        "df_ordenado['TIPO ALTURA'].value_counts(dropna=False).sort_index()"
      ]
    },
    {
      "cell_type": "code",
      "execution_count": 72,
      "metadata": {
        "id": "k9jAUhqD0Ch0"
      },
      "outputs": [],
      "source": [
        "df_ordenado['TIPO ALTURA'] = df_ordenado['TIPO ALTURA'].str.strip()"
      ]
    },
    {
      "cell_type": "code",
      "execution_count": 73,
      "metadata": {
        "colab": {
          "base_uri": "https://localhost:8080/"
        },
        "id": "d1rpKnr20C5f",
        "outputId": "8d09f0c8-b82a-40f4-968a-afec5ece76c2"
      },
      "outputs": [
        {
          "output_type": "execute_result",
          "data": {
            "text/plain": [
              "PISOS    117\n",
              "Name: TIPO ALTURA, dtype: int64"
            ]
          },
          "metadata": {},
          "execution_count": 73
        }
      ],
      "source": [
        "df_ordenado['TIPO ALTURA'].value_counts(dropna=False).sort_index()"
      ]
    },
    {
      "cell_type": "markdown",
      "metadata": {
        "id": "SAx9J8EV6-dB"
      },
      "source": [
        "Detalle altura"
      ]
    },
    {
      "cell_type": "code",
      "execution_count": 74,
      "metadata": {
        "id": "dQh488qp7Xnp"
      },
      "outputs": [],
      "source": [
        "df_ordenado['DETALLE ALTURA'] = df_ordenado['DETALLE ALTURA'].astype(str)"
      ]
    },
    {
      "cell_type": "code",
      "execution_count": 75,
      "metadata": {
        "colab": {
          "base_uri": "https://localhost:8080/"
        },
        "id": "7KROwsot69vi",
        "outputId": "f0acf2fe-32b5-4d90-bb28-d04d8a4d80ed"
      },
      "outputs": [
        {
          "output_type": "execute_result",
          "data": {
            "text/plain": [
              " 3 PISOS + AZOTEA                  1\n",
              "0                                  1\n",
              "1 PISO                             6\n",
              "1 PISO                             3\n",
              "1 SOTANO+7 PISOS+AZOTEA            1\n",
              "                                  ..\n",
              "SOTANO+SEMISOTANO+6P+AZ            1\n",
              "SOTANO+SEMISOTANO+6PISOS+AZOTEA    1\n",
              "SOTANO+SEMISOTANO+8P+AZ            1\n",
              "SOTANO+SEMISOTANO+8PISOS           1\n",
              "nan                                1\n",
              "Name: DETALLE ALTURA, Length: 67, dtype: int64"
            ]
          },
          "metadata": {},
          "execution_count": 75
        }
      ],
      "source": [
        "df_ordenado['DETALLE ALTURA'].value_counts(dropna=False).sort_index()"
      ]
    },
    {
      "cell_type": "code",
      "execution_count": 76,
      "metadata": {
        "id": "T6Lp_K3F7ngV"
      },
      "outputs": [],
      "source": [
        "df_ordenado['DETALLE ALTURA'] = df_ordenado['DETALLE ALTURA'].str.strip()"
      ]
    },
    {
      "cell_type": "code",
      "execution_count": 77,
      "metadata": {
        "colab": {
          "base_uri": "https://localhost:8080/"
        },
        "id": "czYkgr8D7rek",
        "outputId": "085776eb-6f42-4896-f7da-341bbd406031"
      },
      "outputs": [
        {
          "output_type": "execute_result",
          "data": {
            "text/plain": [
              "0                                  1\n",
              "1 PISO                             9\n",
              "1 SOTANO+7 PISOS+AZOTEA            1\n",
              "11P+AZ                             1\n",
              "13:00:00                           1\n",
              "                                  ..\n",
              "SOTANO+SEMISOTANO+6P+AZ            1\n",
              "SOTANO+SEMISOTANO+6PISOS+AZOTEA    1\n",
              "SOTANO+SEMISOTANO+8P+AZ            1\n",
              "SOTANO+SEMISOTANO+8PISOS           1\n",
              "nan                                1\n",
              "Name: DETALLE ALTURA, Length: 64, dtype: int64"
            ]
          },
          "metadata": {},
          "execution_count": 77
        }
      ],
      "source": [
        "df_ordenado['DETALLE ALTURA'].value_counts(dropna=False).sort_index()"
      ]
    },
    {
      "cell_type": "code",
      "execution_count": 78,
      "metadata": {
        "colab": {
          "base_uri": "https://localhost:8080/"
        },
        "id": "TsKdikJB8IP2",
        "outputId": "71ef10e0-04a9-41d7-df78-a54dceb58588"
      },
      "outputs": [
        {
          "output_type": "execute_result",
          "data": {
            "text/plain": [
              "0                                              1\n",
              "1 PISO                                        14\n",
              "1 SOTANO+7 PISOS+AZOTEA                        1\n",
              "13:00:00                                       1\n",
              "1SOTANO+17PISOS+AZOTEA                         1\n",
              "2 PISO                                         1\n",
              "2 PISOS                                       18\n",
              "2 PISOS + AZ                                   1\n",
              "2 PISOS + AZOTEA                               4\n",
              "2 SOTANOS + 7 PISOS + AZOTEA                   1\n",
              "2 SOTANOS + SEMISOTANO + 10 PISOS + AZOTEA     1\n",
              "2 SOTANOS+17P+AZ                               1\n",
              "2SOT.+16PISOS+AZO.                             1\n",
              "2SOTANOS+7PISOS+AZOTEA                         1\n",
              "3 PISO                                         1\n",
              "3 PISOS                                       14\n",
              "3 PISOS + AZOTEA                               4\n",
              "3 SOT,+20 PISOS+AZOTEA                         1\n",
              "3 SOT.+18 PISOS+AZO.                           1\n",
              "3 SÓTANOS + 9 PISOS + AZOTEA                   1\n",
              "4 PISOS                                        3\n",
              "4 PISOS + AZOTEA                               2\n",
              "4 SOT.+17 PISOS+AZOTEA                         3\n",
              "4 SOT.+20 PISOS+AZO.                           1\n",
              "4 SOTANOS+18 PISOS+AZOTEA                      1\n",
              "4SOTANOS +20PISOS+AZOTEA                       1\n",
              "4SOTANOS+8 PISOS+AZOTEA                        1\n",
              "4SOTANOS+SEMISOTANO+20PISOS+AZOTEA             1\n",
              "5 PISOS                                        2\n",
              "5 PISOS + AZOTEA                               8\n",
              "5 PISOS +AZO.                                  1\n",
              "5 SOTANOS + 17P+AZ                             1\n",
              "5 SOTANOS+5 PISOS+5MEZANINES+AZOTEA            2\n",
              "5SOT,+17PISOS+AZO.                             2\n",
              "5SOT.+20 PISOS + AZO.                          1\n",
              "6 PISOS+AZOTEA                                 1\n",
              "6P                                             1\n",
              "6PISOS + SÓTANO                                1\n",
              "9 PISOS + AZOTEA                               1\n",
              "SEMISOTANO + 4 PISOS + AZOTEA                  1\n",
              "SEMISOTANO + 6 PISOS + AZOTEA                  1\n",
              "SEMISOTANO + 9 PISOS + AZOTEA                  1\n",
              "SEMISOTANO+6 PISOS                             1\n",
              "SEMISOTANO+9PISOS                              1\n",
              "SOT. + 10PISOS + AZO.                          1\n",
              "SOT.+SEMISOTANO+6PISOS+AZOTEA                  1\n",
              "SOTANO + 7 PISOS + AZOTEA                      1\n",
              "SOTANO+8PISOS+AZOTEA                           1\n",
              "SOTANO+SEMISOTANO+6P+AZ                        1\n",
              "SOTANO+SEMISOTANO+6PISOS+AZOTEA                1\n",
              "SOTANO+SEMISOTANO+8P+AZ                        1\n",
              "SOTANO+SEMISOTANO+8PISOS                       1\n",
              "nan                                            1\n",
              "Name: DETALLE ALTURA, dtype: int64"
            ]
          },
          "metadata": {},
          "execution_count": 78
        }
      ],
      "source": [
        "def ALTURA(DETALLE):\n",
        "    if '1P' in DETALLE:\n",
        "        return '1 PISO'\n",
        "    elif '2P' in DETALLE:\n",
        "        return '2 PISOS'\n",
        "    elif \"3P\" in DETALLE:\n",
        "        return \"3 PISOS\"\n",
        "    elif \"4P\" in DETALLE:\n",
        "        return \"4 PISOS\"\n",
        "    elif \"5P\" in DETALLE:\n",
        "        return \"5 PISOS\"\n",
        "    else:\n",
        "        return DETALLE\n",
        "\n",
        "df_ordenado['DETALLE ALTURA'] = df_ordenado['DETALLE ALTURA'].apply(ALTURA)\n",
        "\n",
        "df_ordenado['DETALLE ALTURA'].value_counts(dropna=False).sort_index()"
      ]
    },
    {
      "cell_type": "code",
      "execution_count": 79,
      "metadata": {
        "colab": {
          "base_uri": "https://localhost:8080/"
        },
        "id": "pgFClRr09Zxz",
        "outputId": "777adbfe-d70f-4524-f327-ff611fe690c2"
      },
      "outputs": [
        {
          "output_type": "execute_result",
          "data": {
            "text/plain": [
              "             1\n",
              "0            1\n",
              "1 PISO      14\n",
              "10 PISOS     2\n",
              "2 PISOS     24\n",
              "20 PISOS     5\n",
              "3 PISOS     19\n",
              "4 PISOS      6\n",
              "5 PISOS     13\n",
              "6 PISOS      9\n",
              "7 PISOS     12\n",
              "8 PISOS      6\n",
              "9 PISOS      4\n",
              "nan          1\n",
              "Name: DETALLE ALTURA, dtype: int64"
            ]
          },
          "metadata": {},
          "execution_count": 79
        }
      ],
      "source": [
        "def ALTURA2(DETALLE2):\n",
        "    if '1 PISO' in DETALLE2:\n",
        "        return '1 PISO'\n",
        "    elif '2 PISO' in DETALLE2:\n",
        "        return '2 PISOS'\n",
        "    elif \"3 PISO\" in DETALLE2:\n",
        "        return \"3 PISOS\"\n",
        "    elif \"4 PISO\" in DETALLE2:\n",
        "        return \"4 PISOS\"\n",
        "    elif \"5 PISO\" in DETALLE2:\n",
        "        return \"5 PISOS\"\n",
        "    elif \"6P\" in DETALLE2:\n",
        "        return \"6 PISOS\"\n",
        "    elif \"6 PISO\" in DETALLE2:\n",
        "        return \"6 PISOS\"\n",
        "    elif \"7 PISO\" in DETALLE2:\n",
        "        return \"7 PISOS\"\n",
        "    elif \"7P\" in DETALLE2:\n",
        "        return \"7 PISOS\"\n",
        "    elif \"8 PISO\" in DETALLE2:\n",
        "        return \"8 PISOS\"\n",
        "    elif \"8P\" in DETALLE2:\n",
        "        return \"8 PISOS\"\n",
        "    elif \"9 PISO\" in DETALLE2:\n",
        "        return \"9 PISOS\"\n",
        "    elif \"9P\" in DETALLE2:\n",
        "        return \"9 PISOS\"\n",
        "    elif \"10 PISO\" in DETALLE2:\n",
        "        return \"10 PISOS\"\n",
        "    elif \"10P\" in DETALLE2:\n",
        "        return \"10 PISOS\"\n",
        "    elif \"11 PISO\" in DETALLE2:\n",
        "        return \"11 PISOS\"\n",
        "    elif \"12 PISO\" in DETALLE2:\n",
        "        return \"12 PISOS\"\n",
        "    elif \"13 PISO\" in DETALLE2:\n",
        "        return \"13 PISOS\"\n",
        "    elif \"14 PISO\" in DETALLE2:\n",
        "        return \"14 PISOS\"\n",
        "    elif \"15 PISO\" in DETALLE2:\n",
        "        return \"15 PISOS\"\n",
        "    elif \"16 PISO\" in DETALLE2:\n",
        "        return \"16 PISOS\"\n",
        "    elif \"17 PISO\" in DETALLE2:\n",
        "        return \"17 PISOS\"\n",
        "    elif \"17P\" in DETALLE2:\n",
        "        return \"17 PISOS\"\n",
        "    elif \"20 PISOS\" in DETALLE2:\n",
        "        return \"20 PISOS\"\n",
        "    elif \"20P\" in DETALLE2:\n",
        "        return \"20 PISOS\"\n",
        "    elif \"13:0\" in DETALLE2:\n",
        "        return \"\"\n",
        "    else:\n",
        "        return DETALLE2\n",
        "\n",
        "df_ordenado['DETALLE ALTURA'] = df_ordenado['DETALLE ALTURA'].apply(ALTURA2)\n",
        "\n",
        "df_ordenado['DETALLE ALTURA'].value_counts(dropna=False).sort_index()"
      ]
    },
    {
      "cell_type": "markdown",
      "metadata": {
        "id": "vuD9FRCl_3-K"
      },
      "source": [
        "Modalidad Aprobación"
      ]
    },
    {
      "cell_type": "code",
      "execution_count": 80,
      "metadata": {
        "id": "y9EbjD8yAkLc"
      },
      "outputs": [],
      "source": [
        "df_ordenado['MODALIDAD APROBACION'] = df_ordenado['MODALIDAD APROBACION'].astype(str)"
      ]
    },
    {
      "cell_type": "code",
      "execution_count": 81,
      "metadata": {
        "colab": {
          "base_uri": "https://localhost:8080/"
        },
        "id": "8fRhkRIg_180",
        "outputId": "34edf45d-05ef-4308-a6ef-05258fb978bd"
      },
      "outputs": [
        {
          "output_type": "execute_result",
          "data": {
            "text/plain": [
              "\" A\"                       1\n",
              "A                         31\n",
              "B                         31\n",
              "C                         32\n",
              "C                          6\n",
              "C  REVISORES URBANOS       6\n",
              "C - REVISORES URBANOS      1\n",
              "C - REVISORES URBANOS      3\n",
              "C REVISORES URBANOS        1\n",
              "D                          2\n",
              "E1                         2\n",
              "nan                        1\n",
              "Name: MODALIDAD APROBACION, dtype: int64"
            ]
          },
          "metadata": {},
          "execution_count": 81
        }
      ],
      "source": [
        "df_ordenado['MODALIDAD APROBACION'].value_counts(dropna=False).sort_index()"
      ]
    },
    {
      "cell_type": "code",
      "execution_count": 82,
      "metadata": {
        "colab": {
          "base_uri": "https://localhost:8080/"
        },
        "id": "2pnjMzmeAKgd",
        "outputId": "c990da1e-3615-4d63-e514-36f7ff70a0cc"
      },
      "outputs": [
        {
          "output_type": "execute_result",
          "data": {
            "text/plain": [
              "A      32\n",
              "B      31\n",
              "C      49\n",
              "D       2\n",
              "E1      2\n",
              "nan     1\n",
              "Name: MODALIDAD APROBACION, dtype: int64"
            ]
          },
          "metadata": {},
          "execution_count": 82
        }
      ],
      "source": [
        "def APROBACION(MODALIDAD):\n",
        "    if 'C' in MODALIDAD:\n",
        "        return 'C'\n",
        "    if \"A\" in MODALIDAD:\n",
        "        return \"A\"\n",
        "    else:\n",
        "        return MODALIDAD\n",
        "\n",
        "df_ordenado['MODALIDAD APROBACION'] = df_ordenado['MODALIDAD APROBACION'].apply(APROBACION)\n",
        "\n",
        "df_ordenado['MODALIDAD APROBACION'].value_counts(dropna=False).sort_index()"
      ]
    },
    {
      "cell_type": "markdown",
      "metadata": {
        "id": "pSfbz0gJDGe2"
      },
      "source": [
        "Tipo de Obra"
      ]
    },
    {
      "cell_type": "code",
      "execution_count": 83,
      "metadata": {
        "id": "cucOl5luDRzt"
      },
      "outputs": [],
      "source": [
        "df_ordenado['TIPO OBRA'] = df_ordenado['TIPO OBRA'].astype(str)"
      ]
    },
    {
      "cell_type": "code",
      "execution_count": 84,
      "metadata": {
        "colab": {
          "base_uri": "https://localhost:8080/"
        },
        "id": "B58a-J9tDFX-",
        "outputId": "9d9f788b-b697-411c-9e2c-326429b5bca3"
      },
      "outputs": [
        {
          "output_type": "execute_result",
          "data": {
            "text/plain": [
              "AMPLIACION                                                         7\n",
              "AMPLIACION - DEMOLICION PARCIAL                                    1\n",
              "AMPLIACION - REMODELACION                                          5\n",
              "AMPLIACION - REMODELACION - DEMOLICION PARCIAL                     1\n",
              "AMPLIACIÓN Y REMODELACIÓN                                          2\n",
              "AMPLIACIÓN/REMODELACIÓN                                            3\n",
              "CERCADO - REMODELACION                                             1\n",
              "CERCO PERIMETRICO                                                  3\n",
              "DEMOLICION TOTAL                                                  12\n",
              "DEMOLICION TOTAL                                                   6\n",
              "DMEOLICION TOTAL                                                   1\n",
              "LICENCIA AMP,REM,DEM.                                              1\n",
              "LICENCIA AMPLIACIÓN - REMODELACIÓN                                 1\n",
              "LICENCIA DE AMPLIACIÓN                                             1\n",
              "LICENCIA DE AMPLIACIÓN                                             1\n",
              "LICENCIA DE AMPLIACIÓN Y REMODELACIÓN                              1\n",
              "LICENCIA DE AMPLIACIÓN-REMODELACIÓN Y DEMOLICIÓN PARCIAL           1\n",
              "LICENCIA DE CERCO                                                  1\n",
              "LICENCIA DE CERCO Y DEMOLICIÓN                                     1\n",
              "LICENCIA DE DEMOLICION                                             8\n",
              "LICENCIA DE DEMOLICION TOTAL                                       1\n",
              "LICENCIA DE DEMOLICION TOTAL                                       1\n",
              "LICENCIA DE EDIFICACION - AMPLIACIÓN                               1\n",
              "LICENCIA DE EDIFICACION NUEVA                                      2\n",
              "LICENCIA DE EDIFICACION NUEVA                                      9\n",
              "LICENCIA DE EDIFICACION OBRA NUEVA                                 1\n",
              "LICENCIA DE MODIFICACION DE PROYECTO                               1\n",
              "LICENCIA DE OBRA NUEVA                                             7\n",
              "LICENCIA DE REMODELACIÓN                                           1\n",
              "LICENCIA DEMOLICION TOTAL                                          3\n",
              "LICENCIA OBRA NUEVA                                                2\n",
              "LICENCIA OBRA NUEVA - ETAPA 2                                      1\n",
              "LICENCIA OBRA NUEVA - ETAPA 3                                      1\n",
              "LICENCIA OBRA NUEVA - ETAPA 4                                      1\n",
              "LICENCIA OBRA NUEVA ETAPA 1                                        1\n",
              "LICENCIA OBRA NUEVA ETAPA 2                                        1\n",
              "LICENDIA DE EDIFICACION NUEVA                                      2\n",
              "MOD. DE LICENCIA - REMODELACIÓN                                    1\n",
              "MOD. DE PROYECTO                                                   1\n",
              "MOD. DE PROYECTO (AMPLIACIÓN Y REMODELACIÓN)                       1\n",
              "MOD. DE PROYECTO - REMODELACIÓN                                    1\n",
              "MOD. DE PROYECTO REMODELACIÓN Y AMPLIACIÓN                         1\n",
              "MOD. DE PROYECTO REMODELACIÓN Y AMPLIACIÓN - REVISORES URBANOS     1\n",
              "MODIFICACION DE LICENCIA DE EDIFICACION OBRA NUEVA                 1\n",
              "OBRA NUEVA                                                        12\n",
              "REGULARIZACIÓN AMPLIACIÓN Y REMODELACIÓN                           1\n",
              "REMODELACIÓN                                                       1\n",
              "nan                                                                2\n",
              "Name: TIPO OBRA, dtype: int64"
            ]
          },
          "metadata": {},
          "execution_count": 84
        }
      ],
      "source": [
        "df_ordenado['TIPO OBRA'].value_counts(dropna=False).sort_index()"
      ]
    },
    {
      "cell_type": "code",
      "execution_count": 85,
      "metadata": {
        "id": "esFV8a7bDONh"
      },
      "outputs": [],
      "source": [
        "df_ordenado['TIPO OBRA'] = df_ordenado['TIPO OBRA'].str.strip()"
      ]
    },
    {
      "cell_type": "code",
      "execution_count": 86,
      "metadata": {
        "colab": {
          "base_uri": "https://localhost:8080/"
        },
        "id": "HsyM7xFQDeb-",
        "outputId": "8815d7cb-4260-4084-f94f-8f4083236c75"
      },
      "outputs": [
        {
          "output_type": "execute_result",
          "data": {
            "text/plain": [
              "AMPLIACION                                                         7\n",
              "AMPLIACION - DEMOLICION PARCIAL                                    1\n",
              "AMPLIACION - REMODELACION                                          5\n",
              "AMPLIACION - REMODELACION - DEMOLICION PARCIAL                     1\n",
              "AMPLIACIÓN Y REMODELACIÓN                                          2\n",
              "AMPLIACIÓN/REMODELACIÓN                                            3\n",
              "CERCADO - REMODELACION                                             1\n",
              "CERCO PERIMETRICO                                                  3\n",
              "DEMOLICION TOTAL                                                  18\n",
              "DMEOLICION TOTAL                                                   1\n",
              "LICENCIA AMP,REM,DEM.                                              1\n",
              "LICENCIA AMPLIACIÓN - REMODELACIÓN                                 1\n",
              "LICENCIA DE AMPLIACIÓN                                             2\n",
              "LICENCIA DE AMPLIACIÓN Y REMODELACIÓN                              1\n",
              "LICENCIA DE AMPLIACIÓN-REMODELACIÓN Y DEMOLICIÓN PARCIAL           1\n",
              "LICENCIA DE CERCO                                                  1\n",
              "LICENCIA DE CERCO Y DEMOLICIÓN                                     1\n",
              "LICENCIA DE DEMOLICION                                             8\n",
              "LICENCIA DE DEMOLICION TOTAL                                       2\n",
              "LICENCIA DE EDIFICACION - AMPLIACIÓN                               1\n",
              "LICENCIA DE EDIFICACION NUEVA                                     11\n",
              "LICENCIA DE EDIFICACION OBRA NUEVA                                 1\n",
              "LICENCIA DE MODIFICACION DE PROYECTO                               1\n",
              "LICENCIA DE OBRA NUEVA                                             7\n",
              "LICENCIA DE REMODELACIÓN                                           1\n",
              "LICENCIA DEMOLICION TOTAL                                          3\n",
              "LICENCIA OBRA NUEVA                                                2\n",
              "LICENCIA OBRA NUEVA - ETAPA 2                                      1\n",
              "LICENCIA OBRA NUEVA - ETAPA 3                                      1\n",
              "LICENCIA OBRA NUEVA - ETAPA 4                                      1\n",
              "LICENCIA OBRA NUEVA ETAPA 1                                        1\n",
              "LICENCIA OBRA NUEVA ETAPA 2                                        1\n",
              "LICENDIA DE EDIFICACION NUEVA                                      2\n",
              "MOD. DE LICENCIA - REMODELACIÓN                                    1\n",
              "MOD. DE PROYECTO                                                   1\n",
              "MOD. DE PROYECTO (AMPLIACIÓN Y REMODELACIÓN)                       1\n",
              "MOD. DE PROYECTO - REMODELACIÓN                                    1\n",
              "MOD. DE PROYECTO REMODELACIÓN Y AMPLIACIÓN                         1\n",
              "MOD. DE PROYECTO REMODELACIÓN Y AMPLIACIÓN - REVISORES URBANOS     1\n",
              "MODIFICACION DE LICENCIA DE EDIFICACION OBRA NUEVA                 1\n",
              "OBRA NUEVA                                                        12\n",
              "REGULARIZACIÓN AMPLIACIÓN Y REMODELACIÓN                           1\n",
              "REMODELACIÓN                                                       1\n",
              "nan                                                                2\n",
              "Name: TIPO OBRA, dtype: int64"
            ]
          },
          "metadata": {},
          "execution_count": 86
        }
      ],
      "source": [
        "df_ordenado['TIPO OBRA'].value_counts(dropna=False).sort_index()"
      ]
    },
    {
      "cell_type": "code",
      "execution_count": 87,
      "metadata": {
        "colab": {
          "base_uri": "https://localhost:8080/"
        },
        "id": "J82dzr_HDoKF",
        "outputId": "13427404-6226-4f88-db9c-92c9bfbc8872"
      },
      "outputs": [
        {
          "output_type": "execute_result",
          "data": {
            "text/plain": [
              "LICENCIA DE AMPLIACION - DEMOLICION PARCIAL                  1\n",
              "LICENCIA DE AMPLIACION - REMODELACION                       12\n",
              "LICENCIA DE AMPLIACIÓN                                       9\n",
              "LICENCIA DE AMPLIACIÓN-REMODELACIÓN Y DEMOLICIÓN PARCIAL     2\n",
              "LICENCIA DE CERCADO                                          1\n",
              "LICENCIA DE CERCO                                            5\n",
              "LICENCIA DE DEMOLICION TOTAL                                32\n",
              "LICENCIA DE EDIFICACION - AMPLIACIÓN                         1\n",
              "LICENCIA DE EDIFICACION OBRA NUEVA                          38\n",
              "LICENCIA DE MODIFICACION DE PROYECTO                         6\n",
              "LICENCIA DE REMODELACIÓN                                     5\n",
              "LICENCIA OBRA NUEVA ETAPA 2                                  1\n",
              "LICENCIA OBRA NUEVA ETAPA 3                                  1\n",
              "LICENCIA OBRA NUEVA ETAPA 4                                  1\n",
              "nan                                                          2\n",
              "Name: TIPO OBRA, dtype: int64"
            ]
          },
          "metadata": {},
          "execution_count": 87
        }
      ],
      "source": [
        "def OBRA(DETALLE2):\n",
        "    if 'MOD. DE PROYECTO' in DETALLE2:\n",
        "        return 'LICENCIA DE MODIFICACION DE PROYECTO'\n",
        "    elif 'LICENCIA DE DEMOLICION' in DETALLE2:\n",
        "        return 'LICENCIA DE DEMOLICION TOTAL'\n",
        "    elif \"LICENCIA DEMOLICION TOTAL\" in DETALLE2:\n",
        "        return \"LICENCIA DE DEMOLICION TOTAL\"\n",
        "    elif \"LICENCIA OBRA NUEVA - ETAPA 2\" in DETALLE2:\n",
        "        return \"LICENCIA OBRA NUEVA ETAPA 2\"\n",
        "    elif \"LICENCIA OBRA NUEVA - ETAPA 3\" in DETALLE2:\n",
        "        return \"LICENCIA OBRA NUEVA ETAPA 3\"\n",
        "    elif \"LICENCIA OBRA NUEVA - ETAPA 4\" in DETALLE2:\n",
        "        return \"LICENCIA OBRA NUEVA ETAPA 4\"\n",
        "    elif \"OLICION TOTAL\" in DETALLE2:\n",
        "        return \"LICENCIA DE DEMOLICION TOTAL\"\n",
        "    elif \"AMPLIACIÓN Y REMODELACIÓN\" in DETALLE2:\n",
        "        return \"LICENCIA DE AMPLIACION - REMODELACION\"\n",
        "    elif \"AMPLIACIÓN/REMODELACIÓN\" in DETALLE2:\n",
        "        return \"LICENCIA DE AMPLIACION - REMODELACION\"\n",
        "    elif \"AMPLIACION - REMODELACION - DEMOLICION PARCIAL\" in DETALLE2:\n",
        "        return \"LICENCIA DE AMPLIACIÓN-REMODELACIÓN Y DEMOLICIÓN PARCIAL\"\n",
        "    elif \"LICENCIA AMP,REM,DEM.\" in DETALLE2:\n",
        "        return \"LICENCIA DE AMPLIACIÓN-REMODELACIÓN Y DEMOLICIÓN PARCIAL\"\n",
        "    elif \"CERCADO\" in DETALLE2:\n",
        "        return \"LICENCIA DE CERCADO\"\n",
        "    elif \"CERCO\" in DETALLE2:\n",
        "        return \"LICENCIA DE CERCO\"\n",
        "    elif \"AMPLIACION - REMODELACION\" in DETALLE2:\n",
        "        return \"LICENCIA DE AMPLIACION - REMODELACION\"\n",
        "    elif \"LICENCIA AMPLIACIÓN - REMODELACIÓN \" in DETALLE2:\n",
        "        return \"LICENCIA DE AMPLIACION - REMODELACION\"\n",
        "    elif \"REMODELACIÓN\" in DETALLE2:\n",
        "        return \"LICENCIA DE REMODELACIÓN\"\n",
        "    elif \"OBRA NUEVA\" in DETALLE2:\n",
        "        return \"LICENCIA DE EDIFICACION OBRA NUEVA\"\n",
        "    elif \"NUEVA\" in DETALLE2:\n",
        "        return \"LICENCIA DE EDIFICACION OBRA NUEVA\"\n",
        "    elif \"AMPLIACION - DEMOLICION PARCIAL\" in DETALLE2:\n",
        "        return \"LICENCIA DE AMPLIACION - DEMOLICION PARCIAL\"\n",
        "    elif \"AMPLIACION\" in DETALLE2:\n",
        "        return \"LICENCIA DE AMPLIACIÓN\"\n",
        "    else:\n",
        "        return DETALLE2\n",
        "\n",
        "df_ordenado['TIPO OBRA'] = df_ordenado['TIPO OBRA'].apply(OBRA)\n",
        "\n",
        "df_ordenado['TIPO OBRA'].value_counts(dropna=False).sort_index()"
      ]
    },
    {
      "cell_type": "markdown",
      "metadata": {
        "id": "WOGanU8dBeYz"
      },
      "source": [
        "The categories are well written.\n",
        "\n",
        "Let's see the numeric columns. Let's identify cell that do not have numeric strings:\n"
      ]
    },
    {
      "cell_type": "markdown",
      "metadata": {
        "id": "1Ed6W0r0KVWu"
      },
      "source": [
        "Numéricos"
      ]
    },
    {
      "cell_type": "markdown",
      "metadata": {
        "id": "08PbA5RVqI5N"
      },
      "source": [
        "Obra Nueva"
      ]
    },
    {
      "cell_type": "code",
      "execution_count": 88,
      "metadata": {
        "id": "ua5Q4xwBBeYz"
      },
      "outputs": [],
      "source": [
        "OBRA_NUEVA1 = df_ordenado[\"OBRA NUEVA\"].str.contains('^\\d+\\.?\\d*$', na=False)"
      ]
    },
    {
      "cell_type": "code",
      "execution_count": 89,
      "metadata": {
        "id": "Ol3skz8ez9no"
      },
      "outputs": [],
      "source": [
        "OBRA_NUEVA1 = df_ordenado[\"OBRA NUEVA\"].str.contains('^\\d+\\.?\\d*$', na=False)\n",
        "OBRA_NUEVA2 = OBRA_NUEVA1.fillna(False)  # O True, dependiendo de la lógica deseada"
      ]
    },
    {
      "cell_type": "markdown",
      "metadata": {
        "id": "yhcdRAjjBeYz"
      },
      "source": [
        "Then, we can generalize:"
      ]
    },
    {
      "cell_type": "code",
      "execution_count": 90,
      "metadata": {
        "id": "BHi9ftci_CeH"
      },
      "outputs": [],
      "source": [
        "numeric_columns = ['OBRA NUEVA', 'OBRA DEMOLICIÓN',\n",
        "               'OBRA REMODELACIÓN', 'OBRA AMPLIACIÓN', 'OBRA REFACCIÓN',\n",
        "               'OBRA CERCO','AREA TOTAL CONSTRUIDA', 'VALOR OBRA']"
      ]
    },
    {
      "cell_type": "code",
      "execution_count": 91,
      "metadata": {
        "colab": {
          "base_uri": "https://localhost:8080/",
          "height": 441
        },
        "id": "V58swaJ3BVNf",
        "outputId": "35c9488c-3225-4148-e10f-ebb9a6fd9cbe"
      },
      "outputs": [
        {
          "output_type": "execute_result",
          "data": {
            "text/plain": [
              "    OBRA NUEVA OBRA DEMOLICIÓN OBRA REMODELACIÓN OBRA AMPLIACIÓN  \\\n",
              "0            -               -             97.83          208.46   \n",
              "115          -             200                 -               -   \n",
              "116    1688.79               -                 -               -   \n",
              "117    1950.08               -                 -               -   \n",
              "119   11756.55           65.58            1724.5         2714.76   \n",
              "..         ...             ...               ...             ...   \n",
              "61      469.88               -                 -               -   \n",
              "63           -          194.28                 -               -   \n",
              "64           -          162.24                 -               -   \n",
              "66           -             102                 -               -   \n",
              "179     935.32               -                 -               -   \n",
              "\n",
              "    OBRA REFACCIÓN OBRA CERCO AREA TOTAL CONSTRUIDA   VALOR OBRA  \n",
              "0                -          -                208.46   225.652.12  \n",
              "115              -          -                     -      45455.7  \n",
              "116              -          -               1688.79   1561032.09  \n",
              "117              -          -               1950.08   1885715.08  \n",
              "119              -          -                     -  13322075.74  \n",
              "..             ...        ...                   ...          ...  \n",
              "61               -          -                469.88   359.246.75  \n",
              "63               -          -                     -     88222.55  \n",
              "64               -          -                     -     88222.55  \n",
              "66               -          -                     -      14427.9  \n",
              "179              -          -                935.32    752031.05  \n",
              "\n",
              "[117 rows x 8 columns]"
            ],
            "text/html": [
              "\n",
              "  <div id=\"df-475b661a-85b1-4188-a260-185e38350477\" class=\"colab-df-container\">\n",
              "    <div>\n",
              "<style scoped>\n",
              "    .dataframe tbody tr th:only-of-type {\n",
              "        vertical-align: middle;\n",
              "    }\n",
              "\n",
              "    .dataframe tbody tr th {\n",
              "        vertical-align: top;\n",
              "    }\n",
              "\n",
              "    .dataframe thead th {\n",
              "        text-align: right;\n",
              "    }\n",
              "</style>\n",
              "<table border=\"1\" class=\"dataframe\">\n",
              "  <thead>\n",
              "    <tr style=\"text-align: right;\">\n",
              "      <th></th>\n",
              "      <th>OBRA NUEVA</th>\n",
              "      <th>OBRA DEMOLICIÓN</th>\n",
              "      <th>OBRA REMODELACIÓN</th>\n",
              "      <th>OBRA AMPLIACIÓN</th>\n",
              "      <th>OBRA REFACCIÓN</th>\n",
              "      <th>OBRA CERCO</th>\n",
              "      <th>AREA TOTAL CONSTRUIDA</th>\n",
              "      <th>VALOR OBRA</th>\n",
              "    </tr>\n",
              "  </thead>\n",
              "  <tbody>\n",
              "    <tr>\n",
              "      <th>0</th>\n",
              "      <td>-</td>\n",
              "      <td>-</td>\n",
              "      <td>97.83</td>\n",
              "      <td>208.46</td>\n",
              "      <td>-</td>\n",
              "      <td>-</td>\n",
              "      <td>208.46</td>\n",
              "      <td>225.652.12</td>\n",
              "    </tr>\n",
              "    <tr>\n",
              "      <th>115</th>\n",
              "      <td>-</td>\n",
              "      <td>200</td>\n",
              "      <td>-</td>\n",
              "      <td>-</td>\n",
              "      <td>-</td>\n",
              "      <td>-</td>\n",
              "      <td>-</td>\n",
              "      <td>45455.7</td>\n",
              "    </tr>\n",
              "    <tr>\n",
              "      <th>116</th>\n",
              "      <td>1688.79</td>\n",
              "      <td>-</td>\n",
              "      <td>-</td>\n",
              "      <td>-</td>\n",
              "      <td>-</td>\n",
              "      <td>-</td>\n",
              "      <td>1688.79</td>\n",
              "      <td>1561032.09</td>\n",
              "    </tr>\n",
              "    <tr>\n",
              "      <th>117</th>\n",
              "      <td>1950.08</td>\n",
              "      <td>-</td>\n",
              "      <td>-</td>\n",
              "      <td>-</td>\n",
              "      <td>-</td>\n",
              "      <td>-</td>\n",
              "      <td>1950.08</td>\n",
              "      <td>1885715.08</td>\n",
              "    </tr>\n",
              "    <tr>\n",
              "      <th>119</th>\n",
              "      <td>11756.55</td>\n",
              "      <td>65.58</td>\n",
              "      <td>1724.5</td>\n",
              "      <td>2714.76</td>\n",
              "      <td>-</td>\n",
              "      <td>-</td>\n",
              "      <td>-</td>\n",
              "      <td>13322075.74</td>\n",
              "    </tr>\n",
              "    <tr>\n",
              "      <th>...</th>\n",
              "      <td>...</td>\n",
              "      <td>...</td>\n",
              "      <td>...</td>\n",
              "      <td>...</td>\n",
              "      <td>...</td>\n",
              "      <td>...</td>\n",
              "      <td>...</td>\n",
              "      <td>...</td>\n",
              "    </tr>\n",
              "    <tr>\n",
              "      <th>61</th>\n",
              "      <td>469.88</td>\n",
              "      <td>-</td>\n",
              "      <td>-</td>\n",
              "      <td>-</td>\n",
              "      <td>-</td>\n",
              "      <td>-</td>\n",
              "      <td>469.88</td>\n",
              "      <td>359.246.75</td>\n",
              "    </tr>\n",
              "    <tr>\n",
              "      <th>63</th>\n",
              "      <td>-</td>\n",
              "      <td>194.28</td>\n",
              "      <td>-</td>\n",
              "      <td>-</td>\n",
              "      <td>-</td>\n",
              "      <td>-</td>\n",
              "      <td>-</td>\n",
              "      <td>88222.55</td>\n",
              "    </tr>\n",
              "    <tr>\n",
              "      <th>64</th>\n",
              "      <td>-</td>\n",
              "      <td>162.24</td>\n",
              "      <td>-</td>\n",
              "      <td>-</td>\n",
              "      <td>-</td>\n",
              "      <td>-</td>\n",
              "      <td>-</td>\n",
              "      <td>88222.55</td>\n",
              "    </tr>\n",
              "    <tr>\n",
              "      <th>66</th>\n",
              "      <td>-</td>\n",
              "      <td>102</td>\n",
              "      <td>-</td>\n",
              "      <td>-</td>\n",
              "      <td>-</td>\n",
              "      <td>-</td>\n",
              "      <td>-</td>\n",
              "      <td>14427.9</td>\n",
              "    </tr>\n",
              "    <tr>\n",
              "      <th>179</th>\n",
              "      <td>935.32</td>\n",
              "      <td>-</td>\n",
              "      <td>-</td>\n",
              "      <td>-</td>\n",
              "      <td>-</td>\n",
              "      <td>-</td>\n",
              "      <td>935.32</td>\n",
              "      <td>752031.05</td>\n",
              "    </tr>\n",
              "  </tbody>\n",
              "</table>\n",
              "<p>117 rows × 8 columns</p>\n",
              "</div>\n",
              "    <div class=\"colab-df-buttons\">\n",
              "\n",
              "  <div class=\"colab-df-container\">\n",
              "    <button class=\"colab-df-convert\" onclick=\"convertToInteractive('df-475b661a-85b1-4188-a260-185e38350477')\"\n",
              "            title=\"Convert this dataframe to an interactive table.\"\n",
              "            style=\"display:none;\">\n",
              "\n",
              "  <svg xmlns=\"http://www.w3.org/2000/svg\" height=\"24px\" viewBox=\"0 -960 960 960\">\n",
              "    <path d=\"M120-120v-720h720v720H120Zm60-500h600v-160H180v160Zm220 220h160v-160H400v160Zm0 220h160v-160H400v160ZM180-400h160v-160H180v160Zm440 0h160v-160H620v160ZM180-180h160v-160H180v160Zm440 0h160v-160H620v160Z\"/>\n",
              "  </svg>\n",
              "    </button>\n",
              "\n",
              "  <style>\n",
              "    .colab-df-container {\n",
              "      display:flex;\n",
              "      gap: 12px;\n",
              "    }\n",
              "\n",
              "    .colab-df-convert {\n",
              "      background-color: #E8F0FE;\n",
              "      border: none;\n",
              "      border-radius: 50%;\n",
              "      cursor: pointer;\n",
              "      display: none;\n",
              "      fill: #1967D2;\n",
              "      height: 32px;\n",
              "      padding: 0 0 0 0;\n",
              "      width: 32px;\n",
              "    }\n",
              "\n",
              "    .colab-df-convert:hover {\n",
              "      background-color: #E2EBFA;\n",
              "      box-shadow: 0px 1px 2px rgba(60, 64, 67, 0.3), 0px 1px 3px 1px rgba(60, 64, 67, 0.15);\n",
              "      fill: #174EA6;\n",
              "    }\n",
              "\n",
              "    .colab-df-buttons div {\n",
              "      margin-bottom: 4px;\n",
              "    }\n",
              "\n",
              "    [theme=dark] .colab-df-convert {\n",
              "      background-color: #3B4455;\n",
              "      fill: #D2E3FC;\n",
              "    }\n",
              "\n",
              "    [theme=dark] .colab-df-convert:hover {\n",
              "      background-color: #434B5C;\n",
              "      box-shadow: 0px 1px 3px 1px rgba(0, 0, 0, 0.15);\n",
              "      filter: drop-shadow(0px 1px 2px rgba(0, 0, 0, 0.3));\n",
              "      fill: #FFFFFF;\n",
              "    }\n",
              "  </style>\n",
              "\n",
              "    <script>\n",
              "      const buttonEl =\n",
              "        document.querySelector('#df-475b661a-85b1-4188-a260-185e38350477 button.colab-df-convert');\n",
              "      buttonEl.style.display =\n",
              "        google.colab.kernel.accessAllowed ? 'block' : 'none';\n",
              "\n",
              "      async function convertToInteractive(key) {\n",
              "        const element = document.querySelector('#df-475b661a-85b1-4188-a260-185e38350477');\n",
              "        const dataTable =\n",
              "          await google.colab.kernel.invokeFunction('convertToInteractive',\n",
              "                                                    [key], {});\n",
              "        if (!dataTable) return;\n",
              "\n",
              "        const docLinkHtml = 'Like what you see? Visit the ' +\n",
              "          '<a target=\"_blank\" href=https://colab.research.google.com/notebooks/data_table.ipynb>data table notebook</a>'\n",
              "          + ' to learn more about interactive tables.';\n",
              "        element.innerHTML = '';\n",
              "        dataTable['output_type'] = 'display_data';\n",
              "        await google.colab.output.renderOutput(dataTable, element);\n",
              "        const docLink = document.createElement('div');\n",
              "        docLink.innerHTML = docLinkHtml;\n",
              "        element.appendChild(docLink);\n",
              "      }\n",
              "    </script>\n",
              "  </div>\n",
              "\n",
              "\n",
              "<div id=\"df-5e6cb212-e26b-4ae6-98f2-828ffd1e91d5\">\n",
              "  <button class=\"colab-df-quickchart\" onclick=\"quickchart('df-5e6cb212-e26b-4ae6-98f2-828ffd1e91d5')\"\n",
              "            title=\"Suggest charts\"\n",
              "            style=\"display:none;\">\n",
              "\n",
              "<svg xmlns=\"http://www.w3.org/2000/svg\" height=\"24px\"viewBox=\"0 0 24 24\"\n",
              "     width=\"24px\">\n",
              "    <g>\n",
              "        <path d=\"M19 3H5c-1.1 0-2 .9-2 2v14c0 1.1.9 2 2 2h14c1.1 0 2-.9 2-2V5c0-1.1-.9-2-2-2zM9 17H7v-7h2v7zm4 0h-2V7h2v10zm4 0h-2v-4h2v4z\"/>\n",
              "    </g>\n",
              "</svg>\n",
              "  </button>\n",
              "\n",
              "<style>\n",
              "  .colab-df-quickchart {\n",
              "      --bg-color: #E8F0FE;\n",
              "      --fill-color: #1967D2;\n",
              "      --hover-bg-color: #E2EBFA;\n",
              "      --hover-fill-color: #174EA6;\n",
              "      --disabled-fill-color: #AAA;\n",
              "      --disabled-bg-color: #DDD;\n",
              "  }\n",
              "\n",
              "  [theme=dark] .colab-df-quickchart {\n",
              "      --bg-color: #3B4455;\n",
              "      --fill-color: #D2E3FC;\n",
              "      --hover-bg-color: #434B5C;\n",
              "      --hover-fill-color: #FFFFFF;\n",
              "      --disabled-bg-color: #3B4455;\n",
              "      --disabled-fill-color: #666;\n",
              "  }\n",
              "\n",
              "  .colab-df-quickchart {\n",
              "    background-color: var(--bg-color);\n",
              "    border: none;\n",
              "    border-radius: 50%;\n",
              "    cursor: pointer;\n",
              "    display: none;\n",
              "    fill: var(--fill-color);\n",
              "    height: 32px;\n",
              "    padding: 0;\n",
              "    width: 32px;\n",
              "  }\n",
              "\n",
              "  .colab-df-quickchart:hover {\n",
              "    background-color: var(--hover-bg-color);\n",
              "    box-shadow: 0 1px 2px rgba(60, 64, 67, 0.3), 0 1px 3px 1px rgba(60, 64, 67, 0.15);\n",
              "    fill: var(--button-hover-fill-color);\n",
              "  }\n",
              "\n",
              "  .colab-df-quickchart-complete:disabled,\n",
              "  .colab-df-quickchart-complete:disabled:hover {\n",
              "    background-color: var(--disabled-bg-color);\n",
              "    fill: var(--disabled-fill-color);\n",
              "    box-shadow: none;\n",
              "  }\n",
              "\n",
              "  .colab-df-spinner {\n",
              "    border: 2px solid var(--fill-color);\n",
              "    border-color: transparent;\n",
              "    border-bottom-color: var(--fill-color);\n",
              "    animation:\n",
              "      spin 1s steps(1) infinite;\n",
              "  }\n",
              "\n",
              "  @keyframes spin {\n",
              "    0% {\n",
              "      border-color: transparent;\n",
              "      border-bottom-color: var(--fill-color);\n",
              "      border-left-color: var(--fill-color);\n",
              "    }\n",
              "    20% {\n",
              "      border-color: transparent;\n",
              "      border-left-color: var(--fill-color);\n",
              "      border-top-color: var(--fill-color);\n",
              "    }\n",
              "    30% {\n",
              "      border-color: transparent;\n",
              "      border-left-color: var(--fill-color);\n",
              "      border-top-color: var(--fill-color);\n",
              "      border-right-color: var(--fill-color);\n",
              "    }\n",
              "    40% {\n",
              "      border-color: transparent;\n",
              "      border-right-color: var(--fill-color);\n",
              "      border-top-color: var(--fill-color);\n",
              "    }\n",
              "    60% {\n",
              "      border-color: transparent;\n",
              "      border-right-color: var(--fill-color);\n",
              "    }\n",
              "    80% {\n",
              "      border-color: transparent;\n",
              "      border-right-color: var(--fill-color);\n",
              "      border-bottom-color: var(--fill-color);\n",
              "    }\n",
              "    90% {\n",
              "      border-color: transparent;\n",
              "      border-bottom-color: var(--fill-color);\n",
              "    }\n",
              "  }\n",
              "</style>\n",
              "\n",
              "  <script>\n",
              "    async function quickchart(key) {\n",
              "      const quickchartButtonEl =\n",
              "        document.querySelector('#' + key + ' button');\n",
              "      quickchartButtonEl.disabled = true;  // To prevent multiple clicks.\n",
              "      quickchartButtonEl.classList.add('colab-df-spinner');\n",
              "      try {\n",
              "        const charts = await google.colab.kernel.invokeFunction(\n",
              "            'suggestCharts', [key], {});\n",
              "      } catch (error) {\n",
              "        console.error('Error during call to suggestCharts:', error);\n",
              "      }\n",
              "      quickchartButtonEl.classList.remove('colab-df-spinner');\n",
              "      quickchartButtonEl.classList.add('colab-df-quickchart-complete');\n",
              "    }\n",
              "    (() => {\n",
              "      let quickchartButtonEl =\n",
              "        document.querySelector('#df-5e6cb212-e26b-4ae6-98f2-828ffd1e91d5 button');\n",
              "      quickchartButtonEl.style.display =\n",
              "        google.colab.kernel.accessAllowed ? 'block' : 'none';\n",
              "    })();\n",
              "  </script>\n",
              "</div>\n",
              "    </div>\n",
              "  </div>\n"
            ],
            "application/vnd.google.colaboratory.intrinsic+json": {
              "type": "dataframe",
              "summary": "{\n  \"name\": \"               'OBRA CERCO','AREA TOTAL CONSTRUIDA', 'VALOR OBRA']]\",\n  \"rows\": 117,\n  \"fields\": [\n    {\n      \"column\": \"OBRA NUEVA\",\n      \"properties\": {\n        \"dtype\": \"category\",\n        \"samples\": [\n          11227.5,\n          4860.29,\n          3176\n        ],\n        \"num_unique_values\": 42,\n        \"semantic_type\": \"\",\n        \"description\": \"\"\n      }\n    },\n    {\n      \"column\": \"OBRA DEMOLICI\\u00d3N\",\n      \"properties\": {\n        \"dtype\": \"category\",\n        \"samples\": [\n          191.74,\n          159.73,\n          240\n        ],\n        \"num_unique_values\": 37,\n        \"semantic_type\": \"\",\n        \"description\": \"\"\n      }\n    },\n    {\n      \"column\": \"OBRA REMODELACI\\u00d3N\",\n      \"properties\": {\n        \"dtype\": \"category\",\n        \"samples\": [\n          243.26,\n          130,\n          1623.85\n        ],\n        \"num_unique_values\": 29,\n        \"semantic_type\": \"\",\n        \"description\": \"\"\n      }\n    },\n    {\n      \"column\": \"OBRA AMPLIACI\\u00d3N\",\n      \"properties\": {\n        \"dtype\": \"category\",\n        \"samples\": [\n          10.23,\n          102.99,\n          \"38.86\"\n        ],\n        \"num_unique_values\": 32,\n        \"semantic_type\": \"\",\n        \"description\": \"\"\n      }\n    },\n    {\n      \"column\": \"OBRA REFACCI\\u00d3N\",\n      \"properties\": {\n        \"dtype\": \"category\",\n        \"samples\": [\n          \"-\"\n        ],\n        \"num_unique_values\": 1,\n        \"semantic_type\": \"\",\n        \"description\": \"\"\n      }\n    },\n    {\n      \"column\": \"OBRA CERCO\",\n      \"properties\": {\n        \"dtype\": \"category\",\n        \"samples\": [\n          \"-\"\n        ],\n        \"num_unique_values\": 6,\n        \"semantic_type\": \"\",\n        \"description\": \"\"\n      }\n    },\n    {\n      \"column\": \"AREA TOTAL CONSTRUIDA\",\n      \"properties\": {\n        \"dtype\": \"string\",\n        \"samples\": [\n          441.64\n        ],\n        \"num_unique_values\": 64,\n        \"semantic_type\": \"\",\n        \"description\": \"\"\n      }\n    },\n    {\n      \"column\": \"VALOR OBRA\",\n      \"properties\": {\n        \"dtype\": \"string\",\n        \"samples\": [\n          38471.75\n        ],\n        \"num_unique_values\": 110,\n        \"semantic_type\": \"\",\n        \"description\": \"\"\n      }\n    }\n  ]\n}"
            }
          },
          "metadata": {},
          "execution_count": 91
        }
      ],
      "source": [
        "df_ordenado[['OBRA NUEVA', 'OBRA DEMOLICIÓN',\n",
        "               'OBRA REMODELACIÓN', 'OBRA AMPLIACIÓN', 'OBRA REFACCIÓN',\n",
        "               'OBRA CERCO','AREA TOTAL CONSTRUIDA', 'VALOR OBRA']]=df_ordenado.iloc[:,[22,23,24,25,26,27,28,29]].replace(',','.',regex=True).replace(\" \",\"\",regex=True).replace(\"ML\",\"\",regex=True).replace(\"M2\",\"\",regex=True).replace(\"´\",\"\",regex=True).replace(\"’\",\"\",regex=True)\n",
        "df_ordenado[['OBRA NUEVA', 'OBRA DEMOLICIÓN',\n",
        "               'OBRA REMODELACIÓN', 'OBRA AMPLIACIÓN', 'OBRA REFACCIÓN',\n",
        "               'OBRA CERCO','AREA TOTAL CONSTRUIDA', 'VALOR OBRA']]"
      ]
    },
    {
      "cell_type": "code",
      "source": [
        "def corregir_numero(valor):\n",
        "    if isinstance(valor, str):\n",
        "        valor = valor.strip()\n",
        "        valor = valor.replace(',', '.')\n",
        "        partes = valor.split('.')\n",
        "        if len(partes) > 2:\n",
        "            valor_corregido = ''.join(partes[:-1]) + '.' + partes[-1]\n",
        "        else:\n",
        "            valor_corregido = valor\n",
        "        return valor_corregido\n",
        "    return valor\n",
        "\n",
        "df_ordenado['VALOR OBRA'] = df_ordenado['VALOR OBRA'].apply(corregir_numero)\n",
        "\n",
        "df_ordenado['VALOR OBRA'] = pd.to_numeric(df_ordenado['VALOR OBRA'], errors='coerce')\n",
        "\n",
        "print(df_ordenado['VALOR OBRA'])"
      ],
      "metadata": {
        "colab": {
          "base_uri": "https://localhost:8080/"
        },
        "id": "Ihw5O1GjDg3k",
        "outputId": "2e111f11-720a-4429-d71d-02db4348f523"
      },
      "execution_count": 92,
      "outputs": [
        {
          "output_type": "stream",
          "name": "stdout",
          "text": [
            "0        225652.12\n",
            "115       45455.70\n",
            "116     1561032.09\n",
            "117     1885715.08\n",
            "119    13322075.74\n",
            "          ...     \n",
            "61       359246.75\n",
            "63        88222.55\n",
            "64        88222.55\n",
            "66        14427.90\n",
            "179      752031.05\n",
            "Name: VALOR OBRA, Length: 117, dtype: float64\n"
          ]
        }
      ]
    },
    {
      "cell_type": "code",
      "source": [
        "df_ordenado[['OBRA NUEVA', 'OBRA DEMOLICIÓN',\n",
        "               'OBRA REMODELACIÓN', 'OBRA AMPLIACIÓN', 'OBRA REFACCIÓN',\n",
        "               'OBRA CERCO','AREA TOTAL CONSTRUIDA', 'VALOR OBRA']]"
      ],
      "metadata": {
        "colab": {
          "base_uri": "https://localhost:8080/",
          "height": 441
        },
        "id": "cScCHEnLFCKB",
        "outputId": "a98a064a-d4fd-47d5-a8f4-a6c5cc4fef82"
      },
      "execution_count": 93,
      "outputs": [
        {
          "output_type": "execute_result",
          "data": {
            "text/plain": [
              "    OBRA NUEVA OBRA DEMOLICIÓN OBRA REMODELACIÓN OBRA AMPLIACIÓN  \\\n",
              "0            -               -             97.83          208.46   \n",
              "115          -             200                 -               -   \n",
              "116    1688.79               -                 -               -   \n",
              "117    1950.08               -                 -               -   \n",
              "119   11756.55           65.58            1724.5         2714.76   \n",
              "..         ...             ...               ...             ...   \n",
              "61      469.88               -                 -               -   \n",
              "63           -          194.28                 -               -   \n",
              "64           -          162.24                 -               -   \n",
              "66           -             102                 -               -   \n",
              "179     935.32               -                 -               -   \n",
              "\n",
              "    OBRA REFACCIÓN OBRA CERCO AREA TOTAL CONSTRUIDA   VALOR OBRA  \n",
              "0                -          -                208.46    225652.12  \n",
              "115              -          -                     -     45455.70  \n",
              "116              -          -               1688.79   1561032.09  \n",
              "117              -          -               1950.08   1885715.08  \n",
              "119              -          -                     -  13322075.74  \n",
              "..             ...        ...                   ...          ...  \n",
              "61               -          -                469.88    359246.75  \n",
              "63               -          -                     -     88222.55  \n",
              "64               -          -                     -     88222.55  \n",
              "66               -          -                     -     14427.90  \n",
              "179              -          -                935.32    752031.05  \n",
              "\n",
              "[117 rows x 8 columns]"
            ],
            "text/html": [
              "\n",
              "  <div id=\"df-c4f26905-32a8-4b58-8dcb-90912688899e\" class=\"colab-df-container\">\n",
              "    <div>\n",
              "<style scoped>\n",
              "    .dataframe tbody tr th:only-of-type {\n",
              "        vertical-align: middle;\n",
              "    }\n",
              "\n",
              "    .dataframe tbody tr th {\n",
              "        vertical-align: top;\n",
              "    }\n",
              "\n",
              "    .dataframe thead th {\n",
              "        text-align: right;\n",
              "    }\n",
              "</style>\n",
              "<table border=\"1\" class=\"dataframe\">\n",
              "  <thead>\n",
              "    <tr style=\"text-align: right;\">\n",
              "      <th></th>\n",
              "      <th>OBRA NUEVA</th>\n",
              "      <th>OBRA DEMOLICIÓN</th>\n",
              "      <th>OBRA REMODELACIÓN</th>\n",
              "      <th>OBRA AMPLIACIÓN</th>\n",
              "      <th>OBRA REFACCIÓN</th>\n",
              "      <th>OBRA CERCO</th>\n",
              "      <th>AREA TOTAL CONSTRUIDA</th>\n",
              "      <th>VALOR OBRA</th>\n",
              "    </tr>\n",
              "  </thead>\n",
              "  <tbody>\n",
              "    <tr>\n",
              "      <th>0</th>\n",
              "      <td>-</td>\n",
              "      <td>-</td>\n",
              "      <td>97.83</td>\n",
              "      <td>208.46</td>\n",
              "      <td>-</td>\n",
              "      <td>-</td>\n",
              "      <td>208.46</td>\n",
              "      <td>225652.12</td>\n",
              "    </tr>\n",
              "    <tr>\n",
              "      <th>115</th>\n",
              "      <td>-</td>\n",
              "      <td>200</td>\n",
              "      <td>-</td>\n",
              "      <td>-</td>\n",
              "      <td>-</td>\n",
              "      <td>-</td>\n",
              "      <td>-</td>\n",
              "      <td>45455.70</td>\n",
              "    </tr>\n",
              "    <tr>\n",
              "      <th>116</th>\n",
              "      <td>1688.79</td>\n",
              "      <td>-</td>\n",
              "      <td>-</td>\n",
              "      <td>-</td>\n",
              "      <td>-</td>\n",
              "      <td>-</td>\n",
              "      <td>1688.79</td>\n",
              "      <td>1561032.09</td>\n",
              "    </tr>\n",
              "    <tr>\n",
              "      <th>117</th>\n",
              "      <td>1950.08</td>\n",
              "      <td>-</td>\n",
              "      <td>-</td>\n",
              "      <td>-</td>\n",
              "      <td>-</td>\n",
              "      <td>-</td>\n",
              "      <td>1950.08</td>\n",
              "      <td>1885715.08</td>\n",
              "    </tr>\n",
              "    <tr>\n",
              "      <th>119</th>\n",
              "      <td>11756.55</td>\n",
              "      <td>65.58</td>\n",
              "      <td>1724.5</td>\n",
              "      <td>2714.76</td>\n",
              "      <td>-</td>\n",
              "      <td>-</td>\n",
              "      <td>-</td>\n",
              "      <td>13322075.74</td>\n",
              "    </tr>\n",
              "    <tr>\n",
              "      <th>...</th>\n",
              "      <td>...</td>\n",
              "      <td>...</td>\n",
              "      <td>...</td>\n",
              "      <td>...</td>\n",
              "      <td>...</td>\n",
              "      <td>...</td>\n",
              "      <td>...</td>\n",
              "      <td>...</td>\n",
              "    </tr>\n",
              "    <tr>\n",
              "      <th>61</th>\n",
              "      <td>469.88</td>\n",
              "      <td>-</td>\n",
              "      <td>-</td>\n",
              "      <td>-</td>\n",
              "      <td>-</td>\n",
              "      <td>-</td>\n",
              "      <td>469.88</td>\n",
              "      <td>359246.75</td>\n",
              "    </tr>\n",
              "    <tr>\n",
              "      <th>63</th>\n",
              "      <td>-</td>\n",
              "      <td>194.28</td>\n",
              "      <td>-</td>\n",
              "      <td>-</td>\n",
              "      <td>-</td>\n",
              "      <td>-</td>\n",
              "      <td>-</td>\n",
              "      <td>88222.55</td>\n",
              "    </tr>\n",
              "    <tr>\n",
              "      <th>64</th>\n",
              "      <td>-</td>\n",
              "      <td>162.24</td>\n",
              "      <td>-</td>\n",
              "      <td>-</td>\n",
              "      <td>-</td>\n",
              "      <td>-</td>\n",
              "      <td>-</td>\n",
              "      <td>88222.55</td>\n",
              "    </tr>\n",
              "    <tr>\n",
              "      <th>66</th>\n",
              "      <td>-</td>\n",
              "      <td>102</td>\n",
              "      <td>-</td>\n",
              "      <td>-</td>\n",
              "      <td>-</td>\n",
              "      <td>-</td>\n",
              "      <td>-</td>\n",
              "      <td>14427.90</td>\n",
              "    </tr>\n",
              "    <tr>\n",
              "      <th>179</th>\n",
              "      <td>935.32</td>\n",
              "      <td>-</td>\n",
              "      <td>-</td>\n",
              "      <td>-</td>\n",
              "      <td>-</td>\n",
              "      <td>-</td>\n",
              "      <td>935.32</td>\n",
              "      <td>752031.05</td>\n",
              "    </tr>\n",
              "  </tbody>\n",
              "</table>\n",
              "<p>117 rows × 8 columns</p>\n",
              "</div>\n",
              "    <div class=\"colab-df-buttons\">\n",
              "\n",
              "  <div class=\"colab-df-container\">\n",
              "    <button class=\"colab-df-convert\" onclick=\"convertToInteractive('df-c4f26905-32a8-4b58-8dcb-90912688899e')\"\n",
              "            title=\"Convert this dataframe to an interactive table.\"\n",
              "            style=\"display:none;\">\n",
              "\n",
              "  <svg xmlns=\"http://www.w3.org/2000/svg\" height=\"24px\" viewBox=\"0 -960 960 960\">\n",
              "    <path d=\"M120-120v-720h720v720H120Zm60-500h600v-160H180v160Zm220 220h160v-160H400v160Zm0 220h160v-160H400v160ZM180-400h160v-160H180v160Zm440 0h160v-160H620v160ZM180-180h160v-160H180v160Zm440 0h160v-160H620v160Z\"/>\n",
              "  </svg>\n",
              "    </button>\n",
              "\n",
              "  <style>\n",
              "    .colab-df-container {\n",
              "      display:flex;\n",
              "      gap: 12px;\n",
              "    }\n",
              "\n",
              "    .colab-df-convert {\n",
              "      background-color: #E8F0FE;\n",
              "      border: none;\n",
              "      border-radius: 50%;\n",
              "      cursor: pointer;\n",
              "      display: none;\n",
              "      fill: #1967D2;\n",
              "      height: 32px;\n",
              "      padding: 0 0 0 0;\n",
              "      width: 32px;\n",
              "    }\n",
              "\n",
              "    .colab-df-convert:hover {\n",
              "      background-color: #E2EBFA;\n",
              "      box-shadow: 0px 1px 2px rgba(60, 64, 67, 0.3), 0px 1px 3px 1px rgba(60, 64, 67, 0.15);\n",
              "      fill: #174EA6;\n",
              "    }\n",
              "\n",
              "    .colab-df-buttons div {\n",
              "      margin-bottom: 4px;\n",
              "    }\n",
              "\n",
              "    [theme=dark] .colab-df-convert {\n",
              "      background-color: #3B4455;\n",
              "      fill: #D2E3FC;\n",
              "    }\n",
              "\n",
              "    [theme=dark] .colab-df-convert:hover {\n",
              "      background-color: #434B5C;\n",
              "      box-shadow: 0px 1px 3px 1px rgba(0, 0, 0, 0.15);\n",
              "      filter: drop-shadow(0px 1px 2px rgba(0, 0, 0, 0.3));\n",
              "      fill: #FFFFFF;\n",
              "    }\n",
              "  </style>\n",
              "\n",
              "    <script>\n",
              "      const buttonEl =\n",
              "        document.querySelector('#df-c4f26905-32a8-4b58-8dcb-90912688899e button.colab-df-convert');\n",
              "      buttonEl.style.display =\n",
              "        google.colab.kernel.accessAllowed ? 'block' : 'none';\n",
              "\n",
              "      async function convertToInteractive(key) {\n",
              "        const element = document.querySelector('#df-c4f26905-32a8-4b58-8dcb-90912688899e');\n",
              "        const dataTable =\n",
              "          await google.colab.kernel.invokeFunction('convertToInteractive',\n",
              "                                                    [key], {});\n",
              "        if (!dataTable) return;\n",
              "\n",
              "        const docLinkHtml = 'Like what you see? Visit the ' +\n",
              "          '<a target=\"_blank\" href=https://colab.research.google.com/notebooks/data_table.ipynb>data table notebook</a>'\n",
              "          + ' to learn more about interactive tables.';\n",
              "        element.innerHTML = '';\n",
              "        dataTable['output_type'] = 'display_data';\n",
              "        await google.colab.output.renderOutput(dataTable, element);\n",
              "        const docLink = document.createElement('div');\n",
              "        docLink.innerHTML = docLinkHtml;\n",
              "        element.appendChild(docLink);\n",
              "      }\n",
              "    </script>\n",
              "  </div>\n",
              "\n",
              "\n",
              "<div id=\"df-2e34ed70-2b0e-4ee5-b992-8f51f0e07715\">\n",
              "  <button class=\"colab-df-quickchart\" onclick=\"quickchart('df-2e34ed70-2b0e-4ee5-b992-8f51f0e07715')\"\n",
              "            title=\"Suggest charts\"\n",
              "            style=\"display:none;\">\n",
              "\n",
              "<svg xmlns=\"http://www.w3.org/2000/svg\" height=\"24px\"viewBox=\"0 0 24 24\"\n",
              "     width=\"24px\">\n",
              "    <g>\n",
              "        <path d=\"M19 3H5c-1.1 0-2 .9-2 2v14c0 1.1.9 2 2 2h14c1.1 0 2-.9 2-2V5c0-1.1-.9-2-2-2zM9 17H7v-7h2v7zm4 0h-2V7h2v10zm4 0h-2v-4h2v4z\"/>\n",
              "    </g>\n",
              "</svg>\n",
              "  </button>\n",
              "\n",
              "<style>\n",
              "  .colab-df-quickchart {\n",
              "      --bg-color: #E8F0FE;\n",
              "      --fill-color: #1967D2;\n",
              "      --hover-bg-color: #E2EBFA;\n",
              "      --hover-fill-color: #174EA6;\n",
              "      --disabled-fill-color: #AAA;\n",
              "      --disabled-bg-color: #DDD;\n",
              "  }\n",
              "\n",
              "  [theme=dark] .colab-df-quickchart {\n",
              "      --bg-color: #3B4455;\n",
              "      --fill-color: #D2E3FC;\n",
              "      --hover-bg-color: #434B5C;\n",
              "      --hover-fill-color: #FFFFFF;\n",
              "      --disabled-bg-color: #3B4455;\n",
              "      --disabled-fill-color: #666;\n",
              "  }\n",
              "\n",
              "  .colab-df-quickchart {\n",
              "    background-color: var(--bg-color);\n",
              "    border: none;\n",
              "    border-radius: 50%;\n",
              "    cursor: pointer;\n",
              "    display: none;\n",
              "    fill: var(--fill-color);\n",
              "    height: 32px;\n",
              "    padding: 0;\n",
              "    width: 32px;\n",
              "  }\n",
              "\n",
              "  .colab-df-quickchart:hover {\n",
              "    background-color: var(--hover-bg-color);\n",
              "    box-shadow: 0 1px 2px rgba(60, 64, 67, 0.3), 0 1px 3px 1px rgba(60, 64, 67, 0.15);\n",
              "    fill: var(--button-hover-fill-color);\n",
              "  }\n",
              "\n",
              "  .colab-df-quickchart-complete:disabled,\n",
              "  .colab-df-quickchart-complete:disabled:hover {\n",
              "    background-color: var(--disabled-bg-color);\n",
              "    fill: var(--disabled-fill-color);\n",
              "    box-shadow: none;\n",
              "  }\n",
              "\n",
              "  .colab-df-spinner {\n",
              "    border: 2px solid var(--fill-color);\n",
              "    border-color: transparent;\n",
              "    border-bottom-color: var(--fill-color);\n",
              "    animation:\n",
              "      spin 1s steps(1) infinite;\n",
              "  }\n",
              "\n",
              "  @keyframes spin {\n",
              "    0% {\n",
              "      border-color: transparent;\n",
              "      border-bottom-color: var(--fill-color);\n",
              "      border-left-color: var(--fill-color);\n",
              "    }\n",
              "    20% {\n",
              "      border-color: transparent;\n",
              "      border-left-color: var(--fill-color);\n",
              "      border-top-color: var(--fill-color);\n",
              "    }\n",
              "    30% {\n",
              "      border-color: transparent;\n",
              "      border-left-color: var(--fill-color);\n",
              "      border-top-color: var(--fill-color);\n",
              "      border-right-color: var(--fill-color);\n",
              "    }\n",
              "    40% {\n",
              "      border-color: transparent;\n",
              "      border-right-color: var(--fill-color);\n",
              "      border-top-color: var(--fill-color);\n",
              "    }\n",
              "    60% {\n",
              "      border-color: transparent;\n",
              "      border-right-color: var(--fill-color);\n",
              "    }\n",
              "    80% {\n",
              "      border-color: transparent;\n",
              "      border-right-color: var(--fill-color);\n",
              "      border-bottom-color: var(--fill-color);\n",
              "    }\n",
              "    90% {\n",
              "      border-color: transparent;\n",
              "      border-bottom-color: var(--fill-color);\n",
              "    }\n",
              "  }\n",
              "</style>\n",
              "\n",
              "  <script>\n",
              "    async function quickchart(key) {\n",
              "      const quickchartButtonEl =\n",
              "        document.querySelector('#' + key + ' button');\n",
              "      quickchartButtonEl.disabled = true;  // To prevent multiple clicks.\n",
              "      quickchartButtonEl.classList.add('colab-df-spinner');\n",
              "      try {\n",
              "        const charts = await google.colab.kernel.invokeFunction(\n",
              "            'suggestCharts', [key], {});\n",
              "      } catch (error) {\n",
              "        console.error('Error during call to suggestCharts:', error);\n",
              "      }\n",
              "      quickchartButtonEl.classList.remove('colab-df-spinner');\n",
              "      quickchartButtonEl.classList.add('colab-df-quickchart-complete');\n",
              "    }\n",
              "    (() => {\n",
              "      let quickchartButtonEl =\n",
              "        document.querySelector('#df-2e34ed70-2b0e-4ee5-b992-8f51f0e07715 button');\n",
              "      quickchartButtonEl.style.display =\n",
              "        google.colab.kernel.accessAllowed ? 'block' : 'none';\n",
              "    })();\n",
              "  </script>\n",
              "</div>\n",
              "    </div>\n",
              "  </div>\n"
            ],
            "application/vnd.google.colaboratory.intrinsic+json": {
              "type": "dataframe",
              "summary": "{\n  \"name\": \"               'OBRA CERCO','AREA TOTAL CONSTRUIDA', 'VALOR OBRA']]\",\n  \"rows\": 117,\n  \"fields\": [\n    {\n      \"column\": \"OBRA NUEVA\",\n      \"properties\": {\n        \"dtype\": \"category\",\n        \"samples\": [\n          11227.5,\n          4860.29,\n          3176\n        ],\n        \"num_unique_values\": 42,\n        \"semantic_type\": \"\",\n        \"description\": \"\"\n      }\n    },\n    {\n      \"column\": \"OBRA DEMOLICI\\u00d3N\",\n      \"properties\": {\n        \"dtype\": \"category\",\n        \"samples\": [\n          191.74,\n          159.73,\n          240\n        ],\n        \"num_unique_values\": 37,\n        \"semantic_type\": \"\",\n        \"description\": \"\"\n      }\n    },\n    {\n      \"column\": \"OBRA REMODELACI\\u00d3N\",\n      \"properties\": {\n        \"dtype\": \"category\",\n        \"samples\": [\n          243.26,\n          130,\n          1623.85\n        ],\n        \"num_unique_values\": 29,\n        \"semantic_type\": \"\",\n        \"description\": \"\"\n      }\n    },\n    {\n      \"column\": \"OBRA AMPLIACI\\u00d3N\",\n      \"properties\": {\n        \"dtype\": \"category\",\n        \"samples\": [\n          10.23,\n          102.99,\n          \"38.86\"\n        ],\n        \"num_unique_values\": 32,\n        \"semantic_type\": \"\",\n        \"description\": \"\"\n      }\n    },\n    {\n      \"column\": \"OBRA REFACCI\\u00d3N\",\n      \"properties\": {\n        \"dtype\": \"category\",\n        \"samples\": [\n          \"-\"\n        ],\n        \"num_unique_values\": 1,\n        \"semantic_type\": \"\",\n        \"description\": \"\"\n      }\n    },\n    {\n      \"column\": \"OBRA CERCO\",\n      \"properties\": {\n        \"dtype\": \"category\",\n        \"samples\": [\n          \"-\"\n        ],\n        \"num_unique_values\": 6,\n        \"semantic_type\": \"\",\n        \"description\": \"\"\n      }\n    },\n    {\n      \"column\": \"AREA TOTAL CONSTRUIDA\",\n      \"properties\": {\n        \"dtype\": \"string\",\n        \"samples\": [\n          441.64\n        ],\n        \"num_unique_values\": 64,\n        \"semantic_type\": \"\",\n        \"description\": \"\"\n      }\n    },\n    {\n      \"column\": \"VALOR OBRA\",\n      \"properties\": {\n        \"dtype\": \"number\",\n        \"std\": 9107363.553750169,\n        \"min\": 217.0,\n        \"max\": 37009316.85,\n        \"samples\": [\n          38471.75\n        ],\n        \"num_unique_values\": 110,\n        \"semantic_type\": \"\",\n        \"description\": \"\"\n      }\n    }\n  ]\n}"
            }
          },
          "metadata": {},
          "execution_count": 93
        }
      ]
    },
    {
      "cell_type": "code",
      "source": [
        "badValues = []\n",
        "for col in numeric_columns:\n",
        "    currentBad = df_ordenado.loc[:, col].astype(str).str.contains('^\\\\d+\\\\.*\\\\d*$', na=False)\n",
        "    badValues.extend(df_ordenado.loc[:, col][~currentBad])\n",
        "badValues = list(set(badValues))\n",
        "print(badValues)"
      ],
      "metadata": {
        "colab": {
          "base_uri": "https://localhost:8080/"
        },
        "id": "86ZjbBotFGvt",
        "outputId": "c57d05d4-bf1e-435d-c19b-ce05f7684985"
      },
      "execution_count": 94,
      "outputs": [
        {
          "output_type": "stream",
          "name": "stdout",
          "text": [
            "[nan, nan, '--', '-']\n"
          ]
        }
      ]
    },
    {
      "cell_type": "markdown",
      "metadata": {
        "id": "qgua9r8fBeY0"
      },
      "source": [
        "We will need to replace those values with a proper missing value:"
      ]
    },
    {
      "cell_type": "markdown",
      "metadata": {
        "id": "qQDdrRWMBeY0"
      },
      "source": [
        "Let's keep the complete data:"
      ]
    },
    {
      "cell_type": "code",
      "execution_count": 95,
      "metadata": {
        "colab": {
          "base_uri": "https://localhost:8080/",
          "height": 1592
        },
        "id": "7seOXwpYBeY0",
        "outputId": "7b3e76e3-d3d8-4878-96b6-cdd48d8cf87a"
      },
      "outputs": [
        {
          "output_type": "execute_result",
          "data": {
            "text/plain": [
              "     CODIGO ENTIDAD  CODIGO UBIGEO CODIGO PAIS DEPARTAMENTO PROVINCIA  \\\n",
              "0            301285         150136          PE         Lima      Lima   \n",
              "115          301285         150136          PE         Lima      Lima   \n",
              "116          301285         150136          PE         Lima      Lima   \n",
              "117          301285         150136          PE         Lima      Lima   \n",
              "119          301285         150136          PE         Lima      Lima   \n",
              "..              ...            ...         ...          ...       ...   \n",
              "57           301285         150136          PE         Lima      Lima   \n",
              "63           301285         150136          PE         Lima      Lima   \n",
              "64           301285         150136          PE         Lima      Lima   \n",
              "66           301285         150136          PE         Lima      Lima   \n",
              "179          301285         150136          PE         Lima      Lima   \n",
              "\n",
              "       DISTRITO                      NOMBRE UO GOBIERNO LOCAL  \\\n",
              "0    San Miguel  Subgerencia de Obras Privadas     San Miguel   \n",
              "115  San Miguel  Subgerencia de Obras Privadas     San Miguel   \n",
              "116  San Miguel  Subgerencia de Obras Privadas     San Miguel   \n",
              "117  San Miguel  Subgerencia de Obras Privadas     San Miguel   \n",
              "119  San Miguel  Subgerencia de Obras Privadas     San Miguel   \n",
              "..          ...                            ...            ...   \n",
              "57   San Miguel  Subgerencia de Obras Privadas     San Miguel   \n",
              "63   San Miguel  Subgerencia de Obras Privadas     San Miguel   \n",
              "64   San Miguel  Subgerencia de Obras Privadas     San Miguel   \n",
              "66   San Miguel  Subgerencia de Obras Privadas     San Miguel   \n",
              "179  San Miguel  Subgerencia de Obras Privadas     San Miguel   \n",
              "\n",
              "     RUC GOBIERNO LOCAL NUMERO EXPEDIENTE  ... OBRA NUEVA OBRA DEMOLICIÓN  \\\n",
              "0           20131372184        15636-2022  ...          -               -   \n",
              "115         20131372184         7494-2022  ...          -             200   \n",
              "116         20131372184         3732-2022  ...    1688.79               -   \n",
              "117         20131372184         3947-2022  ...    1950.08               -   \n",
              "119         20131372184        13972-2022  ...   11756.55           65.58   \n",
              "..                  ...               ...  ...        ...             ...   \n",
              "57          20131372184         5680-2022  ...          -             112   \n",
              "63          20131372184         7501-2022  ...          -          194.28   \n",
              "64          20131372184         7507-2022  ...          -          162.24   \n",
              "66          20131372184         6932-2022  ...          -             102   \n",
              "179         20131372184         3639-2022  ...     935.32               -   \n",
              "\n",
              "    OBRA REMODELACIÓN OBRA AMPLIACIÓN  OBRA REFACCIÓN OBRA CERCO  \\\n",
              "0               97.83          208.46               -          -   \n",
              "115                 -               -               -          -   \n",
              "116                 -               -               -          -   \n",
              "117                 -               -               -          -   \n",
              "119            1724.5         2714.76               -          -   \n",
              "..                ...             ...             ...        ...   \n",
              "57                  -               -               -          -   \n",
              "63                  -               -               -          -   \n",
              "64                  -               -               -          -   \n",
              "66                  -               -               -          -   \n",
              "179                 -               -               -          -   \n",
              "\n",
              "    AREA TOTAL CONSTRUIDA   VALOR OBRA FECHA CORTE TIPO DE USO NORMALIZADO  \n",
              "0                  208.46    225652.12    20221231           MULTIFAMILIAR  \n",
              "115                     -     45455.70    20221231           MULTIFAMILIAR  \n",
              "116               1688.79   1561032.09    20221231           MULTIFAMILIAR  \n",
              "117               1950.08   1885715.08    20221231           MULTIFAMILIAR  \n",
              "119                     -  13322075.74    20221231           MULTIFAMILIAR  \n",
              "..                    ...          ...         ...                     ...  \n",
              "57                      -     48224.96    20221231             UNIFAMILIAR  \n",
              "63                      -     88222.55    20221231             UNIFAMILIAR  \n",
              "64                      -     88222.55    20221231             UNIFAMILIAR  \n",
              "66                      -     14427.90    20221231             UNIFAMILIAR  \n",
              "179                935.32    752031.05    20221231           MULTIFAMILIAR  \n",
              "\n",
              "[75 rows x 32 columns]"
            ],
            "text/html": [
              "\n",
              "  <div id=\"df-98c368b5-39ef-4f6c-991b-0c2937d3af9e\" class=\"colab-df-container\">\n",
              "    <div>\n",
              "<style scoped>\n",
              "    .dataframe tbody tr th:only-of-type {\n",
              "        vertical-align: middle;\n",
              "    }\n",
              "\n",
              "    .dataframe tbody tr th {\n",
              "        vertical-align: top;\n",
              "    }\n",
              "\n",
              "    .dataframe thead th {\n",
              "        text-align: right;\n",
              "    }\n",
              "</style>\n",
              "<table border=\"1\" class=\"dataframe\">\n",
              "  <thead>\n",
              "    <tr style=\"text-align: right;\">\n",
              "      <th></th>\n",
              "      <th>CODIGO ENTIDAD</th>\n",
              "      <th>CODIGO UBIGEO</th>\n",
              "      <th>CODIGO PAIS</th>\n",
              "      <th>DEPARTAMENTO</th>\n",
              "      <th>PROVINCIA</th>\n",
              "      <th>DISTRITO</th>\n",
              "      <th>NOMBRE UO</th>\n",
              "      <th>GOBIERNO LOCAL</th>\n",
              "      <th>RUC GOBIERNO LOCAL</th>\n",
              "      <th>NUMERO EXPEDIENTE</th>\n",
              "      <th>...</th>\n",
              "      <th>OBRA NUEVA</th>\n",
              "      <th>OBRA DEMOLICIÓN</th>\n",
              "      <th>OBRA REMODELACIÓN</th>\n",
              "      <th>OBRA AMPLIACIÓN</th>\n",
              "      <th>OBRA REFACCIÓN</th>\n",
              "      <th>OBRA CERCO</th>\n",
              "      <th>AREA TOTAL CONSTRUIDA</th>\n",
              "      <th>VALOR OBRA</th>\n",
              "      <th>FECHA CORTE</th>\n",
              "      <th>TIPO DE USO NORMALIZADO</th>\n",
              "    </tr>\n",
              "  </thead>\n",
              "  <tbody>\n",
              "    <tr>\n",
              "      <th>0</th>\n",
              "      <td>301285</td>\n",
              "      <td>150136</td>\n",
              "      <td>PE</td>\n",
              "      <td>Lima</td>\n",
              "      <td>Lima</td>\n",
              "      <td>San Miguel</td>\n",
              "      <td>Subgerencia de Obras Privadas</td>\n",
              "      <td>San Miguel</td>\n",
              "      <td>20131372184</td>\n",
              "      <td>15636-2022</td>\n",
              "      <td>...</td>\n",
              "      <td>-</td>\n",
              "      <td>-</td>\n",
              "      <td>97.83</td>\n",
              "      <td>208.46</td>\n",
              "      <td>-</td>\n",
              "      <td>-</td>\n",
              "      <td>208.46</td>\n",
              "      <td>225652.12</td>\n",
              "      <td>20221231</td>\n",
              "      <td>MULTIFAMILIAR</td>\n",
              "    </tr>\n",
              "    <tr>\n",
              "      <th>115</th>\n",
              "      <td>301285</td>\n",
              "      <td>150136</td>\n",
              "      <td>PE</td>\n",
              "      <td>Lima</td>\n",
              "      <td>Lima</td>\n",
              "      <td>San Miguel</td>\n",
              "      <td>Subgerencia de Obras Privadas</td>\n",
              "      <td>San Miguel</td>\n",
              "      <td>20131372184</td>\n",
              "      <td>7494-2022</td>\n",
              "      <td>...</td>\n",
              "      <td>-</td>\n",
              "      <td>200</td>\n",
              "      <td>-</td>\n",
              "      <td>-</td>\n",
              "      <td>-</td>\n",
              "      <td>-</td>\n",
              "      <td>-</td>\n",
              "      <td>45455.70</td>\n",
              "      <td>20221231</td>\n",
              "      <td>MULTIFAMILIAR</td>\n",
              "    </tr>\n",
              "    <tr>\n",
              "      <th>116</th>\n",
              "      <td>301285</td>\n",
              "      <td>150136</td>\n",
              "      <td>PE</td>\n",
              "      <td>Lima</td>\n",
              "      <td>Lima</td>\n",
              "      <td>San Miguel</td>\n",
              "      <td>Subgerencia de Obras Privadas</td>\n",
              "      <td>San Miguel</td>\n",
              "      <td>20131372184</td>\n",
              "      <td>3732-2022</td>\n",
              "      <td>...</td>\n",
              "      <td>1688.79</td>\n",
              "      <td>-</td>\n",
              "      <td>-</td>\n",
              "      <td>-</td>\n",
              "      <td>-</td>\n",
              "      <td>-</td>\n",
              "      <td>1688.79</td>\n",
              "      <td>1561032.09</td>\n",
              "      <td>20221231</td>\n",
              "      <td>MULTIFAMILIAR</td>\n",
              "    </tr>\n",
              "    <tr>\n",
              "      <th>117</th>\n",
              "      <td>301285</td>\n",
              "      <td>150136</td>\n",
              "      <td>PE</td>\n",
              "      <td>Lima</td>\n",
              "      <td>Lima</td>\n",
              "      <td>San Miguel</td>\n",
              "      <td>Subgerencia de Obras Privadas</td>\n",
              "      <td>San Miguel</td>\n",
              "      <td>20131372184</td>\n",
              "      <td>3947-2022</td>\n",
              "      <td>...</td>\n",
              "      <td>1950.08</td>\n",
              "      <td>-</td>\n",
              "      <td>-</td>\n",
              "      <td>-</td>\n",
              "      <td>-</td>\n",
              "      <td>-</td>\n",
              "      <td>1950.08</td>\n",
              "      <td>1885715.08</td>\n",
              "      <td>20221231</td>\n",
              "      <td>MULTIFAMILIAR</td>\n",
              "    </tr>\n",
              "    <tr>\n",
              "      <th>119</th>\n",
              "      <td>301285</td>\n",
              "      <td>150136</td>\n",
              "      <td>PE</td>\n",
              "      <td>Lima</td>\n",
              "      <td>Lima</td>\n",
              "      <td>San Miguel</td>\n",
              "      <td>Subgerencia de Obras Privadas</td>\n",
              "      <td>San Miguel</td>\n",
              "      <td>20131372184</td>\n",
              "      <td>13972-2022</td>\n",
              "      <td>...</td>\n",
              "      <td>11756.55</td>\n",
              "      <td>65.58</td>\n",
              "      <td>1724.5</td>\n",
              "      <td>2714.76</td>\n",
              "      <td>-</td>\n",
              "      <td>-</td>\n",
              "      <td>-</td>\n",
              "      <td>13322075.74</td>\n",
              "      <td>20221231</td>\n",
              "      <td>MULTIFAMILIAR</td>\n",
              "    </tr>\n",
              "    <tr>\n",
              "      <th>...</th>\n",
              "      <td>...</td>\n",
              "      <td>...</td>\n",
              "      <td>...</td>\n",
              "      <td>...</td>\n",
              "      <td>...</td>\n",
              "      <td>...</td>\n",
              "      <td>...</td>\n",
              "      <td>...</td>\n",
              "      <td>...</td>\n",
              "      <td>...</td>\n",
              "      <td>...</td>\n",
              "      <td>...</td>\n",
              "      <td>...</td>\n",
              "      <td>...</td>\n",
              "      <td>...</td>\n",
              "      <td>...</td>\n",
              "      <td>...</td>\n",
              "      <td>...</td>\n",
              "      <td>...</td>\n",
              "      <td>...</td>\n",
              "      <td>...</td>\n",
              "    </tr>\n",
              "    <tr>\n",
              "      <th>57</th>\n",
              "      <td>301285</td>\n",
              "      <td>150136</td>\n",
              "      <td>PE</td>\n",
              "      <td>Lima</td>\n",
              "      <td>Lima</td>\n",
              "      <td>San Miguel</td>\n",
              "      <td>Subgerencia de Obras Privadas</td>\n",
              "      <td>San Miguel</td>\n",
              "      <td>20131372184</td>\n",
              "      <td>5680-2022</td>\n",
              "      <td>...</td>\n",
              "      <td>-</td>\n",
              "      <td>112</td>\n",
              "      <td>-</td>\n",
              "      <td>-</td>\n",
              "      <td>-</td>\n",
              "      <td>-</td>\n",
              "      <td>-</td>\n",
              "      <td>48224.96</td>\n",
              "      <td>20221231</td>\n",
              "      <td>UNIFAMILIAR</td>\n",
              "    </tr>\n",
              "    <tr>\n",
              "      <th>63</th>\n",
              "      <td>301285</td>\n",
              "      <td>150136</td>\n",
              "      <td>PE</td>\n",
              "      <td>Lima</td>\n",
              "      <td>Lima</td>\n",
              "      <td>San Miguel</td>\n",
              "      <td>Subgerencia de Obras Privadas</td>\n",
              "      <td>San Miguel</td>\n",
              "      <td>20131372184</td>\n",
              "      <td>7501-2022</td>\n",
              "      <td>...</td>\n",
              "      <td>-</td>\n",
              "      <td>194.28</td>\n",
              "      <td>-</td>\n",
              "      <td>-</td>\n",
              "      <td>-</td>\n",
              "      <td>-</td>\n",
              "      <td>-</td>\n",
              "      <td>88222.55</td>\n",
              "      <td>20221231</td>\n",
              "      <td>UNIFAMILIAR</td>\n",
              "    </tr>\n",
              "    <tr>\n",
              "      <th>64</th>\n",
              "      <td>301285</td>\n",
              "      <td>150136</td>\n",
              "      <td>PE</td>\n",
              "      <td>Lima</td>\n",
              "      <td>Lima</td>\n",
              "      <td>San Miguel</td>\n",
              "      <td>Subgerencia de Obras Privadas</td>\n",
              "      <td>San Miguel</td>\n",
              "      <td>20131372184</td>\n",
              "      <td>7507-2022</td>\n",
              "      <td>...</td>\n",
              "      <td>-</td>\n",
              "      <td>162.24</td>\n",
              "      <td>-</td>\n",
              "      <td>-</td>\n",
              "      <td>-</td>\n",
              "      <td>-</td>\n",
              "      <td>-</td>\n",
              "      <td>88222.55</td>\n",
              "      <td>20221231</td>\n",
              "      <td>UNIFAMILIAR</td>\n",
              "    </tr>\n",
              "    <tr>\n",
              "      <th>66</th>\n",
              "      <td>301285</td>\n",
              "      <td>150136</td>\n",
              "      <td>PE</td>\n",
              "      <td>Lima</td>\n",
              "      <td>Lima</td>\n",
              "      <td>San Miguel</td>\n",
              "      <td>Subgerencia de Obras Privadas</td>\n",
              "      <td>San Miguel</td>\n",
              "      <td>20131372184</td>\n",
              "      <td>6932-2022</td>\n",
              "      <td>...</td>\n",
              "      <td>-</td>\n",
              "      <td>102</td>\n",
              "      <td>-</td>\n",
              "      <td>-</td>\n",
              "      <td>-</td>\n",
              "      <td>-</td>\n",
              "      <td>-</td>\n",
              "      <td>14427.90</td>\n",
              "      <td>20221231</td>\n",
              "      <td>UNIFAMILIAR</td>\n",
              "    </tr>\n",
              "    <tr>\n",
              "      <th>179</th>\n",
              "      <td>301285</td>\n",
              "      <td>150136</td>\n",
              "      <td>PE</td>\n",
              "      <td>Lima</td>\n",
              "      <td>Lima</td>\n",
              "      <td>San Miguel</td>\n",
              "      <td>Subgerencia de Obras Privadas</td>\n",
              "      <td>San Miguel</td>\n",
              "      <td>20131372184</td>\n",
              "      <td>3639-2022</td>\n",
              "      <td>...</td>\n",
              "      <td>935.32</td>\n",
              "      <td>-</td>\n",
              "      <td>-</td>\n",
              "      <td>-</td>\n",
              "      <td>-</td>\n",
              "      <td>-</td>\n",
              "      <td>935.32</td>\n",
              "      <td>752031.05</td>\n",
              "      <td>20221231</td>\n",
              "      <td>MULTIFAMILIAR</td>\n",
              "    </tr>\n",
              "  </tbody>\n",
              "</table>\n",
              "<p>75 rows × 32 columns</p>\n",
              "</div>\n",
              "    <div class=\"colab-df-buttons\">\n",
              "\n",
              "  <div class=\"colab-df-container\">\n",
              "    <button class=\"colab-df-convert\" onclick=\"convertToInteractive('df-98c368b5-39ef-4f6c-991b-0c2937d3af9e')\"\n",
              "            title=\"Convert this dataframe to an interactive table.\"\n",
              "            style=\"display:none;\">\n",
              "\n",
              "  <svg xmlns=\"http://www.w3.org/2000/svg\" height=\"24px\" viewBox=\"0 -960 960 960\">\n",
              "    <path d=\"M120-120v-720h720v720H120Zm60-500h600v-160H180v160Zm220 220h160v-160H400v160Zm0 220h160v-160H400v160ZM180-400h160v-160H180v160Zm440 0h160v-160H620v160ZM180-180h160v-160H180v160Zm440 0h160v-160H620v160Z\"/>\n",
              "  </svg>\n",
              "    </button>\n",
              "\n",
              "  <style>\n",
              "    .colab-df-container {\n",
              "      display:flex;\n",
              "      gap: 12px;\n",
              "    }\n",
              "\n",
              "    .colab-df-convert {\n",
              "      background-color: #E8F0FE;\n",
              "      border: none;\n",
              "      border-radius: 50%;\n",
              "      cursor: pointer;\n",
              "      display: none;\n",
              "      fill: #1967D2;\n",
              "      height: 32px;\n",
              "      padding: 0 0 0 0;\n",
              "      width: 32px;\n",
              "    }\n",
              "\n",
              "    .colab-df-convert:hover {\n",
              "      background-color: #E2EBFA;\n",
              "      box-shadow: 0px 1px 2px rgba(60, 64, 67, 0.3), 0px 1px 3px 1px rgba(60, 64, 67, 0.15);\n",
              "      fill: #174EA6;\n",
              "    }\n",
              "\n",
              "    .colab-df-buttons div {\n",
              "      margin-bottom: 4px;\n",
              "    }\n",
              "\n",
              "    [theme=dark] .colab-df-convert {\n",
              "      background-color: #3B4455;\n",
              "      fill: #D2E3FC;\n",
              "    }\n",
              "\n",
              "    [theme=dark] .colab-df-convert:hover {\n",
              "      background-color: #434B5C;\n",
              "      box-shadow: 0px 1px 3px 1px rgba(0, 0, 0, 0.15);\n",
              "      filter: drop-shadow(0px 1px 2px rgba(0, 0, 0, 0.3));\n",
              "      fill: #FFFFFF;\n",
              "    }\n",
              "  </style>\n",
              "\n",
              "    <script>\n",
              "      const buttonEl =\n",
              "        document.querySelector('#df-98c368b5-39ef-4f6c-991b-0c2937d3af9e button.colab-df-convert');\n",
              "      buttonEl.style.display =\n",
              "        google.colab.kernel.accessAllowed ? 'block' : 'none';\n",
              "\n",
              "      async function convertToInteractive(key) {\n",
              "        const element = document.querySelector('#df-98c368b5-39ef-4f6c-991b-0c2937d3af9e');\n",
              "        const dataTable =\n",
              "          await google.colab.kernel.invokeFunction('convertToInteractive',\n",
              "                                                    [key], {});\n",
              "        if (!dataTable) return;\n",
              "\n",
              "        const docLinkHtml = 'Like what you see? Visit the ' +\n",
              "          '<a target=\"_blank\" href=https://colab.research.google.com/notebooks/data_table.ipynb>data table notebook</a>'\n",
              "          + ' to learn more about interactive tables.';\n",
              "        element.innerHTML = '';\n",
              "        dataTable['output_type'] = 'display_data';\n",
              "        await google.colab.output.renderOutput(dataTable, element);\n",
              "        const docLink = document.createElement('div');\n",
              "        docLink.innerHTML = docLinkHtml;\n",
              "        element.appendChild(docLink);\n",
              "      }\n",
              "    </script>\n",
              "  </div>\n",
              "\n",
              "\n",
              "<div id=\"df-0742ca42-5163-4037-a121-6143f689d37d\">\n",
              "  <button class=\"colab-df-quickchart\" onclick=\"quickchart('df-0742ca42-5163-4037-a121-6143f689d37d')\"\n",
              "            title=\"Suggest charts\"\n",
              "            style=\"display:none;\">\n",
              "\n",
              "<svg xmlns=\"http://www.w3.org/2000/svg\" height=\"24px\"viewBox=\"0 0 24 24\"\n",
              "     width=\"24px\">\n",
              "    <g>\n",
              "        <path d=\"M19 3H5c-1.1 0-2 .9-2 2v14c0 1.1.9 2 2 2h14c1.1 0 2-.9 2-2V5c0-1.1-.9-2-2-2zM9 17H7v-7h2v7zm4 0h-2V7h2v10zm4 0h-2v-4h2v4z\"/>\n",
              "    </g>\n",
              "</svg>\n",
              "  </button>\n",
              "\n",
              "<style>\n",
              "  .colab-df-quickchart {\n",
              "      --bg-color: #E8F0FE;\n",
              "      --fill-color: #1967D2;\n",
              "      --hover-bg-color: #E2EBFA;\n",
              "      --hover-fill-color: #174EA6;\n",
              "      --disabled-fill-color: #AAA;\n",
              "      --disabled-bg-color: #DDD;\n",
              "  }\n",
              "\n",
              "  [theme=dark] .colab-df-quickchart {\n",
              "      --bg-color: #3B4455;\n",
              "      --fill-color: #D2E3FC;\n",
              "      --hover-bg-color: #434B5C;\n",
              "      --hover-fill-color: #FFFFFF;\n",
              "      --disabled-bg-color: #3B4455;\n",
              "      --disabled-fill-color: #666;\n",
              "  }\n",
              "\n",
              "  .colab-df-quickchart {\n",
              "    background-color: var(--bg-color);\n",
              "    border: none;\n",
              "    border-radius: 50%;\n",
              "    cursor: pointer;\n",
              "    display: none;\n",
              "    fill: var(--fill-color);\n",
              "    height: 32px;\n",
              "    padding: 0;\n",
              "    width: 32px;\n",
              "  }\n",
              "\n",
              "  .colab-df-quickchart:hover {\n",
              "    background-color: var(--hover-bg-color);\n",
              "    box-shadow: 0 1px 2px rgba(60, 64, 67, 0.3), 0 1px 3px 1px rgba(60, 64, 67, 0.15);\n",
              "    fill: var(--button-hover-fill-color);\n",
              "  }\n",
              "\n",
              "  .colab-df-quickchart-complete:disabled,\n",
              "  .colab-df-quickchart-complete:disabled:hover {\n",
              "    background-color: var(--disabled-bg-color);\n",
              "    fill: var(--disabled-fill-color);\n",
              "    box-shadow: none;\n",
              "  }\n",
              "\n",
              "  .colab-df-spinner {\n",
              "    border: 2px solid var(--fill-color);\n",
              "    border-color: transparent;\n",
              "    border-bottom-color: var(--fill-color);\n",
              "    animation:\n",
              "      spin 1s steps(1) infinite;\n",
              "  }\n",
              "\n",
              "  @keyframes spin {\n",
              "    0% {\n",
              "      border-color: transparent;\n",
              "      border-bottom-color: var(--fill-color);\n",
              "      border-left-color: var(--fill-color);\n",
              "    }\n",
              "    20% {\n",
              "      border-color: transparent;\n",
              "      border-left-color: var(--fill-color);\n",
              "      border-top-color: var(--fill-color);\n",
              "    }\n",
              "    30% {\n",
              "      border-color: transparent;\n",
              "      border-left-color: var(--fill-color);\n",
              "      border-top-color: var(--fill-color);\n",
              "      border-right-color: var(--fill-color);\n",
              "    }\n",
              "    40% {\n",
              "      border-color: transparent;\n",
              "      border-right-color: var(--fill-color);\n",
              "      border-top-color: var(--fill-color);\n",
              "    }\n",
              "    60% {\n",
              "      border-color: transparent;\n",
              "      border-right-color: var(--fill-color);\n",
              "    }\n",
              "    80% {\n",
              "      border-color: transparent;\n",
              "      border-right-color: var(--fill-color);\n",
              "      border-bottom-color: var(--fill-color);\n",
              "    }\n",
              "    90% {\n",
              "      border-color: transparent;\n",
              "      border-bottom-color: var(--fill-color);\n",
              "    }\n",
              "  }\n",
              "</style>\n",
              "\n",
              "  <script>\n",
              "    async function quickchart(key) {\n",
              "      const quickchartButtonEl =\n",
              "        document.querySelector('#' + key + ' button');\n",
              "      quickchartButtonEl.disabled = true;  // To prevent multiple clicks.\n",
              "      quickchartButtonEl.classList.add('colab-df-spinner');\n",
              "      try {\n",
              "        const charts = await google.colab.kernel.invokeFunction(\n",
              "            'suggestCharts', [key], {});\n",
              "      } catch (error) {\n",
              "        console.error('Error during call to suggestCharts:', error);\n",
              "      }\n",
              "      quickchartButtonEl.classList.remove('colab-df-spinner');\n",
              "      quickchartButtonEl.classList.add('colab-df-quickchart-complete');\n",
              "    }\n",
              "    (() => {\n",
              "      let quickchartButtonEl =\n",
              "        document.querySelector('#df-0742ca42-5163-4037-a121-6143f689d37d button');\n",
              "      quickchartButtonEl.style.display =\n",
              "        google.colab.kernel.accessAllowed ? 'block' : 'none';\n",
              "    })();\n",
              "  </script>\n",
              "</div>\n",
              "    </div>\n",
              "  </div>\n"
            ],
            "application/vnd.google.colaboratory.intrinsic+json": {
              "type": "dataframe",
              "variable_name": "df_ordenado"
            }
          },
          "metadata": {},
          "execution_count": 95
        },
        {
          "output_type": "stream",
          "name": "stdout",
          "text": [
            "Warning: Total number of columns (32) exceeds max_columns (20) limiting to first (20) columns.\n"
          ]
        }
      ],
      "source": [
        "df_ordenado.dropna(how='any',axis=0,inplace=True # keep complete\n",
        "               ) # reset index\n",
        "df_ordenado"
      ]
    },
    {
      "cell_type": "markdown",
      "source": [
        "## 3. Date"
      ],
      "metadata": {
        "id": "v-lNEjXyJYRm"
      }
    },
    {
      "cell_type": "code",
      "source": [
        "def FECHAS(DETALLE2):\n",
        "    if '1 PISO' in DETALLE2:\n",
        "        return '1 PISO'\n",
        "    elif '2 PISO' in DETALLE2:\n",
        "        return '2 PISOS'\n",
        "    elif \"3 PISO\" in DETALLE2:\n",
        "        return \"3 PISOS\"\n",
        "    elif \"4 PISO\" in DETALLE2:\n",
        "        return \"4 PISOS\"\n",
        "    elif \"5 PISO\" in DETALLE2:\n",
        "        return \"5 PISOS\"\n",
        "    elif \"6P\" in DETALLE2:\n",
        "        return \"6 PISOS\"\n",
        "    elif \"6 PISO\" in DETALLE2:\n",
        "        return \"6 PISOS\"\n",
        "    elif \"7 PISO\" in DETALLE2:\n",
        "        return \"7 PISOS\"\n",
        "    elif \"7P\" in DETALLE2:\n",
        "        return \"7 PISOS\"\n",
        "    elif \"8 PISO\" in DETALLE2:\n",
        "        return \"8 PISOS\"\n",
        "    elif \"8P\" in DETALLE2:\n",
        "        return \"8 PISOS\"\n",
        "    elif \"9 PISO\" in DETALLE2:\n",
        "        return \"9 PISOS\"\n",
        "    elif \"9P\" in DETALLE2:\n",
        "        return \"9 PISOS\"\n",
        "    elif \"10 PISO\" in DETALLE2:\n",
        "        return \"10 PISOS\"\n",
        "    elif \"10P\" in DETALLE2:\n",
        "        return \"10 PISOS\"\n",
        "    elif \"11 PISO\" in DETALLE2:\n",
        "        return \"11 PISOS\"\n",
        "    elif \"12 PISO\" in DETALLE2:\n",
        "        return \"12 PISOS\"\n",
        "    elif \"13 PISO\" in DETALLE2:\n",
        "        return \"13 PISOS\"\n",
        "    elif \"14 PISO\" in DETALLE2:\n",
        "        return \"14 PISOS\"\n",
        "    elif \"15 PISO\" in DETALLE2:\n",
        "        return \"15 PISOS\"\n",
        "    elif \"16 PISO\" in DETALLE2:\n",
        "        return \"16 PISOS\"\n",
        "    elif \"17 PISO\" in DETALLE2:\n",
        "        return \"17 PISOS\"\n",
        "    elif \"17P\" in DETALLE2:\n",
        "        return \"17 PISOS\"\n",
        "    elif \"20 PISOS\" in DETALLE2:\n",
        "        return \"20 PISOS\"\n",
        "    elif \"20P\" in DETALLE2:\n",
        "        return \"20 PISOS\"\n",
        "    elif \"13:0\" in DETALLE2:\n",
        "        return \"\"\n",
        "    else:\n",
        "        return DETALLE2\n",
        "\n",
        "df_ordenado['DETALLE ALTURA'] = df_ordenado['DETALLE ALTURA'].apply(ALTURA2)"
      ],
      "metadata": {
        "id": "FUagZxJfPz5T"
      },
      "execution_count": null,
      "outputs": []
    },
    {
      "cell_type": "code",
      "source": [
        "df_ordenado['FECHA INICIO TRAMITE'] = pd.to_datetime(df_ordenado['FECHA INICIO TRAMITE'], format='%Y%m%d')"
      ],
      "metadata": {
        "colab": {
          "base_uri": "https://localhost:8080/",
          "height": 217
        },
        "id": "8hs3qxJQJb2-",
        "outputId": "5799d61c-e991-40d8-9160-31e384c72026"
      },
      "execution_count": 98,
      "outputs": [
        {
          "output_type": "error",
          "ename": "ValueError",
          "evalue": "time data '17//08/2021' does not match format '%Y%m%d' (match)",
          "traceback": [
            "\u001b[0;31m---------------------------------------------------------------------------\u001b[0m",
            "\u001b[0;31mValueError\u001b[0m                                Traceback (most recent call last)",
            "\u001b[0;32m<ipython-input-98-32d42467fbb0>\u001b[0m in \u001b[0;36m<cell line: 1>\u001b[0;34m()\u001b[0m\n\u001b[0;32m----> 1\u001b[0;31m \u001b[0mdf_ordenado\u001b[0m\u001b[0;34m[\u001b[0m\u001b[0;34m'FECHA INICIO TRAMITE'\u001b[0m\u001b[0;34m]\u001b[0m \u001b[0;34m=\u001b[0m \u001b[0mpd\u001b[0m\u001b[0;34m.\u001b[0m\u001b[0mto_datetime\u001b[0m\u001b[0;34m(\u001b[0m\u001b[0mdf_ordenado\u001b[0m\u001b[0;34m[\u001b[0m\u001b[0;34m'FECHA INICIO TRAMITE'\u001b[0m\u001b[0;34m]\u001b[0m\u001b[0;34m,\u001b[0m \u001b[0mformat\u001b[0m\u001b[0;34m=\u001b[0m\u001b[0;34m'%Y%m%d'\u001b[0m\u001b[0;34m)\u001b[0m\u001b[0;34m\u001b[0m\u001b[0;34m\u001b[0m\u001b[0m\n\u001b[0m",
            "\u001b[0;32m/usr/local/lib/python3.10/dist-packages/pandas/core/tools/datetimes.py\u001b[0m in \u001b[0;36mto_datetime\u001b[0;34m(arg, errors, dayfirst, yearfirst, utc, format, exact, unit, infer_datetime_format, origin, cache)\u001b[0m\n\u001b[1;32m   1066\u001b[0m             \u001b[0mresult\u001b[0m \u001b[0;34m=\u001b[0m \u001b[0marg\u001b[0m\u001b[0;34m.\u001b[0m\u001b[0mmap\u001b[0m\u001b[0;34m(\u001b[0m\u001b[0mcache_array\u001b[0m\u001b[0;34m)\u001b[0m\u001b[0;34m\u001b[0m\u001b[0;34m\u001b[0m\u001b[0m\n\u001b[1;32m   1067\u001b[0m         \u001b[0;32melse\u001b[0m\u001b[0;34m:\u001b[0m\u001b[0;34m\u001b[0m\u001b[0;34m\u001b[0m\u001b[0m\n\u001b[0;32m-> 1068\u001b[0;31m             \u001b[0mvalues\u001b[0m \u001b[0;34m=\u001b[0m \u001b[0mconvert_listlike\u001b[0m\u001b[0;34m(\u001b[0m\u001b[0marg\u001b[0m\u001b[0;34m.\u001b[0m\u001b[0m_values\u001b[0m\u001b[0;34m,\u001b[0m \u001b[0mformat\u001b[0m\u001b[0;34m)\u001b[0m\u001b[0;34m\u001b[0m\u001b[0;34m\u001b[0m\u001b[0m\n\u001b[0m\u001b[1;32m   1069\u001b[0m             \u001b[0mresult\u001b[0m \u001b[0;34m=\u001b[0m \u001b[0marg\u001b[0m\u001b[0;34m.\u001b[0m\u001b[0m_constructor\u001b[0m\u001b[0;34m(\u001b[0m\u001b[0mvalues\u001b[0m\u001b[0;34m,\u001b[0m \u001b[0mindex\u001b[0m\u001b[0;34m=\u001b[0m\u001b[0marg\u001b[0m\u001b[0;34m.\u001b[0m\u001b[0mindex\u001b[0m\u001b[0;34m,\u001b[0m \u001b[0mname\u001b[0m\u001b[0;34m=\u001b[0m\u001b[0marg\u001b[0m\u001b[0;34m.\u001b[0m\u001b[0mname\u001b[0m\u001b[0;34m)\u001b[0m\u001b[0;34m\u001b[0m\u001b[0;34m\u001b[0m\u001b[0m\n\u001b[1;32m   1070\u001b[0m     \u001b[0;32melif\u001b[0m \u001b[0misinstance\u001b[0m\u001b[0;34m(\u001b[0m\u001b[0marg\u001b[0m\u001b[0;34m,\u001b[0m \u001b[0;34m(\u001b[0m\u001b[0mABCDataFrame\u001b[0m\u001b[0;34m,\u001b[0m \u001b[0mabc\u001b[0m\u001b[0;34m.\u001b[0m\u001b[0mMutableMapping\u001b[0m\u001b[0;34m)\u001b[0m\u001b[0;34m)\u001b[0m\u001b[0;34m:\u001b[0m\u001b[0;34m\u001b[0m\u001b[0;34m\u001b[0m\u001b[0m\n",
            "\u001b[0;32m/usr/local/lib/python3.10/dist-packages/pandas/core/tools/datetimes.py\u001b[0m in \u001b[0;36m_convert_listlike_datetimes\u001b[0;34m(arg, format, name, tz, unit, errors, infer_datetime_format, dayfirst, yearfirst, exact)\u001b[0m\n\u001b[1;32m    428\u001b[0m \u001b[0;34m\u001b[0m\u001b[0m\n\u001b[1;32m    429\u001b[0m     \u001b[0;32mif\u001b[0m \u001b[0mformat\u001b[0m \u001b[0;32mis\u001b[0m \u001b[0;32mnot\u001b[0m \u001b[0;32mNone\u001b[0m\u001b[0;34m:\u001b[0m\u001b[0;34m\u001b[0m\u001b[0;34m\u001b[0m\u001b[0m\n\u001b[0;32m--> 430\u001b[0;31m         res = _to_datetime_with_format(\n\u001b[0m\u001b[1;32m    431\u001b[0m             \u001b[0marg\u001b[0m\u001b[0;34m,\u001b[0m \u001b[0morig_arg\u001b[0m\u001b[0;34m,\u001b[0m \u001b[0mname\u001b[0m\u001b[0;34m,\u001b[0m \u001b[0mtz\u001b[0m\u001b[0;34m,\u001b[0m \u001b[0mformat\u001b[0m\u001b[0;34m,\u001b[0m \u001b[0mexact\u001b[0m\u001b[0;34m,\u001b[0m \u001b[0merrors\u001b[0m\u001b[0;34m,\u001b[0m \u001b[0minfer_datetime_format\u001b[0m\u001b[0;34m\u001b[0m\u001b[0;34m\u001b[0m\u001b[0m\n\u001b[1;32m    432\u001b[0m         )\n",
            "\u001b[0;32m/usr/local/lib/python3.10/dist-packages/pandas/core/tools/datetimes.py\u001b[0m in \u001b[0;36m_to_datetime_with_format\u001b[0;34m(arg, orig_arg, name, tz, fmt, exact, errors, infer_datetime_format)\u001b[0m\n\u001b[1;32m    536\u001b[0m \u001b[0;34m\u001b[0m\u001b[0m\n\u001b[1;32m    537\u001b[0m     \u001b[0;31m# fallback\u001b[0m\u001b[0;34m\u001b[0m\u001b[0;34m\u001b[0m\u001b[0m\n\u001b[0;32m--> 538\u001b[0;31m     res = _array_strptime_with_fallback(\n\u001b[0m\u001b[1;32m    539\u001b[0m         \u001b[0marg\u001b[0m\u001b[0;34m,\u001b[0m \u001b[0mname\u001b[0m\u001b[0;34m,\u001b[0m \u001b[0mtz\u001b[0m\u001b[0;34m,\u001b[0m \u001b[0mfmt\u001b[0m\u001b[0;34m,\u001b[0m \u001b[0mexact\u001b[0m\u001b[0;34m,\u001b[0m \u001b[0merrors\u001b[0m\u001b[0;34m,\u001b[0m \u001b[0minfer_datetime_format\u001b[0m\u001b[0;34m\u001b[0m\u001b[0;34m\u001b[0m\u001b[0m\n\u001b[1;32m    540\u001b[0m     )\n",
            "\u001b[0;32m/usr/local/lib/python3.10/dist-packages/pandas/core/tools/datetimes.py\u001b[0m in \u001b[0;36m_array_strptime_with_fallback\u001b[0;34m(arg, name, tz, fmt, exact, errors, infer_datetime_format)\u001b[0m\n\u001b[1;32m    471\u001b[0m \u001b[0;34m\u001b[0m\u001b[0m\n\u001b[1;32m    472\u001b[0m     \u001b[0;32mtry\u001b[0m\u001b[0;34m:\u001b[0m\u001b[0;34m\u001b[0m\u001b[0;34m\u001b[0m\u001b[0m\n\u001b[0;32m--> 473\u001b[0;31m         \u001b[0mresult\u001b[0m\u001b[0;34m,\u001b[0m \u001b[0mtimezones\u001b[0m \u001b[0;34m=\u001b[0m \u001b[0marray_strptime\u001b[0m\u001b[0;34m(\u001b[0m\u001b[0marg\u001b[0m\u001b[0;34m,\u001b[0m \u001b[0mfmt\u001b[0m\u001b[0;34m,\u001b[0m \u001b[0mexact\u001b[0m\u001b[0;34m=\u001b[0m\u001b[0mexact\u001b[0m\u001b[0;34m,\u001b[0m \u001b[0merrors\u001b[0m\u001b[0;34m=\u001b[0m\u001b[0merrors\u001b[0m\u001b[0;34m)\u001b[0m\u001b[0;34m\u001b[0m\u001b[0;34m\u001b[0m\u001b[0m\n\u001b[0m\u001b[1;32m    474\u001b[0m     \u001b[0;32mexcept\u001b[0m \u001b[0mOutOfBoundsDatetime\u001b[0m\u001b[0;34m:\u001b[0m\u001b[0;34m\u001b[0m\u001b[0;34m\u001b[0m\u001b[0m\n\u001b[1;32m    475\u001b[0m         \u001b[0;32mif\u001b[0m \u001b[0merrors\u001b[0m \u001b[0;34m==\u001b[0m \u001b[0;34m\"raise\"\u001b[0m\u001b[0;34m:\u001b[0m\u001b[0;34m\u001b[0m\u001b[0;34m\u001b[0m\u001b[0m\n",
            "\u001b[0;32m/usr/local/lib/python3.10/dist-packages/pandas/_libs/tslibs/strptime.pyx\u001b[0m in \u001b[0;36mpandas._libs.tslibs.strptime.array_strptime\u001b[0;34m()\u001b[0m\n",
            "\u001b[0;31mValueError\u001b[0m: time data '17//08/2021' does not match format '%Y%m%d' (match)"
          ]
        }
      ]
    },
    {
      "cell_type": "markdown",
      "metadata": {
        "id": "icHwHAJ7BeY1"
      },
      "source": [
        "## 4. Save output"
      ]
    },
    {
      "cell_type": "code",
      "execution_count": 96,
      "metadata": {
        "id": "IG_pYAJkBeY1"
      },
      "outputs": [],
      "source": [
        "df_ordenado.to_csv('Df_ordenado_PY.csv',index=False)"
      ]
    }
  ],
  "metadata": {
    "anaconda-cloud": {},
    "colab": {
      "provenance": [],
      "include_colab_link": true
    },
    "kernelspec": {
      "display_name": "Python 3 (ipykernel)",
      "language": "python",
      "name": "python3"
    },
    "language_info": {
      "codemirror_mode": {
        "name": "ipython",
        "version": 3
      },
      "file_extension": ".py",
      "mimetype": "text/x-python",
      "name": "python",
      "nbconvert_exporter": "python",
      "pygments_lexer": "ipython3",
      "version": "3.12.0"
    }
  },
  "nbformat": 4,
  "nbformat_minor": 0
}