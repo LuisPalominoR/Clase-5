{
  "cells": [
    {
      "cell_type": "markdown",
      "metadata": {
        "id": "view-in-github",
        "colab_type": "text"
      },
      "source": [
        "<a href=\"https://colab.research.google.com/github/LuisPalominoR/Clase-5/blob/main/Edificaciones_PROTO.ipynb\" target=\"_parent\"><img src=\"https://colab.research.google.com/assets/colab-badge.svg\" alt=\"Open In Colab\"/></a>"
      ]
    },
    {
      "cell_type": "markdown",
      "metadata": {
        "id": "Ika9qVKHBeYu"
      },
      "source": [
        "<img src=\"https://i.imgur.com/6U6q5jQ.png\"/>"
      ]
    },
    {
      "cell_type": "markdown",
      "metadata": {
        "id": "3-CvaORDBeYv"
      },
      "source": [
        "# Data Cleaning in Python"
      ]
    },
    {
      "cell_type": "markdown",
      "metadata": {
        "id": "emQZYiLLBeYw"
      },
      "source": [
        "The data we have collected may have several issues we need to identify:\n",
        "\n",
        "* Are there missing values? How are they represented?\n",
        "* Is the format of the table ready to be analyzed? Are there other elements not relevant but distracting or likely to confuse our work?\n",
        "* Is every cell well written? are there characters that may not allow future analysis?\n",
        "\n",
        "Let's check some data:"
      ]
    },
    {
      "cell_type": "code",
      "execution_count": 1,
      "metadata": {
        "id": "niGinL5LBeYw"
      },
      "outputs": [],
      "source": [
        "import os"
      ]
    },
    {
      "cell_type": "code",
      "source": [
        "pip show openpyxl"
      ],
      "metadata": {
        "colab": {
          "base_uri": "https://localhost:8080/"
        },
        "id": "kWs0WyorVg44",
        "outputId": "67533bbb-dae3-42e5-8580-aab978d5312b"
      },
      "execution_count": 2,
      "outputs": [
        {
          "output_type": "stream",
          "name": "stdout",
          "text": [
            "Name: openpyxl\n",
            "Version: 3.1.2\n",
            "Summary: A Python library to read/write Excel 2010 xlsx/xlsm files\n",
            "Home-page: https://openpyxl.readthedocs.io\n",
            "Author: See AUTHORS\n",
            "Author-email: charlie.clark@clark-consulting.eu\n",
            "License: MIT\n",
            "Location: /usr/local/lib/python3.10/dist-packages\n",
            "Requires: et-xmlfile\n",
            "Required-by: \n"
          ]
        }
      ]
    },
    {
      "cell_type": "code",
      "source": [
        "import pandas as pd"
      ],
      "metadata": {
        "id": "oJ605_6bViBf"
      },
      "execution_count": 3,
      "outputs": []
    },
    {
      "cell_type": "code",
      "source": [
        "folder=\"data\"\n",
        "fileName=\"Edificaciones.xlsx\"\n",
        "fileToRead=os.path.join(folder,fileName)"
      ],
      "metadata": {
        "id": "Tz9aHkuZVi6I"
      },
      "execution_count": 4,
      "outputs": []
    },
    {
      "cell_type": "code",
      "source": [
        "fileName=\"Edificaciones.xlsx\"\n",
        "fileToRead=os.path.join(folder,fileName)\n",
        "\n",
        "dataExcel=pd.read_excel(fileToRead)"
      ],
      "metadata": {
        "id": "JBoZUam6VklY"
      },
      "execution_count": 5,
      "outputs": []
    },
    {
      "cell_type": "code",
      "source": [
        "df_ordenado = dataExcel.sort_values(by='CODIGO_\\nENTIDAD', ascending=True)"
      ],
      "metadata": {
        "id": "xxXyTU4wlEdm"
      },
      "execution_count": 6,
      "outputs": []
    },
    {
      "cell_type": "code",
      "source": [
        "df_ordenado.info()"
      ],
      "metadata": {
        "colab": {
          "base_uri": "https://localhost:8080/"
        },
        "id": "0LPJAi-cVm3J",
        "outputId": "96c49f13-99a3-47b4-9e35-ebbd622e89f9"
      },
      "execution_count": 7,
      "outputs": [
        {
          "output_type": "stream",
          "name": "stdout",
          "text": [
            "<class 'pandas.core.frame.DataFrame'>\n",
            "Int64Index: 180 entries, 0 to 179\n",
            "Data columns (total 31 columns):\n",
            " #   Column                    Non-Null Count  Dtype \n",
            "---  ------                    --------------  ----- \n",
            " 0   CODIGO_\n",
            "ENTIDAD           180 non-null    int64 \n",
            " 1   CODIGO_\n",
            "UBIGEO            180 non-null    int64 \n",
            " 2   CODIGO_\n",
            "PAIS              180 non-null    object\n",
            " 3   DEPARTAMENTO              180 non-null    object\n",
            " 4   PROVINCIA                 180 non-null    object\n",
            " 5   DISTRITO                  180 non-null    object\n",
            " 6   NOMBRE_UO                 180 non-null    object\n",
            " 7   GOBIERNO_LOCAL            180 non-null    object\n",
            " 8   RUC_GOBIERNO\n",
            "_LOCAL       180 non-null    int64 \n",
            " 9   NUMERO_\n",
            "EXPEDIENTE        180 non-null    object\n",
            " 10  FECHA_\n",
            "INICIO_\n",
            "TRAMITE    86 non-null     object\n",
            " 11  FECHA_\n",
            "EMISION_TRAMITE    168 non-null    object\n",
            " 12  NRO_RESOLUCION_\n",
            "LICENCIA  171 non-null    object\n",
            " 13  TIPO_DOC_\n",
            "SOLICITANTE     151 non-null    object\n",
            " 14  NRO_DOC_\n",
            "SOLICITANTE      151 non-null    object\n",
            " 15  UBICACION_PREDIO          180 non-null    object\n",
            " 16  ZONIFICACION_\n",
            "PREDIO      150 non-null    object\n",
            " 17  TIPO_DE_USO               150 non-null    object\n",
            " 18  TIPO_ALTURA               180 non-null    object\n",
            " 19  DETALLE_ALTURA            150 non-null    object\n",
            " 20  MODALIDAD_\n",
            "APROBACION     150 non-null    object\n",
            " 21  \n",
            "TIPO_OBRA                149 non-null    object\n",
            " 22  OBRA_\n",
            "NUEVA               150 non-null    object\n",
            " 23  OBRA_\n",
            "DEMOLICIÓN          149 non-null    object\n",
            " 24  OBRA_\n",
            "REMODELACIÓN        150 non-null    object\n",
            " 25  OBRA_\n",
            "AMPLIACIÓN          150 non-null    object\n",
            " 26  OBRA_\n",
            "REFACCIÓN           150 non-null    object\n",
            " 27  OBRA_\n",
            "CERCO               150 non-null    object\n",
            " 28  AREA_TOTAL_\n",
            "CONSTRUIDA    150 non-null    object\n",
            " 29  VALOR_\n",
            "OBRA               150 non-null    object\n",
            " 30  FECHA_\n",
            "CORTE              180 non-null    int64 \n",
            "dtypes: int64(4), object(27)\n",
            "memory usage: 45.0+ KB\n"
          ]
        }
      ]
    },
    {
      "cell_type": "markdown",
      "metadata": {
        "id": "WRdK0UZ_BeYw"
      },
      "source": [
        "Let's keep the first one:"
      ]
    },
    {
      "cell_type": "markdown",
      "metadata": {
        "id": "LtSR4-fTBeYw"
      },
      "source": [
        "## 1. Clean headers"
      ]
    },
    {
      "cell_type": "code",
      "execution_count": 8,
      "metadata": {
        "colab": {
          "base_uri": "https://localhost:8080/"
        },
        "id": "Uv9H1gdlBeYw",
        "outputId": "dcbc89d0-022d-49bd-fa5c-dab19513d88c"
      },
      "outputs": [
        {
          "output_type": "execute_result",
          "data": {
            "text/plain": [
              "Index(['CODIGO_\\nENTIDAD', 'CODIGO_\\nUBIGEO', 'CODIGO_\\nPAIS', 'DEPARTAMENTO',\n",
              "       'PROVINCIA', 'DISTRITO', 'NOMBRE_UO', 'GOBIERNO_LOCAL',\n",
              "       'RUC_GOBIERNO\\n_LOCAL', 'NUMERO_\\nEXPEDIENTE',\n",
              "       'FECHA_\\nINICIO_\\nTRAMITE', 'FECHA_\\nEMISION_TRAMITE',\n",
              "       'NRO_RESOLUCION_\\nLICENCIA', 'TIPO_DOC_\\nSOLICITANTE',\n",
              "       'NRO_DOC_\\nSOLICITANTE', 'UBICACION_PREDIO', 'ZONIFICACION_\\nPREDIO',\n",
              "       'TIPO_DE_USO', 'TIPO_ALTURA', 'DETALLE_ALTURA',\n",
              "       'MODALIDAD_\\nAPROBACION', '\\nTIPO_OBRA', 'OBRA_\\nNUEVA',\n",
              "       'OBRA_\\nDEMOLICIÓN ', 'OBRA_\\nREMODELACIÓN ', 'OBRA_\\nAMPLIACIÓN ',\n",
              "       'OBRA_\\nREFACCIÓN ', 'OBRA_\\nCERCO ', 'AREA_TOTAL_\\nCONSTRUIDA ',\n",
              "       'VALOR_\\nOBRA', 'FECHA_\\nCORTE'],\n",
              "      dtype='object')"
            ]
          },
          "metadata": {},
          "execution_count": 8
        }
      ],
      "source": [
        "# check headers\n",
        "df_ordenado.columns"
      ]
    },
    {
      "cell_type": "markdown",
      "metadata": {
        "id": "i1vJCfoGBeYx"
      },
      "source": [
        "Cleaning requires a strategy. In the strings above your main problem is the footnotes and the quasi-duplicates."
      ]
    },
    {
      "cell_type": "code",
      "execution_count": 9,
      "metadata": {
        "colab": {
          "base_uri": "https://localhost:8080/"
        },
        "id": "wzl2jRbkBeYx",
        "outputId": "774d7227-e03c-4b70-f6a4-7858cbc3bcaf"
      },
      "outputs": [
        {
          "output_type": "execute_result",
          "data": {
            "text/plain": [
              "Index(['CODIGO_\\nENTIDAD', 'CODIGO_\\nUBIGEO', 'CODIGO_\\nPAIS',\n",
              "       'NUMERO_\\nEXPEDIENTE', 'FECHA_\\nINICIO_\\nTRAMITE',\n",
              "       'FECHA_\\nEMISION_TRAMITE', 'NRO_RESOLUCION_\\nLICENCIA',\n",
              "       'TIPO_DOC_\\nSOLICITANTE', 'NRO_DOC_\\nSOLICITANTE',\n",
              "       'ZONIFICACION_\\nPREDIO', 'MODALIDAD_\\nAPROBACION', 'OBRA_\\nNUEVA',\n",
              "       'OBRA_\\nDEMOLICIÓN ', 'OBRA_\\nREMODELACIÓN ', 'OBRA_\\nAMPLIACIÓN ',\n",
              "       'OBRA_\\nREFACCIÓN ', 'OBRA_\\nCERCO ', 'AREA_TOTAL_\\nCONSTRUIDA ',\n",
              "       'VALOR_\\nOBRA', 'FECHA_\\nCORTE'],\n",
              "      dtype='object')"
            ]
          },
          "metadata": {},
          "execution_count": 9
        }
      ],
      "source": [
        "# the quasi duplicates\n",
        "nColumns=df_ordenado.columns[df_ordenado.columns.str.contains('_\\n')]\n",
        "nColumns"
      ]
    },
    {
      "cell_type": "code",
      "execution_count": 10,
      "metadata": {
        "colab": {
          "base_uri": "https://localhost:8080/"
        },
        "id": "lCYkZ-KtBeYx",
        "outputId": "d03afaa5-ca97-43d6-9b59-31fe4cbd782b"
      },
      "outputs": [
        {
          "output_type": "execute_result",
          "data": {
            "text/plain": [
              "Index(['DEPARTAMENTO', 'PROVINCIA', 'DISTRITO', 'NOMBRE_UO', 'GOBIERNO_LOCAL',\n",
              "       'RUC_GOBIERNO\\n_LOCAL', 'UBICACION_PREDIO', 'TIPO_DE_USO',\n",
              "       'TIPO_ALTURA', 'DETALLE_ALTURA', '\\nTIPO_OBRA'],\n",
              "      dtype='object')"
            ]
          },
          "metadata": {},
          "execution_count": 10
        }
      ],
      "source": [
        "# the not quasi duplicates\n",
        "df_ordenado.columns[~df_ordenado.columns.str.contains('_\\n')]"
      ]
    },
    {
      "cell_type": "markdown",
      "metadata": {
        "id": "jGA_XT-ZBeYx"
      },
      "source": [
        "Let's keep the last ones without the footnotes, let's _divide and conquer_ using **split()**:"
      ]
    },
    {
      "cell_type": "code",
      "execution_count": 11,
      "metadata": {
        "colab": {
          "base_uri": "https://localhost:8080/"
        },
        "id": "u1BVZ1yUBeYx",
        "outputId": "87b6768d-26ad-4520-f22a-fafd833e0a58"
      },
      "outputs": [
        {
          "output_type": "execute_result",
          "data": {
            "text/plain": [
              "Index(['NOMBRE_UO', 'GOBIERNO_LOCAL', 'UBICACION_PREDIO', 'TIPO_DE_USO',\n",
              "       'TIPO_ALTURA', 'DETALLE_ALTURA'],\n",
              "      dtype='object')"
            ]
          },
          "metadata": {},
          "execution_count": 11
        }
      ],
      "source": [
        "# save the last one but the first ones:\n",
        "notnColumns=df_ordenado.columns[~df_ordenado.columns.str.contains('\\n')][3:]\n",
        "notnColumns"
      ]
    },
    {
      "cell_type": "markdown",
      "source": [
        "NOT N COLUMNS"
      ],
      "metadata": {
        "id": "ui5wA2Ss6Yo6"
      }
    },
    {
      "cell_type": "code",
      "execution_count": 12,
      "metadata": {
        "colab": {
          "base_uri": "https://localhost:8080/"
        },
        "id": "XnCm_PhhBeYx",
        "outputId": "259d84db-8a5f-4293-8a56-215f4b1f09a2"
      },
      "outputs": [
        {
          "output_type": "execute_result",
          "data": {
            "text/plain": [
              "[['NOMBRE', 'UO'],\n",
              " ['GOBIERNO', 'LOCAL'],\n",
              " ['UBICACION', 'PREDIO'],\n",
              " ['TIPO', 'DE', 'USO'],\n",
              " ['TIPO', 'ALTURA'],\n",
              " ['DETALLE', 'ALTURA']]"
            ]
          },
          "metadata": {},
          "execution_count": 12
        }
      ],
      "source": [
        "# using list comprehension\n",
        "notnColumns1=[element.split('_') for element in notnColumns]\n",
        "notnColumns1"
      ]
    },
    {
      "cell_type": "code",
      "source": [
        "notnColumns2 = []"
      ],
      "metadata": {
        "id": "twz73jplj5cJ"
      },
      "execution_count": 13,
      "outputs": []
    },
    {
      "cell_type": "code",
      "source": [
        "for element in notnColumns1:\n",
        "    nElement = ' '.join(element)\n",
        "    notnColumns2.append(nElement)\n",
        "notnColumns2"
      ],
      "metadata": {
        "colab": {
          "base_uri": "https://localhost:8080/"
        },
        "id": "A9z4IUc1j8dq",
        "outputId": "65af2013-7bb0-43d2-ebd9-9809036b1e5c"
      },
      "execution_count": 14,
      "outputs": [
        {
          "output_type": "execute_result",
          "data": {
            "text/plain": [
              "['NOMBRE UO',\n",
              " 'GOBIERNO LOCAL',\n",
              " 'UBICACION PREDIO',\n",
              " 'TIPO DE USO',\n",
              " 'TIPO ALTURA',\n",
              " 'DETALLE ALTURA']"
            ]
          },
          "metadata": {},
          "execution_count": 14
        }
      ]
    },
    {
      "cell_type": "markdown",
      "source": [
        "RUC GOBIERNO LOCAL"
      ],
      "metadata": {
        "id": "clqD7Y1Q4PqH"
      }
    },
    {
      "cell_type": "code",
      "source": [
        "RUCnColumns=df_ordenado.columns[df_ordenado.columns.str.contains('RUC')]\n",
        "RUCnColumns"
      ],
      "metadata": {
        "colab": {
          "base_uri": "https://localhost:8080/"
        },
        "id": "bmTCuI3i4PXf",
        "outputId": "7cf38a38-1f96-4536-b348-1a28d320b915"
      },
      "execution_count": 15,
      "outputs": [
        {
          "output_type": "execute_result",
          "data": {
            "text/plain": [
              "Index(['RUC_GOBIERNO\\n_LOCAL'], dtype='object')"
            ]
          },
          "metadata": {},
          "execution_count": 15
        }
      ]
    },
    {
      "cell_type": "code",
      "source": [
        "RUCnColumns1=[element.split('\\n_') for element in RUCnColumns]\n",
        "RUCnColumns1"
      ],
      "metadata": {
        "colab": {
          "base_uri": "https://localhost:8080/"
        },
        "id": "sFIoatFm6sOB",
        "outputId": "2f170524-f6b7-400d-f419-b0e48bf6c9f2"
      },
      "execution_count": 16,
      "outputs": [
        {
          "output_type": "execute_result",
          "data": {
            "text/plain": [
              "[['RUC_GOBIERNO', 'LOCAL']]"
            ]
          },
          "metadata": {},
          "execution_count": 16
        }
      ]
    },
    {
      "cell_type": "code",
      "source": [
        "RUCnColumns2 = []"
      ],
      "metadata": {
        "id": "kYtak0Pv6wCO"
      },
      "execution_count": 17,
      "outputs": []
    },
    {
      "cell_type": "code",
      "source": [
        "for element in RUCnColumns1:\n",
        "    RUCElement = ' '.join(element)\n",
        "    RUCnColumns2.append(RUCElement)\n",
        "RUCnColumns2"
      ],
      "metadata": {
        "colab": {
          "base_uri": "https://localhost:8080/"
        },
        "id": "uMY9gWzs6yOV",
        "outputId": "157759c8-ab73-4f02-956e-530ea6a9da3d"
      },
      "execution_count": 18,
      "outputs": [
        {
          "output_type": "execute_result",
          "data": {
            "text/plain": [
              "['RUC_GOBIERNO LOCAL']"
            ]
          },
          "metadata": {},
          "execution_count": 18
        }
      ]
    },
    {
      "cell_type": "code",
      "source": [
        "RUCnColumns3=[element.split('_') for element in RUCnColumns2]\n",
        "RUCnColumns3"
      ],
      "metadata": {
        "colab": {
          "base_uri": "https://localhost:8080/"
        },
        "id": "KwCYQZKk611g",
        "outputId": "aba6d97c-255c-49cc-dcc9-7e49b67a93b7"
      },
      "execution_count": 19,
      "outputs": [
        {
          "output_type": "execute_result",
          "data": {
            "text/plain": [
              "[['RUC', 'GOBIERNO LOCAL']]"
            ]
          },
          "metadata": {},
          "execution_count": 19
        }
      ]
    },
    {
      "cell_type": "code",
      "source": [
        "RUCnColumns4 = []"
      ],
      "metadata": {
        "id": "1B7_D4bu64Rt"
      },
      "execution_count": 20,
      "outputs": []
    },
    {
      "cell_type": "code",
      "source": [
        "for element in RUCnColumns3:\n",
        "    RUCElement1 = ' '.join(element)\n",
        "    RUCnColumns4.append(RUCElement1)\n",
        "RUCnColumns4"
      ],
      "metadata": {
        "colab": {
          "base_uri": "https://localhost:8080/"
        },
        "id": "YLIGZSgG69g0",
        "outputId": "8f38cc86-5092-433b-dca6-e1ae0dab88e5"
      },
      "execution_count": 21,
      "outputs": [
        {
          "output_type": "execute_result",
          "data": {
            "text/plain": [
              "['RUC GOBIERNO LOCAL']"
            ]
          },
          "metadata": {},
          "execution_count": 21
        }
      ]
    },
    {
      "cell_type": "markdown",
      "source": [
        "TIPO DE OBRA"
      ],
      "metadata": {
        "id": "QOsvKU_A7fvp"
      }
    },
    {
      "cell_type": "code",
      "source": [
        "OBRAnColumns=df_ordenado.columns[df_ordenado.columns.str.contains('TIPO_OBRA')]\n",
        "OBRAnColumns"
      ],
      "metadata": {
        "colab": {
          "base_uri": "https://localhost:8080/"
        },
        "id": "Xwfqt7SU7ghB",
        "outputId": "48b68f53-d511-4360-9813-6b1789ccc975"
      },
      "execution_count": 22,
      "outputs": [
        {
          "output_type": "execute_result",
          "data": {
            "text/plain": [
              "Index(['\\nTIPO_OBRA'], dtype='object')"
            ]
          },
          "metadata": {},
          "execution_count": 22
        }
      ]
    },
    {
      "cell_type": "code",
      "source": [
        "OBRAnColumns1=[element.strip('\\n') for element in OBRAnColumns]\n",
        "OBRAnColumns1"
      ],
      "metadata": {
        "colab": {
          "base_uri": "https://localhost:8080/"
        },
        "id": "xRAUrFGQ7jKA",
        "outputId": "596317f7-ac23-4558-c1a2-9698e1b099d7"
      },
      "execution_count": 23,
      "outputs": [
        {
          "output_type": "execute_result",
          "data": {
            "text/plain": [
              "['TIPO_OBRA']"
            ]
          },
          "metadata": {},
          "execution_count": 23
        }
      ]
    },
    {
      "cell_type": "code",
      "source": [
        "OBRAnColumns2=[element.split('_') for element in OBRAnColumns1]\n",
        "OBRAnColumns2"
      ],
      "metadata": {
        "colab": {
          "base_uri": "https://localhost:8080/"
        },
        "id": "ndwiiZhZ7mu5",
        "outputId": "5cc1df28-c95d-4fc1-c96b-77b91d8fc388"
      },
      "execution_count": 24,
      "outputs": [
        {
          "output_type": "execute_result",
          "data": {
            "text/plain": [
              "[['TIPO', 'OBRA']]"
            ]
          },
          "metadata": {},
          "execution_count": 24
        }
      ]
    },
    {
      "cell_type": "code",
      "source": [
        "OBRAnColumns3 = []"
      ],
      "metadata": {
        "id": "f8l4_o8y7nlR"
      },
      "execution_count": 25,
      "outputs": []
    },
    {
      "cell_type": "code",
      "source": [
        "for element in OBRAnColumns2:\n",
        "    OBRAElement1 = ' '.join(element)\n",
        "    OBRAnColumns3.append(OBRAElement1)\n",
        "OBRAnColumns3"
      ],
      "metadata": {
        "colab": {
          "base_uri": "https://localhost:8080/"
        },
        "id": "uVRW4dri7nxw",
        "outputId": "5efc9127-8dc3-427d-e884-e7b51f3941ef"
      },
      "execution_count": 26,
      "outputs": [
        {
          "output_type": "execute_result",
          "data": {
            "text/plain": [
              "['TIPO OBRA']"
            ]
          },
          "metadata": {},
          "execution_count": 26
        }
      ]
    },
    {
      "cell_type": "markdown",
      "source": [
        "N COLUMNS"
      ],
      "metadata": {
        "id": "jtbyihlimGzj"
      }
    },
    {
      "cell_type": "code",
      "source": [
        "nColumnsa=[element.strip(' ') for element in nColumns]\n",
        "nColumnsa"
      ],
      "metadata": {
        "colab": {
          "base_uri": "https://localhost:8080/"
        },
        "id": "N8MsKWxd8Tw_",
        "outputId": "cbef8f9d-968d-4b45-e4f5-83c43f69173b"
      },
      "execution_count": 27,
      "outputs": [
        {
          "output_type": "execute_result",
          "data": {
            "text/plain": [
              "['CODIGO_\\nENTIDAD',\n",
              " 'CODIGO_\\nUBIGEO',\n",
              " 'CODIGO_\\nPAIS',\n",
              " 'NUMERO_\\nEXPEDIENTE',\n",
              " 'FECHA_\\nINICIO_\\nTRAMITE',\n",
              " 'FECHA_\\nEMISION_TRAMITE',\n",
              " 'NRO_RESOLUCION_\\nLICENCIA',\n",
              " 'TIPO_DOC_\\nSOLICITANTE',\n",
              " 'NRO_DOC_\\nSOLICITANTE',\n",
              " 'ZONIFICACION_\\nPREDIO',\n",
              " 'MODALIDAD_\\nAPROBACION',\n",
              " 'OBRA_\\nNUEVA',\n",
              " 'OBRA_\\nDEMOLICIÓN',\n",
              " 'OBRA_\\nREMODELACIÓN',\n",
              " 'OBRA_\\nAMPLIACIÓN',\n",
              " 'OBRA_\\nREFACCIÓN',\n",
              " 'OBRA_\\nCERCO',\n",
              " 'AREA_TOTAL_\\nCONSTRUIDA',\n",
              " 'VALOR_\\nOBRA',\n",
              " 'FECHA_\\nCORTE']"
            ]
          },
          "metadata": {},
          "execution_count": 27
        }
      ]
    },
    {
      "cell_type": "code",
      "source": [
        "nColumns1=[element.split('_\\n') for element in nColumnsa]\n",
        "nColumns1"
      ],
      "metadata": {
        "colab": {
          "base_uri": "https://localhost:8080/"
        },
        "id": "8R-3ApAamJyD",
        "outputId": "4a8bd605-0c4c-4c13-c86e-7e3cb22b0533"
      },
      "execution_count": 28,
      "outputs": [
        {
          "output_type": "execute_result",
          "data": {
            "text/plain": [
              "[['CODIGO', 'ENTIDAD'],\n",
              " ['CODIGO', 'UBIGEO'],\n",
              " ['CODIGO', 'PAIS'],\n",
              " ['NUMERO', 'EXPEDIENTE'],\n",
              " ['FECHA', 'INICIO', 'TRAMITE'],\n",
              " ['FECHA', 'EMISION_TRAMITE'],\n",
              " ['NRO_RESOLUCION', 'LICENCIA'],\n",
              " ['TIPO_DOC', 'SOLICITANTE'],\n",
              " ['NRO_DOC', 'SOLICITANTE'],\n",
              " ['ZONIFICACION', 'PREDIO'],\n",
              " ['MODALIDAD', 'APROBACION'],\n",
              " ['OBRA', 'NUEVA'],\n",
              " ['OBRA', 'DEMOLICIÓN'],\n",
              " ['OBRA', 'REMODELACIÓN'],\n",
              " ['OBRA', 'AMPLIACIÓN'],\n",
              " ['OBRA', 'REFACCIÓN'],\n",
              " ['OBRA', 'CERCO'],\n",
              " ['AREA_TOTAL', 'CONSTRUIDA'],\n",
              " ['VALOR', 'OBRA'],\n",
              " ['FECHA', 'CORTE']]"
            ]
          },
          "metadata": {},
          "execution_count": 28
        }
      ]
    },
    {
      "cell_type": "code",
      "source": [
        "nColumns2 = []"
      ],
      "metadata": {
        "id": "MTa9d2yS-x3G"
      },
      "execution_count": 29,
      "outputs": []
    },
    {
      "cell_type": "code",
      "source": [
        "for element in nColumns1:\n",
        "    nElement2 = ' '.join(element)\n",
        "    nColumns2.append(nElement2)\n",
        "nColumns2"
      ],
      "metadata": {
        "colab": {
          "base_uri": "https://localhost:8080/"
        },
        "id": "CtcBn2apyZmu",
        "outputId": "2b24f46d-29b7-4bdb-8025-3af030465e57"
      },
      "execution_count": 30,
      "outputs": [
        {
          "output_type": "execute_result",
          "data": {
            "text/plain": [
              "['CODIGO ENTIDAD',\n",
              " 'CODIGO UBIGEO',\n",
              " 'CODIGO PAIS',\n",
              " 'NUMERO EXPEDIENTE',\n",
              " 'FECHA INICIO TRAMITE',\n",
              " 'FECHA EMISION_TRAMITE',\n",
              " 'NRO_RESOLUCION LICENCIA',\n",
              " 'TIPO_DOC SOLICITANTE',\n",
              " 'NRO_DOC SOLICITANTE',\n",
              " 'ZONIFICACION PREDIO',\n",
              " 'MODALIDAD APROBACION',\n",
              " 'OBRA NUEVA',\n",
              " 'OBRA DEMOLICIÓN',\n",
              " 'OBRA REMODELACIÓN',\n",
              " 'OBRA AMPLIACIÓN',\n",
              " 'OBRA REFACCIÓN',\n",
              " 'OBRA CERCO',\n",
              " 'AREA_TOTAL CONSTRUIDA',\n",
              " 'VALOR OBRA',\n",
              " 'FECHA CORTE']"
            ]
          },
          "metadata": {},
          "execution_count": 30
        }
      ]
    },
    {
      "cell_type": "code",
      "source": [
        "nColumns3=[element.split('_') for element in nColumns2]\n",
        "nColumns3"
      ],
      "metadata": {
        "colab": {
          "base_uri": "https://localhost:8080/"
        },
        "id": "KfTgIxn_xTdO",
        "outputId": "aaf461c0-f65e-41a4-f199-36db0d7286e5"
      },
      "execution_count": 31,
      "outputs": [
        {
          "output_type": "execute_result",
          "data": {
            "text/plain": [
              "[['CODIGO ENTIDAD'],\n",
              " ['CODIGO UBIGEO'],\n",
              " ['CODIGO PAIS'],\n",
              " ['NUMERO EXPEDIENTE'],\n",
              " ['FECHA INICIO TRAMITE'],\n",
              " ['FECHA EMISION', 'TRAMITE'],\n",
              " ['NRO', 'RESOLUCION LICENCIA'],\n",
              " ['TIPO', 'DOC SOLICITANTE'],\n",
              " ['NRO', 'DOC SOLICITANTE'],\n",
              " ['ZONIFICACION PREDIO'],\n",
              " ['MODALIDAD APROBACION'],\n",
              " ['OBRA NUEVA'],\n",
              " ['OBRA DEMOLICIÓN'],\n",
              " ['OBRA REMODELACIÓN'],\n",
              " ['OBRA AMPLIACIÓN'],\n",
              " ['OBRA REFACCIÓN'],\n",
              " ['OBRA CERCO'],\n",
              " ['AREA', 'TOTAL CONSTRUIDA'],\n",
              " ['VALOR OBRA'],\n",
              " ['FECHA CORTE']]"
            ]
          },
          "metadata": {},
          "execution_count": 31
        }
      ]
    },
    {
      "cell_type": "code",
      "source": [
        "nColumns4 = []"
      ],
      "metadata": {
        "id": "v3m0TaTZdgUd"
      },
      "execution_count": 32,
      "outputs": []
    },
    {
      "cell_type": "code",
      "source": [
        "for element in nColumns3:\n",
        "    elementn = ' '.join(element)\n",
        "    nColumns4.append(elementn)\n",
        "nColumns4"
      ],
      "metadata": {
        "colab": {
          "base_uri": "https://localhost:8080/"
        },
        "id": "sXX_MeiJdiMQ",
        "outputId": "94738fad-d3f9-47ef-82bf-f6c94f6a9dca"
      },
      "execution_count": 33,
      "outputs": [
        {
          "output_type": "execute_result",
          "data": {
            "text/plain": [
              "['CODIGO ENTIDAD',\n",
              " 'CODIGO UBIGEO',\n",
              " 'CODIGO PAIS',\n",
              " 'NUMERO EXPEDIENTE',\n",
              " 'FECHA INICIO TRAMITE',\n",
              " 'FECHA EMISION TRAMITE',\n",
              " 'NRO RESOLUCION LICENCIA',\n",
              " 'TIPO DOC SOLICITANTE',\n",
              " 'NRO DOC SOLICITANTE',\n",
              " 'ZONIFICACION PREDIO',\n",
              " 'MODALIDAD APROBACION',\n",
              " 'OBRA NUEVA',\n",
              " 'OBRA DEMOLICIÓN',\n",
              " 'OBRA REMODELACIÓN',\n",
              " 'OBRA AMPLIACIÓN',\n",
              " 'OBRA REFACCIÓN',\n",
              " 'OBRA CERCO',\n",
              " 'AREA TOTAL CONSTRUIDA',\n",
              " 'VALOR OBRA',\n",
              " 'FECHA CORTE']"
            ]
          },
          "metadata": {},
          "execution_count": 33
        }
      ]
    },
    {
      "cell_type": "code",
      "source": [
        "change={old:new for old,new in zip(notnColumns,notnColumns2)}\n",
        "change"
      ],
      "metadata": {
        "colab": {
          "base_uri": "https://localhost:8080/"
        },
        "id": "sCqIss8r3vaA",
        "outputId": "b29341c3-72a2-49d7-8531-a5ee66bbef63"
      },
      "execution_count": 34,
      "outputs": [
        {
          "output_type": "execute_result",
          "data": {
            "text/plain": [
              "{'NOMBRE_UO': 'NOMBRE UO',\n",
              " 'GOBIERNO_LOCAL': 'GOBIERNO LOCAL',\n",
              " 'UBICACION_PREDIO': 'UBICACION PREDIO',\n",
              " 'TIPO_DE_USO': 'TIPO DE USO',\n",
              " 'TIPO_ALTURA': 'TIPO ALTURA',\n",
              " 'DETALLE_ALTURA': 'DETALLE ALTURA'}"
            ]
          },
          "metadata": {},
          "execution_count": 34
        }
      ]
    },
    {
      "cell_type": "code",
      "source": [
        "change2={old:new for old,new in zip(nColumns,nColumns4)}\n",
        "change2"
      ],
      "metadata": {
        "colab": {
          "base_uri": "https://localhost:8080/"
        },
        "id": "nqPth78h34n_",
        "outputId": "f1ac8200-0d3d-405e-ba50-f61ddc67032d"
      },
      "execution_count": 35,
      "outputs": [
        {
          "output_type": "execute_result",
          "data": {
            "text/plain": [
              "{'CODIGO_\\nENTIDAD': 'CODIGO ENTIDAD',\n",
              " 'CODIGO_\\nUBIGEO': 'CODIGO UBIGEO',\n",
              " 'CODIGO_\\nPAIS': 'CODIGO PAIS',\n",
              " 'NUMERO_\\nEXPEDIENTE': 'NUMERO EXPEDIENTE',\n",
              " 'FECHA_\\nINICIO_\\nTRAMITE': 'FECHA INICIO TRAMITE',\n",
              " 'FECHA_\\nEMISION_TRAMITE': 'FECHA EMISION TRAMITE',\n",
              " 'NRO_RESOLUCION_\\nLICENCIA': 'NRO RESOLUCION LICENCIA',\n",
              " 'TIPO_DOC_\\nSOLICITANTE': 'TIPO DOC SOLICITANTE',\n",
              " 'NRO_DOC_\\nSOLICITANTE': 'NRO DOC SOLICITANTE',\n",
              " 'ZONIFICACION_\\nPREDIO': 'ZONIFICACION PREDIO',\n",
              " 'MODALIDAD_\\nAPROBACION': 'MODALIDAD APROBACION',\n",
              " 'OBRA_\\nNUEVA': 'OBRA NUEVA',\n",
              " 'OBRA_\\nDEMOLICIÓN ': 'OBRA DEMOLICIÓN',\n",
              " 'OBRA_\\nREMODELACIÓN ': 'OBRA REMODELACIÓN',\n",
              " 'OBRA_\\nAMPLIACIÓN ': 'OBRA AMPLIACIÓN',\n",
              " 'OBRA_\\nREFACCIÓN ': 'OBRA REFACCIÓN',\n",
              " 'OBRA_\\nCERCO ': 'OBRA CERCO',\n",
              " 'AREA_TOTAL_\\nCONSTRUIDA ': 'AREA TOTAL CONSTRUIDA',\n",
              " 'VALOR_\\nOBRA': 'VALOR OBRA',\n",
              " 'FECHA_\\nCORTE': 'FECHA CORTE'}"
            ]
          },
          "metadata": {},
          "execution_count": 35
        }
      ]
    },
    {
      "cell_type": "code",
      "source": [
        "change3={old:new for old,new in zip(OBRAnColumns,OBRAnColumns3)}\n",
        "change3"
      ],
      "metadata": {
        "colab": {
          "base_uri": "https://localhost:8080/"
        },
        "id": "1sL_A9EO-6Iz",
        "outputId": "f014ffd6-ebf4-4c49-8c48-ccff41b3f263"
      },
      "execution_count": 36,
      "outputs": [
        {
          "output_type": "execute_result",
          "data": {
            "text/plain": [
              "{'\\nTIPO_OBRA': 'TIPO OBRA'}"
            ]
          },
          "metadata": {},
          "execution_count": 36
        }
      ]
    },
    {
      "cell_type": "code",
      "source": [
        "change4={old:new for old,new in zip(RUCnColumns,RUCnColumns4)}\n",
        "change4"
      ],
      "metadata": {
        "colab": {
          "base_uri": "https://localhost:8080/"
        },
        "id": "CnuZ2x7Z_Dsj",
        "outputId": "3653d2ec-f6f6-435b-c1b8-943d02f191b5"
      },
      "execution_count": 37,
      "outputs": [
        {
          "output_type": "execute_result",
          "data": {
            "text/plain": [
              "{'RUC_GOBIERNO\\n_LOCAL': 'RUC GOBIERNO LOCAL'}"
            ]
          },
          "metadata": {},
          "execution_count": 37
        }
      ]
    },
    {
      "cell_type": "code",
      "source": [
        "change.update(change2)\n",
        "change"
      ],
      "metadata": {
        "colab": {
          "base_uri": "https://localhost:8080/"
        },
        "id": "8-ZLa6_f_S6T",
        "outputId": "6135fbd9-2e59-4ae4-fea2-ccbc4072282a"
      },
      "execution_count": 38,
      "outputs": [
        {
          "output_type": "execute_result",
          "data": {
            "text/plain": [
              "{'NOMBRE_UO': 'NOMBRE UO',\n",
              " 'GOBIERNO_LOCAL': 'GOBIERNO LOCAL',\n",
              " 'UBICACION_PREDIO': 'UBICACION PREDIO',\n",
              " 'TIPO_DE_USO': 'TIPO DE USO',\n",
              " 'TIPO_ALTURA': 'TIPO ALTURA',\n",
              " 'DETALLE_ALTURA': 'DETALLE ALTURA',\n",
              " 'CODIGO_\\nENTIDAD': 'CODIGO ENTIDAD',\n",
              " 'CODIGO_\\nUBIGEO': 'CODIGO UBIGEO',\n",
              " 'CODIGO_\\nPAIS': 'CODIGO PAIS',\n",
              " 'NUMERO_\\nEXPEDIENTE': 'NUMERO EXPEDIENTE',\n",
              " 'FECHA_\\nINICIO_\\nTRAMITE': 'FECHA INICIO TRAMITE',\n",
              " 'FECHA_\\nEMISION_TRAMITE': 'FECHA EMISION TRAMITE',\n",
              " 'NRO_RESOLUCION_\\nLICENCIA': 'NRO RESOLUCION LICENCIA',\n",
              " 'TIPO_DOC_\\nSOLICITANTE': 'TIPO DOC SOLICITANTE',\n",
              " 'NRO_DOC_\\nSOLICITANTE': 'NRO DOC SOLICITANTE',\n",
              " 'ZONIFICACION_\\nPREDIO': 'ZONIFICACION PREDIO',\n",
              " 'MODALIDAD_\\nAPROBACION': 'MODALIDAD APROBACION',\n",
              " 'OBRA_\\nNUEVA': 'OBRA NUEVA',\n",
              " 'OBRA_\\nDEMOLICIÓN ': 'OBRA DEMOLICIÓN',\n",
              " 'OBRA_\\nREMODELACIÓN ': 'OBRA REMODELACIÓN',\n",
              " 'OBRA_\\nAMPLIACIÓN ': 'OBRA AMPLIACIÓN',\n",
              " 'OBRA_\\nREFACCIÓN ': 'OBRA REFACCIÓN',\n",
              " 'OBRA_\\nCERCO ': 'OBRA CERCO',\n",
              " 'AREA_TOTAL_\\nCONSTRUIDA ': 'AREA TOTAL CONSTRUIDA',\n",
              " 'VALOR_\\nOBRA': 'VALOR OBRA',\n",
              " 'FECHA_\\nCORTE': 'FECHA CORTE'}"
            ]
          },
          "metadata": {},
          "execution_count": 38
        }
      ]
    },
    {
      "cell_type": "code",
      "source": [
        "change.update(change3)\n",
        "change"
      ],
      "metadata": {
        "colab": {
          "base_uri": "https://localhost:8080/"
        },
        "id": "SoSrniWl_Uu8",
        "outputId": "f56acf2d-336b-4544-e13e-d2307c5d035d"
      },
      "execution_count": 39,
      "outputs": [
        {
          "output_type": "execute_result",
          "data": {
            "text/plain": [
              "{'NOMBRE_UO': 'NOMBRE UO',\n",
              " 'GOBIERNO_LOCAL': 'GOBIERNO LOCAL',\n",
              " 'UBICACION_PREDIO': 'UBICACION PREDIO',\n",
              " 'TIPO_DE_USO': 'TIPO DE USO',\n",
              " 'TIPO_ALTURA': 'TIPO ALTURA',\n",
              " 'DETALLE_ALTURA': 'DETALLE ALTURA',\n",
              " 'CODIGO_\\nENTIDAD': 'CODIGO ENTIDAD',\n",
              " 'CODIGO_\\nUBIGEO': 'CODIGO UBIGEO',\n",
              " 'CODIGO_\\nPAIS': 'CODIGO PAIS',\n",
              " 'NUMERO_\\nEXPEDIENTE': 'NUMERO EXPEDIENTE',\n",
              " 'FECHA_\\nINICIO_\\nTRAMITE': 'FECHA INICIO TRAMITE',\n",
              " 'FECHA_\\nEMISION_TRAMITE': 'FECHA EMISION TRAMITE',\n",
              " 'NRO_RESOLUCION_\\nLICENCIA': 'NRO RESOLUCION LICENCIA',\n",
              " 'TIPO_DOC_\\nSOLICITANTE': 'TIPO DOC SOLICITANTE',\n",
              " 'NRO_DOC_\\nSOLICITANTE': 'NRO DOC SOLICITANTE',\n",
              " 'ZONIFICACION_\\nPREDIO': 'ZONIFICACION PREDIO',\n",
              " 'MODALIDAD_\\nAPROBACION': 'MODALIDAD APROBACION',\n",
              " 'OBRA_\\nNUEVA': 'OBRA NUEVA',\n",
              " 'OBRA_\\nDEMOLICIÓN ': 'OBRA DEMOLICIÓN',\n",
              " 'OBRA_\\nREMODELACIÓN ': 'OBRA REMODELACIÓN',\n",
              " 'OBRA_\\nAMPLIACIÓN ': 'OBRA AMPLIACIÓN',\n",
              " 'OBRA_\\nREFACCIÓN ': 'OBRA REFACCIÓN',\n",
              " 'OBRA_\\nCERCO ': 'OBRA CERCO',\n",
              " 'AREA_TOTAL_\\nCONSTRUIDA ': 'AREA TOTAL CONSTRUIDA',\n",
              " 'VALOR_\\nOBRA': 'VALOR OBRA',\n",
              " 'FECHA_\\nCORTE': 'FECHA CORTE',\n",
              " '\\nTIPO_OBRA': 'TIPO OBRA'}"
            ]
          },
          "metadata": {},
          "execution_count": 39
        }
      ]
    },
    {
      "cell_type": "code",
      "source": [
        "change.update(change4)\n",
        "change"
      ],
      "metadata": {
        "colab": {
          "base_uri": "https://localhost:8080/"
        },
        "id": "zwfsO2xF_Y5k",
        "outputId": "0c27b9fc-77cb-43b7-ae0d-87b2c8b08043"
      },
      "execution_count": 40,
      "outputs": [
        {
          "output_type": "execute_result",
          "data": {
            "text/plain": [
              "{'NOMBRE_UO': 'NOMBRE UO',\n",
              " 'GOBIERNO_LOCAL': 'GOBIERNO LOCAL',\n",
              " 'UBICACION_PREDIO': 'UBICACION PREDIO',\n",
              " 'TIPO_DE_USO': 'TIPO DE USO',\n",
              " 'TIPO_ALTURA': 'TIPO ALTURA',\n",
              " 'DETALLE_ALTURA': 'DETALLE ALTURA',\n",
              " 'CODIGO_\\nENTIDAD': 'CODIGO ENTIDAD',\n",
              " 'CODIGO_\\nUBIGEO': 'CODIGO UBIGEO',\n",
              " 'CODIGO_\\nPAIS': 'CODIGO PAIS',\n",
              " 'NUMERO_\\nEXPEDIENTE': 'NUMERO EXPEDIENTE',\n",
              " 'FECHA_\\nINICIO_\\nTRAMITE': 'FECHA INICIO TRAMITE',\n",
              " 'FECHA_\\nEMISION_TRAMITE': 'FECHA EMISION TRAMITE',\n",
              " 'NRO_RESOLUCION_\\nLICENCIA': 'NRO RESOLUCION LICENCIA',\n",
              " 'TIPO_DOC_\\nSOLICITANTE': 'TIPO DOC SOLICITANTE',\n",
              " 'NRO_DOC_\\nSOLICITANTE': 'NRO DOC SOLICITANTE',\n",
              " 'ZONIFICACION_\\nPREDIO': 'ZONIFICACION PREDIO',\n",
              " 'MODALIDAD_\\nAPROBACION': 'MODALIDAD APROBACION',\n",
              " 'OBRA_\\nNUEVA': 'OBRA NUEVA',\n",
              " 'OBRA_\\nDEMOLICIÓN ': 'OBRA DEMOLICIÓN',\n",
              " 'OBRA_\\nREMODELACIÓN ': 'OBRA REMODELACIÓN',\n",
              " 'OBRA_\\nAMPLIACIÓN ': 'OBRA AMPLIACIÓN',\n",
              " 'OBRA_\\nREFACCIÓN ': 'OBRA REFACCIÓN',\n",
              " 'OBRA_\\nCERCO ': 'OBRA CERCO',\n",
              " 'AREA_TOTAL_\\nCONSTRUIDA ': 'AREA TOTAL CONSTRUIDA',\n",
              " 'VALOR_\\nOBRA': 'VALOR OBRA',\n",
              " 'FECHA_\\nCORTE': 'FECHA CORTE',\n",
              " '\\nTIPO_OBRA': 'TIPO OBRA',\n",
              " 'RUC_GOBIERNO\\n_LOCAL': 'RUC GOBIERNO LOCAL'}"
            ]
          },
          "metadata": {},
          "execution_count": 40
        }
      ]
    },
    {
      "cell_type": "code",
      "source": [
        "change"
      ],
      "metadata": {
        "id": "-jpt-rvMCQp-",
        "outputId": "5dc82c9f-a259-4d1a-84b7-c9e19fd6bd75",
        "colab": {
          "base_uri": "https://localhost:8080/"
        }
      },
      "execution_count": 41,
      "outputs": [
        {
          "output_type": "execute_result",
          "data": {
            "text/plain": [
              "{'NOMBRE_UO': 'NOMBRE UO',\n",
              " 'GOBIERNO_LOCAL': 'GOBIERNO LOCAL',\n",
              " 'UBICACION_PREDIO': 'UBICACION PREDIO',\n",
              " 'TIPO_DE_USO': 'TIPO DE USO',\n",
              " 'TIPO_ALTURA': 'TIPO ALTURA',\n",
              " 'DETALLE_ALTURA': 'DETALLE ALTURA',\n",
              " 'CODIGO_\\nENTIDAD': 'CODIGO ENTIDAD',\n",
              " 'CODIGO_\\nUBIGEO': 'CODIGO UBIGEO',\n",
              " 'CODIGO_\\nPAIS': 'CODIGO PAIS',\n",
              " 'NUMERO_\\nEXPEDIENTE': 'NUMERO EXPEDIENTE',\n",
              " 'FECHA_\\nINICIO_\\nTRAMITE': 'FECHA INICIO TRAMITE',\n",
              " 'FECHA_\\nEMISION_TRAMITE': 'FECHA EMISION TRAMITE',\n",
              " 'NRO_RESOLUCION_\\nLICENCIA': 'NRO RESOLUCION LICENCIA',\n",
              " 'TIPO_DOC_\\nSOLICITANTE': 'TIPO DOC SOLICITANTE',\n",
              " 'NRO_DOC_\\nSOLICITANTE': 'NRO DOC SOLICITANTE',\n",
              " 'ZONIFICACION_\\nPREDIO': 'ZONIFICACION PREDIO',\n",
              " 'MODALIDAD_\\nAPROBACION': 'MODALIDAD APROBACION',\n",
              " 'OBRA_\\nNUEVA': 'OBRA NUEVA',\n",
              " 'OBRA_\\nDEMOLICIÓN ': 'OBRA DEMOLICIÓN',\n",
              " 'OBRA_\\nREMODELACIÓN ': 'OBRA REMODELACIÓN',\n",
              " 'OBRA_\\nAMPLIACIÓN ': 'OBRA AMPLIACIÓN',\n",
              " 'OBRA_\\nREFACCIÓN ': 'OBRA REFACCIÓN',\n",
              " 'OBRA_\\nCERCO ': 'OBRA CERCO',\n",
              " 'AREA_TOTAL_\\nCONSTRUIDA ': 'AREA TOTAL CONSTRUIDA',\n",
              " 'VALOR_\\nOBRA': 'VALOR OBRA',\n",
              " 'FECHA_\\nCORTE': 'FECHA CORTE',\n",
              " '\\nTIPO_OBRA': 'TIPO OBRA',\n",
              " 'RUC_GOBIERNO\\n_LOCAL': 'RUC GOBIERNO LOCAL'}"
            ]
          },
          "metadata": {},
          "execution_count": 41
        }
      ]
    },
    {
      "cell_type": "code",
      "source": [
        "df_ordenado.rename(columns=change,inplace=True)\n",
        "df_ordenado.head()"
      ],
      "metadata": {
        "colab": {
          "base_uri": "https://localhost:8080/",
          "height": 445
        },
        "id": "M-BfiIjX_buL",
        "outputId": "e4cc5abb-b2c2-4a15-8c43-e9d185798aba"
      },
      "execution_count": 42,
      "outputs": [
        {
          "output_type": "execute_result",
          "data": {
            "text/plain": [
              "     CODIGO ENTIDAD  CODIGO UBIGEO CODIGO PAIS DEPARTAMENTO PROVINCIA  \\\n",
              "0            301285         150136          PE         Lima      Lima   \n",
              "115          301285         150136          PE         Lima      Lima   \n",
              "116          301285         150136          PE         Lima      Lima   \n",
              "117          301285         150136          PE         Lima      Lima   \n",
              "118          301285         150136          PE         Lima      Lima   \n",
              "\n",
              "       DISTRITO                      NOMBRE UO GOBIERNO LOCAL  \\\n",
              "0    San Miguel  Subgerencia de Obras Privadas     San Miguel   \n",
              "115  San Miguel  Subgerencia de Obras Privadas     San Miguel   \n",
              "116  San Miguel  Subgerencia de Obras Privadas     San Miguel   \n",
              "117  San Miguel  Subgerencia de Obras Privadas     San Miguel   \n",
              "118  San Miguel  Subgerencia de Obras Privadas     San Miguel   \n",
              "\n",
              "     RUC GOBIERNO LOCAL NUMERO EXPEDIENTE  ...                      TIPO OBRA  \\\n",
              "0           20131372184        15636-2022  ...        AMPLIACIÓN/REMODELACIÓN   \n",
              "115         20131372184         7494-2022  ...   LICENCIA DE DEMOLICION TOTAL   \n",
              "116         20131372184         3732-2022  ...  LICENCIA DE EDIFICACION NUEVA   \n",
              "117         20131372184         3947-2022  ...  LICENCIA DE EDIFICACION NUEVA   \n",
              "118         20131372184         3372-2022  ...                            NaN   \n",
              "\n",
              "    OBRA NUEVA OBRA DEMOLICIÓN OBRA REMODELACIÓN OBRA AMPLIACIÓN  \\\n",
              "0            -               -            97,83          208,46    \n",
              "115          -             200                 -               -   \n",
              "116    1688.79               -                 -               -   \n",
              "117    1950.08               -                 -               -   \n",
              "118        NaN             NaN               NaN             NaN   \n",
              "\n",
              "    OBRA REFACCIÓN OBRA CERCO AREA TOTAL CONSTRUIDA  VALOR OBRA FECHA CORTE  \n",
              "0                -          -               208,46   225,652,12    20221231  \n",
              "115              -          -                     -     45455.7    20221231  \n",
              "116              -          -               1688.79  1561032.09    20221231  \n",
              "117              -          -               1950.08  1885715.08    20221231  \n",
              "118            NaN        NaN                   NaN         NaN    20221231  \n",
              "\n",
              "[5 rows x 31 columns]"
            ],
            "text/html": [
              "\n",
              "  <div id=\"df-bb4da6d1-8cbe-410a-ada4-b3f2778f113e\" class=\"colab-df-container\">\n",
              "    <div>\n",
              "<style scoped>\n",
              "    .dataframe tbody tr th:only-of-type {\n",
              "        vertical-align: middle;\n",
              "    }\n",
              "\n",
              "    .dataframe tbody tr th {\n",
              "        vertical-align: top;\n",
              "    }\n",
              "\n",
              "    .dataframe thead th {\n",
              "        text-align: right;\n",
              "    }\n",
              "</style>\n",
              "<table border=\"1\" class=\"dataframe\">\n",
              "  <thead>\n",
              "    <tr style=\"text-align: right;\">\n",
              "      <th></th>\n",
              "      <th>CODIGO ENTIDAD</th>\n",
              "      <th>CODIGO UBIGEO</th>\n",
              "      <th>CODIGO PAIS</th>\n",
              "      <th>DEPARTAMENTO</th>\n",
              "      <th>PROVINCIA</th>\n",
              "      <th>DISTRITO</th>\n",
              "      <th>NOMBRE UO</th>\n",
              "      <th>GOBIERNO LOCAL</th>\n",
              "      <th>RUC GOBIERNO LOCAL</th>\n",
              "      <th>NUMERO EXPEDIENTE</th>\n",
              "      <th>...</th>\n",
              "      <th>TIPO OBRA</th>\n",
              "      <th>OBRA NUEVA</th>\n",
              "      <th>OBRA DEMOLICIÓN</th>\n",
              "      <th>OBRA REMODELACIÓN</th>\n",
              "      <th>OBRA AMPLIACIÓN</th>\n",
              "      <th>OBRA REFACCIÓN</th>\n",
              "      <th>OBRA CERCO</th>\n",
              "      <th>AREA TOTAL CONSTRUIDA</th>\n",
              "      <th>VALOR OBRA</th>\n",
              "      <th>FECHA CORTE</th>\n",
              "    </tr>\n",
              "  </thead>\n",
              "  <tbody>\n",
              "    <tr>\n",
              "      <th>0</th>\n",
              "      <td>301285</td>\n",
              "      <td>150136</td>\n",
              "      <td>PE</td>\n",
              "      <td>Lima</td>\n",
              "      <td>Lima</td>\n",
              "      <td>San Miguel</td>\n",
              "      <td>Subgerencia de Obras Privadas</td>\n",
              "      <td>San Miguel</td>\n",
              "      <td>20131372184</td>\n",
              "      <td>15636-2022</td>\n",
              "      <td>...</td>\n",
              "      <td>AMPLIACIÓN/REMODELACIÓN</td>\n",
              "      <td>-</td>\n",
              "      <td>-</td>\n",
              "      <td>97,83</td>\n",
              "      <td>208,46</td>\n",
              "      <td>-</td>\n",
              "      <td>-</td>\n",
              "      <td>208,46</td>\n",
              "      <td>225,652,12</td>\n",
              "      <td>20221231</td>\n",
              "    </tr>\n",
              "    <tr>\n",
              "      <th>115</th>\n",
              "      <td>301285</td>\n",
              "      <td>150136</td>\n",
              "      <td>PE</td>\n",
              "      <td>Lima</td>\n",
              "      <td>Lima</td>\n",
              "      <td>San Miguel</td>\n",
              "      <td>Subgerencia de Obras Privadas</td>\n",
              "      <td>San Miguel</td>\n",
              "      <td>20131372184</td>\n",
              "      <td>7494-2022</td>\n",
              "      <td>...</td>\n",
              "      <td>LICENCIA DE DEMOLICION TOTAL</td>\n",
              "      <td>-</td>\n",
              "      <td>200</td>\n",
              "      <td>-</td>\n",
              "      <td>-</td>\n",
              "      <td>-</td>\n",
              "      <td>-</td>\n",
              "      <td>-</td>\n",
              "      <td>45455.7</td>\n",
              "      <td>20221231</td>\n",
              "    </tr>\n",
              "    <tr>\n",
              "      <th>116</th>\n",
              "      <td>301285</td>\n",
              "      <td>150136</td>\n",
              "      <td>PE</td>\n",
              "      <td>Lima</td>\n",
              "      <td>Lima</td>\n",
              "      <td>San Miguel</td>\n",
              "      <td>Subgerencia de Obras Privadas</td>\n",
              "      <td>San Miguel</td>\n",
              "      <td>20131372184</td>\n",
              "      <td>3732-2022</td>\n",
              "      <td>...</td>\n",
              "      <td>LICENCIA DE EDIFICACION NUEVA</td>\n",
              "      <td>1688.79</td>\n",
              "      <td>-</td>\n",
              "      <td>-</td>\n",
              "      <td>-</td>\n",
              "      <td>-</td>\n",
              "      <td>-</td>\n",
              "      <td>1688.79</td>\n",
              "      <td>1561032.09</td>\n",
              "      <td>20221231</td>\n",
              "    </tr>\n",
              "    <tr>\n",
              "      <th>117</th>\n",
              "      <td>301285</td>\n",
              "      <td>150136</td>\n",
              "      <td>PE</td>\n",
              "      <td>Lima</td>\n",
              "      <td>Lima</td>\n",
              "      <td>San Miguel</td>\n",
              "      <td>Subgerencia de Obras Privadas</td>\n",
              "      <td>San Miguel</td>\n",
              "      <td>20131372184</td>\n",
              "      <td>3947-2022</td>\n",
              "      <td>...</td>\n",
              "      <td>LICENCIA DE EDIFICACION NUEVA</td>\n",
              "      <td>1950.08</td>\n",
              "      <td>-</td>\n",
              "      <td>-</td>\n",
              "      <td>-</td>\n",
              "      <td>-</td>\n",
              "      <td>-</td>\n",
              "      <td>1950.08</td>\n",
              "      <td>1885715.08</td>\n",
              "      <td>20221231</td>\n",
              "    </tr>\n",
              "    <tr>\n",
              "      <th>118</th>\n",
              "      <td>301285</td>\n",
              "      <td>150136</td>\n",
              "      <td>PE</td>\n",
              "      <td>Lima</td>\n",
              "      <td>Lima</td>\n",
              "      <td>San Miguel</td>\n",
              "      <td>Subgerencia de Obras Privadas</td>\n",
              "      <td>San Miguel</td>\n",
              "      <td>20131372184</td>\n",
              "      <td>3372-2022</td>\n",
              "      <td>...</td>\n",
              "      <td>NaN</td>\n",
              "      <td>NaN</td>\n",
              "      <td>NaN</td>\n",
              "      <td>NaN</td>\n",
              "      <td>NaN</td>\n",
              "      <td>NaN</td>\n",
              "      <td>NaN</td>\n",
              "      <td>NaN</td>\n",
              "      <td>NaN</td>\n",
              "      <td>20221231</td>\n",
              "    </tr>\n",
              "  </tbody>\n",
              "</table>\n",
              "<p>5 rows × 31 columns</p>\n",
              "</div>\n",
              "    <div class=\"colab-df-buttons\">\n",
              "\n",
              "  <div class=\"colab-df-container\">\n",
              "    <button class=\"colab-df-convert\" onclick=\"convertToInteractive('df-bb4da6d1-8cbe-410a-ada4-b3f2778f113e')\"\n",
              "            title=\"Convert this dataframe to an interactive table.\"\n",
              "            style=\"display:none;\">\n",
              "\n",
              "  <svg xmlns=\"http://www.w3.org/2000/svg\" height=\"24px\" viewBox=\"0 -960 960 960\">\n",
              "    <path d=\"M120-120v-720h720v720H120Zm60-500h600v-160H180v160Zm220 220h160v-160H400v160Zm0 220h160v-160H400v160ZM180-400h160v-160H180v160Zm440 0h160v-160H620v160ZM180-180h160v-160H180v160Zm440 0h160v-160H620v160Z\"/>\n",
              "  </svg>\n",
              "    </button>\n",
              "\n",
              "  <style>\n",
              "    .colab-df-container {\n",
              "      display:flex;\n",
              "      gap: 12px;\n",
              "    }\n",
              "\n",
              "    .colab-df-convert {\n",
              "      background-color: #E8F0FE;\n",
              "      border: none;\n",
              "      border-radius: 50%;\n",
              "      cursor: pointer;\n",
              "      display: none;\n",
              "      fill: #1967D2;\n",
              "      height: 32px;\n",
              "      padding: 0 0 0 0;\n",
              "      width: 32px;\n",
              "    }\n",
              "\n",
              "    .colab-df-convert:hover {\n",
              "      background-color: #E2EBFA;\n",
              "      box-shadow: 0px 1px 2px rgba(60, 64, 67, 0.3), 0px 1px 3px 1px rgba(60, 64, 67, 0.15);\n",
              "      fill: #174EA6;\n",
              "    }\n",
              "\n",
              "    .colab-df-buttons div {\n",
              "      margin-bottom: 4px;\n",
              "    }\n",
              "\n",
              "    [theme=dark] .colab-df-convert {\n",
              "      background-color: #3B4455;\n",
              "      fill: #D2E3FC;\n",
              "    }\n",
              "\n",
              "    [theme=dark] .colab-df-convert:hover {\n",
              "      background-color: #434B5C;\n",
              "      box-shadow: 0px 1px 3px 1px rgba(0, 0, 0, 0.15);\n",
              "      filter: drop-shadow(0px 1px 2px rgba(0, 0, 0, 0.3));\n",
              "      fill: #FFFFFF;\n",
              "    }\n",
              "  </style>\n",
              "\n",
              "    <script>\n",
              "      const buttonEl =\n",
              "        document.querySelector('#df-bb4da6d1-8cbe-410a-ada4-b3f2778f113e button.colab-df-convert');\n",
              "      buttonEl.style.display =\n",
              "        google.colab.kernel.accessAllowed ? 'block' : 'none';\n",
              "\n",
              "      async function convertToInteractive(key) {\n",
              "        const element = document.querySelector('#df-bb4da6d1-8cbe-410a-ada4-b3f2778f113e');\n",
              "        const dataTable =\n",
              "          await google.colab.kernel.invokeFunction('convertToInteractive',\n",
              "                                                    [key], {});\n",
              "        if (!dataTable) return;\n",
              "\n",
              "        const docLinkHtml = 'Like what you see? Visit the ' +\n",
              "          '<a target=\"_blank\" href=https://colab.research.google.com/notebooks/data_table.ipynb>data table notebook</a>'\n",
              "          + ' to learn more about interactive tables.';\n",
              "        element.innerHTML = '';\n",
              "        dataTable['output_type'] = 'display_data';\n",
              "        await google.colab.output.renderOutput(dataTable, element);\n",
              "        const docLink = document.createElement('div');\n",
              "        docLink.innerHTML = docLinkHtml;\n",
              "        element.appendChild(docLink);\n",
              "      }\n",
              "    </script>\n",
              "  </div>\n",
              "\n",
              "\n",
              "<div id=\"df-cac0ef7a-b2f7-447b-85ad-077a06d9f59d\">\n",
              "  <button class=\"colab-df-quickchart\" onclick=\"quickchart('df-cac0ef7a-b2f7-447b-85ad-077a06d9f59d')\"\n",
              "            title=\"Suggest charts\"\n",
              "            style=\"display:none;\">\n",
              "\n",
              "<svg xmlns=\"http://www.w3.org/2000/svg\" height=\"24px\"viewBox=\"0 0 24 24\"\n",
              "     width=\"24px\">\n",
              "    <g>\n",
              "        <path d=\"M19 3H5c-1.1 0-2 .9-2 2v14c0 1.1.9 2 2 2h14c1.1 0 2-.9 2-2V5c0-1.1-.9-2-2-2zM9 17H7v-7h2v7zm4 0h-2V7h2v10zm4 0h-2v-4h2v4z\"/>\n",
              "    </g>\n",
              "</svg>\n",
              "  </button>\n",
              "\n",
              "<style>\n",
              "  .colab-df-quickchart {\n",
              "      --bg-color: #E8F0FE;\n",
              "      --fill-color: #1967D2;\n",
              "      --hover-bg-color: #E2EBFA;\n",
              "      --hover-fill-color: #174EA6;\n",
              "      --disabled-fill-color: #AAA;\n",
              "      --disabled-bg-color: #DDD;\n",
              "  }\n",
              "\n",
              "  [theme=dark] .colab-df-quickchart {\n",
              "      --bg-color: #3B4455;\n",
              "      --fill-color: #D2E3FC;\n",
              "      --hover-bg-color: #434B5C;\n",
              "      --hover-fill-color: #FFFFFF;\n",
              "      --disabled-bg-color: #3B4455;\n",
              "      --disabled-fill-color: #666;\n",
              "  }\n",
              "\n",
              "  .colab-df-quickchart {\n",
              "    background-color: var(--bg-color);\n",
              "    border: none;\n",
              "    border-radius: 50%;\n",
              "    cursor: pointer;\n",
              "    display: none;\n",
              "    fill: var(--fill-color);\n",
              "    height: 32px;\n",
              "    padding: 0;\n",
              "    width: 32px;\n",
              "  }\n",
              "\n",
              "  .colab-df-quickchart:hover {\n",
              "    background-color: var(--hover-bg-color);\n",
              "    box-shadow: 0 1px 2px rgba(60, 64, 67, 0.3), 0 1px 3px 1px rgba(60, 64, 67, 0.15);\n",
              "    fill: var(--button-hover-fill-color);\n",
              "  }\n",
              "\n",
              "  .colab-df-quickchart-complete:disabled,\n",
              "  .colab-df-quickchart-complete:disabled:hover {\n",
              "    background-color: var(--disabled-bg-color);\n",
              "    fill: var(--disabled-fill-color);\n",
              "    box-shadow: none;\n",
              "  }\n",
              "\n",
              "  .colab-df-spinner {\n",
              "    border: 2px solid var(--fill-color);\n",
              "    border-color: transparent;\n",
              "    border-bottom-color: var(--fill-color);\n",
              "    animation:\n",
              "      spin 1s steps(1) infinite;\n",
              "  }\n",
              "\n",
              "  @keyframes spin {\n",
              "    0% {\n",
              "      border-color: transparent;\n",
              "      border-bottom-color: var(--fill-color);\n",
              "      border-left-color: var(--fill-color);\n",
              "    }\n",
              "    20% {\n",
              "      border-color: transparent;\n",
              "      border-left-color: var(--fill-color);\n",
              "      border-top-color: var(--fill-color);\n",
              "    }\n",
              "    30% {\n",
              "      border-color: transparent;\n",
              "      border-left-color: var(--fill-color);\n",
              "      border-top-color: var(--fill-color);\n",
              "      border-right-color: var(--fill-color);\n",
              "    }\n",
              "    40% {\n",
              "      border-color: transparent;\n",
              "      border-right-color: var(--fill-color);\n",
              "      border-top-color: var(--fill-color);\n",
              "    }\n",
              "    60% {\n",
              "      border-color: transparent;\n",
              "      border-right-color: var(--fill-color);\n",
              "    }\n",
              "    80% {\n",
              "      border-color: transparent;\n",
              "      border-right-color: var(--fill-color);\n",
              "      border-bottom-color: var(--fill-color);\n",
              "    }\n",
              "    90% {\n",
              "      border-color: transparent;\n",
              "      border-bottom-color: var(--fill-color);\n",
              "    }\n",
              "  }\n",
              "</style>\n",
              "\n",
              "  <script>\n",
              "    async function quickchart(key) {\n",
              "      const quickchartButtonEl =\n",
              "        document.querySelector('#' + key + ' button');\n",
              "      quickchartButtonEl.disabled = true;  // To prevent multiple clicks.\n",
              "      quickchartButtonEl.classList.add('colab-df-spinner');\n",
              "      try {\n",
              "        const charts = await google.colab.kernel.invokeFunction(\n",
              "            'suggestCharts', [key], {});\n",
              "      } catch (error) {\n",
              "        console.error('Error during call to suggestCharts:', error);\n",
              "      }\n",
              "      quickchartButtonEl.classList.remove('colab-df-spinner');\n",
              "      quickchartButtonEl.classList.add('colab-df-quickchart-complete');\n",
              "    }\n",
              "    (() => {\n",
              "      let quickchartButtonEl =\n",
              "        document.querySelector('#df-cac0ef7a-b2f7-447b-85ad-077a06d9f59d button');\n",
              "      quickchartButtonEl.style.display =\n",
              "        google.colab.kernel.accessAllowed ? 'block' : 'none';\n",
              "    })();\n",
              "  </script>\n",
              "</div>\n",
              "    </div>\n",
              "  </div>\n"
            ]
          },
          "metadata": {},
          "execution_count": 42
        },
        {
          "output_type": "stream",
          "name": "stdout",
          "text": [
            "Warning: Total number of columns (31) exceeds max_columns (20) limiting to first (20) columns.\n"
          ]
        }
      ]
    },
    {
      "cell_type": "markdown",
      "metadata": {
        "id": "VLo8jNCEBeYz"
      },
      "source": [
        "## 2. Clean the data values.\n",
        "\n",
        "Since there are categories, we could try some frequency tables:"
      ]
    },
    {
      "cell_type": "code",
      "source": [
        "df_ordenado.columns"
      ],
      "metadata": {
        "colab": {
          "base_uri": "https://localhost:8080/"
        },
        "id": "7hMIciYoqHdB",
        "outputId": "dd2c3bb9-8c20-4f7f-97e0-421cd499a8ba"
      },
      "execution_count": 50,
      "outputs": [
        {
          "output_type": "execute_result",
          "data": {
            "text/plain": [
              "Index(['CODIGO ENTIDAD', 'CODIGO UBIGEO', 'CODIGO PAIS', 'DEPARTAMENTO',\n",
              "       'PROVINCIA', 'DISTRITO', 'NOMBRE UO', 'GOBIERNO LOCAL',\n",
              "       'RUC GOBIERNO LOCAL', 'NUMERO EXPEDIENTE', 'FECHA INICIO TRAMITE',\n",
              "       'FECHA EMISION TRAMITE', 'NRO RESOLUCION LICENCIA',\n",
              "       'TIPO DOC SOLICITANTE', 'NRO DOC SOLICITANTE', 'UBICACION PREDIO',\n",
              "       'ZONIFICACION PREDIO', 'TIPO DE USO', 'TIPO ALTURA', 'DETALLE ALTURA',\n",
              "       'MODALIDAD APROBACION', 'TIPO OBRA', 'OBRA NUEVA', 'OBRA DEMOLICIÓN',\n",
              "       'OBRA REMODELACIÓN', 'OBRA AMPLIACIÓN', 'OBRA REFACCIÓN', 'OBRA CERCO',\n",
              "       'AREA TOTAL CONSTRUIDA', 'VALOR OBRA', 'FECHA CORTE'],\n",
              "      dtype='object')"
            ]
          },
          "metadata": {},
          "execution_count": 50
        }
      ]
    },
    {
      "cell_type": "markdown",
      "source": [
        "Código Entidad"
      ],
      "metadata": {
        "id": "6P2moufE0RBX"
      }
    },
    {
      "cell_type": "code",
      "source": [
        "df_ordenado['CODIGO ENTIDAD'].value_counts(dropna=False).sort_index()"
      ],
      "metadata": {
        "colab": {
          "base_uri": "https://localhost:8080/"
        },
        "id": "NBpZMomi0VGT",
        "outputId": "6b3ffdfe-60de-436c-fb24-f4c22df47e83"
      },
      "execution_count": 76,
      "outputs": [
        {
          "output_type": "execute_result",
          "data": {
            "text/plain": [
              "301285    180\n",
              "Name: CODIGO ENTIDAD, dtype: int64"
            ]
          },
          "metadata": {},
          "execution_count": 76
        }
      ]
    },
    {
      "cell_type": "markdown",
      "source": [
        "Código Ubigeo"
      ],
      "metadata": {
        "id": "-k3rDVMN0ZZ9"
      }
    },
    {
      "cell_type": "code",
      "source": [
        "df_ordenado['CODIGO UBIGEO'].value_counts(dropna=False).sort_index()"
      ],
      "metadata": {
        "colab": {
          "base_uri": "https://localhost:8080/"
        },
        "id": "IeeSqoHh0YV-",
        "outputId": "e87e35bc-b1d1-4797-cb02-3e7d7e1e0f0a"
      },
      "execution_count": 77,
      "outputs": [
        {
          "output_type": "execute_result",
          "data": {
            "text/plain": [
              "150136    180\n",
              "Name: CODIGO UBIGEO, dtype: int64"
            ]
          },
          "metadata": {},
          "execution_count": 77
        }
      ]
    },
    {
      "cell_type": "markdown",
      "source": [
        "Código País"
      ],
      "metadata": {
        "id": "Ok1cFNat0c1-"
      }
    },
    {
      "cell_type": "code",
      "source": [
        "df_ordenado['CODIGO PAIS'].value_counts(dropna=False).sort_index()"
      ],
      "metadata": {
        "colab": {
          "base_uri": "https://localhost:8080/"
        },
        "id": "Jho3brW70ggV",
        "outputId": "29aa8d08-44e9-4bd9-9dba-791cd45df56b"
      },
      "execution_count": 78,
      "outputs": [
        {
          "output_type": "execute_result",
          "data": {
            "text/plain": [
              "PE    180\n",
              "Name: CODIGO PAIS, dtype: int64"
            ]
          },
          "metadata": {},
          "execution_count": 78
        }
      ]
    },
    {
      "cell_type": "markdown",
      "source": [
        "Departamento"
      ],
      "metadata": {
        "id": "WKzcN-WG0ie2"
      }
    },
    {
      "cell_type": "code",
      "source": [
        "df_ordenado['DEPARTAMENTO'].value_counts(dropna=False).sort_index()"
      ],
      "metadata": {
        "colab": {
          "base_uri": "https://localhost:8080/"
        },
        "id": "1t8YjXHe0ku1",
        "outputId": "f432d2f1-78c5-48d4-bac4-f9129ccdf395"
      },
      "execution_count": 79,
      "outputs": [
        {
          "output_type": "execute_result",
          "data": {
            "text/plain": [
              "Lima    180\n",
              "Name: DEPARTAMENTO, dtype: int64"
            ]
          },
          "metadata": {},
          "execution_count": 79
        }
      ]
    },
    {
      "cell_type": "markdown",
      "source": [
        "Provincia"
      ],
      "metadata": {
        "id": "412fr7350uwO"
      }
    },
    {
      "cell_type": "code",
      "source": [
        "df_ordenado['PROVINCIA'].value_counts(dropna=False).sort_index()"
      ],
      "metadata": {
        "colab": {
          "base_uri": "https://localhost:8080/"
        },
        "id": "O93T3gvA0xDF",
        "outputId": "bb6ac31b-4681-4049-cc85-e2f467dbc9de"
      },
      "execution_count": 80,
      "outputs": [
        {
          "output_type": "execute_result",
          "data": {
            "text/plain": [
              "Lima    180\n",
              "Name: PROVINCIA, dtype: int64"
            ]
          },
          "metadata": {},
          "execution_count": 80
        }
      ]
    },
    {
      "cell_type": "markdown",
      "source": [
        "Distrito"
      ],
      "metadata": {
        "id": "BZZFL_Df0z-M"
      }
    },
    {
      "cell_type": "code",
      "source": [
        "df_ordenado['DISTRITO'].value_counts(dropna=False).sort_index()"
      ],
      "metadata": {
        "colab": {
          "base_uri": "https://localhost:8080/"
        },
        "id": "Zkt_QFZN0zNW",
        "outputId": "3128842f-7de8-41e1-e8d9-21597171e66f"
      },
      "execution_count": 81,
      "outputs": [
        {
          "output_type": "execute_result",
          "data": {
            "text/plain": [
              "San Miguel    180\n",
              "Name: DISTRITO, dtype: int64"
            ]
          },
          "metadata": {},
          "execution_count": 81
        }
      ]
    },
    {
      "cell_type": "markdown",
      "source": [
        "Nombre Unidad Orgánica"
      ],
      "metadata": {
        "id": "i_SleTPk04c2"
      }
    },
    {
      "cell_type": "code",
      "source": [
        "df_ordenado['NOMBRE UO'].value_counts(dropna=False).sort_index()"
      ],
      "metadata": {
        "colab": {
          "base_uri": "https://localhost:8080/"
        },
        "id": "2dlhorSW1Yed",
        "outputId": "41d688d8-e5f3-4b69-e0b2-7f730118c926"
      },
      "execution_count": 82,
      "outputs": [
        {
          "output_type": "execute_result",
          "data": {
            "text/plain": [
              "Subgerencia de Obras Privadas    180\n",
              "Name: NOMBRE UO, dtype: int64"
            ]
          },
          "metadata": {},
          "execution_count": 82
        }
      ]
    },
    {
      "cell_type": "markdown",
      "source": [
        "Gobierno Local"
      ],
      "metadata": {
        "id": "_Mj9fJzZ1bOu"
      }
    },
    {
      "cell_type": "code",
      "source": [
        "df_ordenado['GOBIERNO LOCAL'].value_counts(dropna=False).sort_index()"
      ],
      "metadata": {
        "colab": {
          "base_uri": "https://localhost:8080/"
        },
        "id": "6aDfeHmy1dam",
        "outputId": "1da22e17-64cf-4e0c-907e-99abe74f2ef4"
      },
      "execution_count": 83,
      "outputs": [
        {
          "output_type": "execute_result",
          "data": {
            "text/plain": [
              "San Miguel    180\n",
              "Name: GOBIERNO LOCAL, dtype: int64"
            ]
          },
          "metadata": {},
          "execution_count": 83
        }
      ]
    },
    {
      "cell_type": "markdown",
      "source": [
        "RUC Gobierno Local"
      ],
      "metadata": {
        "id": "44mFC4yM1fMt"
      }
    },
    {
      "cell_type": "code",
      "source": [
        "df_ordenado['RUC GOBIERNO LOCAL'].value_counts(dropna=False).sort_index()"
      ],
      "metadata": {
        "colab": {
          "base_uri": "https://localhost:8080/"
        },
        "id": "8lj79Hk11hj2",
        "outputId": "0d82583e-1479-4d37-97e5-1b302cf5fd93"
      },
      "execution_count": 84,
      "outputs": [
        {
          "output_type": "execute_result",
          "data": {
            "text/plain": [
              "20131372184    180\n",
              "Name: RUC GOBIERNO LOCAL, dtype: int64"
            ]
          },
          "metadata": {},
          "execution_count": 84
        }
      ]
    },
    {
      "cell_type": "markdown",
      "source": [
        "Número Expediente"
      ],
      "metadata": {
        "id": "5wNKWRK71q4P"
      }
    },
    {
      "cell_type": "code",
      "source": [
        "df_ordenado['NUMERO EXPEDIENTE'].value_counts(dropna=False).sort_index()"
      ],
      "metadata": {
        "colab": {
          "base_uri": "https://localhost:8080/"
        },
        "id": "t44w71ps1tMV",
        "outputId": "bb06f46a-b7d1-4b08-fa40-1c89a190426b"
      },
      "execution_count": 85,
      "outputs": [
        {
          "output_type": "execute_result",
          "data": {
            "text/plain": [
              "00279-2022    1\n",
              "059-2021      1\n",
              "0637-2022     1\n",
              "10019-2022    1\n",
              "10101-2022    1\n",
              "             ..\n",
              "9419-2022     1\n",
              "9457-2022     1\n",
              "9485-2022     1\n",
              "9767-2021     1\n",
              "9935-2022     1\n",
              "Name: NUMERO EXPEDIENTE, Length: 179, dtype: int64"
            ]
          },
          "metadata": {},
          "execution_count": 85
        }
      ]
    },
    {
      "cell_type": "markdown",
      "source": [
        "Número de la resolución de licencia"
      ],
      "metadata": {
        "id": "rW7MNx8J2ZYw"
      }
    },
    {
      "cell_type": "code",
      "source": [
        "df_ordenado['NRO RESOLUCION LICENCIA'] = df_ordenado['NRO RESOLUCION LICENCIA'].astype(str)"
      ],
      "metadata": {
        "id": "_kkpRMqv3YiO"
      },
      "execution_count": 90,
      "outputs": []
    },
    {
      "cell_type": "code",
      "source": [
        "df_ordenado['NRO RESOLUCION LICENCIA'].value_counts(dropna=False).sort_index()"
      ],
      "metadata": {
        "colab": {
          "base_uri": "https://localhost:8080/"
        },
        "id": "uXJoJCb42bHO",
        "outputId": "684e9ce9-afd7-4fc5-954f-99965bb11513"
      },
      "execution_count": 91,
      "outputs": [
        {
          "output_type": "execute_result",
          "data": {
            "text/plain": [
              "0053-2022    1\n",
              "0069-2022    1\n",
              "0072-2022    1\n",
              "009-2022     1\n",
              "040-2022     1\n",
              "            ..\n",
              "97-2022      1\n",
              "991-2022     1\n",
              "994-2022     1\n",
              "995-2022     1\n",
              "nan          9\n",
              "Name: NRO RESOLUCION LICENCIA, Length: 171, dtype: int64"
            ]
          },
          "metadata": {},
          "execution_count": 91
        }
      ]
    },
    {
      "cell_type": "markdown",
      "source": [
        "Tipo Documento Solicitante"
      ],
      "metadata": {
        "id": "GR7RNxCQsuGy"
      }
    },
    {
      "cell_type": "code",
      "execution_count": 52,
      "metadata": {
        "id": "CKM45IjQBeYz",
        "colab": {
          "base_uri": "https://localhost:8080/"
        },
        "outputId": "bf61a289-87ed-4e39-cebb-3ed6cb184d1e"
      },
      "outputs": [
        {
          "output_type": "execute_result",
          "data": {
            "text/plain": [
              "DNI     59\n",
              "DNI      4\n",
              "RDA      1\n",
              "RUC     71\n",
              "RUC     16\n",
              "NaN     29\n",
              "Name: TIPO DOC SOLICITANTE, dtype: int64"
            ]
          },
          "metadata": {},
          "execution_count": 52
        }
      ],
      "source": [
        "df_ordenado['TIPO DOC SOLICITANTE'].value_counts(dropna=False).sort_index()"
      ]
    },
    {
      "cell_type": "code",
      "source": [
        "df_ordenado['TIPO DOC SOLICITANTE'] = df_ordenado['TIPO DOC SOLICITANTE'].str.strip()"
      ],
      "metadata": {
        "id": "iHxazMkQry3I"
      },
      "execution_count": 56,
      "outputs": []
    },
    {
      "cell_type": "code",
      "source": [
        "df_ordenado['TIPO DOC SOLICITANTE'].value_counts(dropna=False).sort_index()"
      ],
      "metadata": {
        "colab": {
          "base_uri": "https://localhost:8080/"
        },
        "id": "tY4NPh-vrBsA",
        "outputId": "ac530eff-cdc2-4e93-93d4-e27b9bdd68dd"
      },
      "execution_count": 58,
      "outputs": [
        {
          "output_type": "execute_result",
          "data": {
            "text/plain": [
              "DNI    63\n",
              "RDA     1\n",
              "RUC    87\n",
              "nan    29\n",
              "Name: TIPO DOC SOLICITANTE, dtype: int64"
            ]
          },
          "metadata": {},
          "execution_count": 58
        }
      ]
    },
    {
      "cell_type": "markdown",
      "source": [
        "Número Documento Solicitante"
      ],
      "metadata": {
        "id": "oiCMgtZV39A0"
      }
    },
    {
      "cell_type": "code",
      "source": [
        "df_ordenado['NRO DOC SOLICITANTE'] = pd.to_numeric(df_ordenado['NRO DOC SOLICITANTE'], errors='coerce')\n",
        "df_ordenado= df_ordenado.dropna(subset=['NRO DOC SOLICITANTE'])\n",
        "df_ordenado['NRO DOC SOLICITANTE'].astype(int)\n"
      ],
      "metadata": {
        "colab": {
          "base_uri": "https://localhost:8080/"
        },
        "id": "eOuttMod4GT_",
        "outputId": "37132b98-517b-48a3-82fe-5625f48559a1"
      },
      "execution_count": 96,
      "outputs": [
        {
          "output_type": "execute_result",
          "data": {
            "text/plain": [
              "0      20514554014\n",
              "115    20608254421\n",
              "116     2054867913\n",
              "117    20555184086\n",
              "119    20605597204\n",
              "          ...     \n",
              "61         6862888\n",
              "63     20604661880\n",
              "64     20604661880\n",
              "66     20600986164\n",
              "179    20605359737\n",
              "Name: NRO DOC SOLICITANTE, Length: 117, dtype: int64"
            ]
          },
          "metadata": {},
          "execution_count": 96
        }
      ]
    },
    {
      "cell_type": "code",
      "source": [
        "df_ordenado['NRO DOC SOLICITANTE'].value_counts(dropna=False).sort_index()"
      ],
      "metadata": {
        "colab": {
          "base_uri": "https://localhost:8080/"
        },
        "id": "dAjOCY-u36Pg",
        "outputId": "00bc114b-5fbf-44d1-8a38-d0a7a7e01211"
      },
      "execution_count": 97,
      "outputs": [
        {
          "output_type": "execute_result",
          "data": {
            "text/plain": [
              "8.777210e+05    1\n",
              "6.055174e+06    1\n",
              "6.134161e+06    1\n",
              "6.720981e+06    1\n",
              "6.862888e+06    1\n",
              "               ..\n",
              "2.060887e+10    1\n",
              "2.060889e+10    2\n",
              "2.060893e+10    1\n",
              "2.060906e+10    1\n",
              "2.050000e+11    1\n",
              "Name: NRO DOC SOLICITANTE, Length: 89, dtype: int64"
            ]
          },
          "metadata": {},
          "execution_count": 97
        }
      ]
    },
    {
      "cell_type": "markdown",
      "source": [
        "Ubicación Predio"
      ],
      "metadata": {
        "id": "Hvtr9joGs4Zx"
      }
    },
    {
      "cell_type": "code",
      "execution_count": 59,
      "metadata": {
        "id": "4YQ2OOQvBeYz",
        "colab": {
          "base_uri": "https://localhost:8080/"
        },
        "outputId": "b8f823f1-b41e-40ae-aa14-dc3f2bac73a7"
      },
      "outputs": [
        {
          "output_type": "execute_result",
          "data": {
            "text/plain": [
              "                                        1\n",
              " CAMINOS DEL INCA  271                  1\n",
              " FRANCISCA ZUBIAGA  279                 1\n",
              " MICAELA BASTIDAS 388                   1\n",
              " PASCUAL ANDAGOYA 393                   1\n",
              "                                       ..\n",
              "PASAJE  VIRGEN DE FATIMA  233 -- -      1\n",
              "PASAJE BAHIA SAN JUAN 170 -L2 7         1\n",
              "PASAJE LAS ROSAS 179 -- -               1\n",
              "PASAJE PASAJE COMÚN  261-289 A- C-15    1\n",
              "PASAJE UNO - -A 14                      1\n",
              "Name: UBICACION PREDIO, Length: 176, dtype: int64"
            ]
          },
          "metadata": {},
          "execution_count": 59
        }
      ],
      "source": [
        "df_ordenado['UBICACION PREDIO'].value_counts(dropna=False).sort_index()"
      ]
    },
    {
      "cell_type": "code",
      "source": [
        "df_ordenado['UBICACION PREDIO'] = df_ordenado['UBICACION PREDIO'].str.strip()"
      ],
      "metadata": {
        "id": "Shvpekrltbr2"
      },
      "execution_count": 60,
      "outputs": []
    },
    {
      "cell_type": "code",
      "source": [
        "df_ordenado['UBICACION PREDIO'].value_counts(dropna=False).sort_index()"
      ],
      "metadata": {
        "colab": {
          "base_uri": "https://localhost:8080/"
        },
        "id": "AJNdT1tdtfyH",
        "outputId": "2f564448-ccaf-4888-c9d0-f9676cdbf1f8"
      },
      "execution_count": 61,
      "outputs": [
        {
          "output_type": "execute_result",
          "data": {
            "text/plain": [
              "                                        1\n",
              "AV COSTANERA  2982 - -                  1\n",
              "AV COSTANERA 2560 -- -                  1\n",
              "AV LA MARINA  2115 -- -                 1\n",
              "AV LA MARINA  2201-2235 -P-1-2 40429    1\n",
              "                                       ..\n",
              "PASAJE BAHIA SAN JUAN 170 -L2 7         1\n",
              "PASAJE LAS ROSAS 179 -- -               1\n",
              "PASAJE PASAJE COMÚN  261-289 A- C-15    1\n",
              "PASAJE UNO - -A 14                      1\n",
              "PASCUAL ANDAGOYA 393                    1\n",
              "Name: UBICACION PREDIO, Length: 176, dtype: int64"
            ]
          },
          "metadata": {},
          "execution_count": 61
        }
      ]
    },
    {
      "cell_type": "markdown",
      "source": [
        "Zonificación Predio"
      ],
      "metadata": {
        "id": "gWVFblDEtqZi"
      }
    },
    {
      "cell_type": "code",
      "source": [
        "df_ordenado['ZONIFICACION PREDIO'].value_counts(dropna=False).sort_index()"
      ],
      "metadata": {
        "colab": {
          "base_uri": "https://localhost:8080/"
        },
        "id": "uVm3WeTztr6K",
        "outputId": "77a758dc-7040-4828-a617-d9daa5fe9834"
      },
      "execution_count": 62,
      "outputs": [
        {
          "output_type": "execute_result",
          "data": {
            "text/plain": [
              "CM            4\n",
              "CZ            7\n",
              "CZ            1\n",
              "E1            3\n",
              "RDA          20\n",
              "RDA Y RDM     1\n",
              "RDM          99\n",
              "RDM          14\n",
              "RDM-CV        1\n",
              "NaN          30\n",
              "Name: ZONIFICACION PREDIO, dtype: int64"
            ]
          },
          "metadata": {},
          "execution_count": 62
        }
      ]
    },
    {
      "cell_type": "code",
      "source": [
        "df_ordenado['ZONIFICACION PREDIO'] = df_ordenado['ZONIFICACION PREDIO'].str.strip()"
      ],
      "metadata": {
        "id": "yg-wtxn1ttkz"
      },
      "execution_count": 63,
      "outputs": []
    },
    {
      "cell_type": "code",
      "source": [
        "df_ordenado['ZONIFICACION PREDIO'].value_counts(dropna=False).sort_index()"
      ],
      "metadata": {
        "colab": {
          "base_uri": "https://localhost:8080/"
        },
        "id": "_JFSwU16tuCR",
        "outputId": "d332bbb2-5c49-4ef2-d3b4-d9ee64a58a45"
      },
      "execution_count": 64,
      "outputs": [
        {
          "output_type": "execute_result",
          "data": {
            "text/plain": [
              "CM             4\n",
              "CZ             8\n",
              "E1             3\n",
              "RDA           20\n",
              "RDA Y RDM      1\n",
              "RDM          113\n",
              "RDM-CV         1\n",
              "NaN           30\n",
              "Name: ZONIFICACION PREDIO, dtype: int64"
            ]
          },
          "metadata": {},
          "execution_count": 64
        }
      ]
    },
    {
      "cell_type": "markdown",
      "source": [
        "Tipo de Uso"
      ],
      "metadata": {
        "id": "BXTx5viKuAdi"
      }
    },
    {
      "cell_type": "code",
      "source": [
        "df_ordenado['TIPO DE USO'].value_counts(dropna=False).sort_index()"
      ],
      "metadata": {
        "colab": {
          "base_uri": "https://localhost:8080/"
        },
        "id": "Srj7MYihuBnC",
        "outputId": "3ea12dca-3e39-46b9-d5a5-f49d403c1e57"
      },
      "execution_count": 65,
      "outputs": [
        {
          "output_type": "execute_result",
          "data": {
            "text/plain": [
              "CERCO                                                 1\n",
              "COMERCIO                                              6\n",
              "COMERCIO                                              6\n",
              "CONJUNTO RESIDENCIAL                                  4\n",
              "E1                                                    1\n",
              "EDIFICIO MULTIFAMILIAR - MODIFICACION DE PROYECTO     1\n",
              "EDUCACION                                             1\n",
              "MULTIFAMILIAR                                        48\n",
              "MULTIFAMILIAR                                         7\n",
              "MULTIFAMILIAR - COMERCIO                              2\n",
              "TERRENO                                               1\n",
              "UNIFAMILIAR                                          12\n",
              "VIIENDA UNIFAMILIAR                                   2\n",
              "VIV.MULTIFAMILIAR                                     1\n",
              "VIVIENA UNIFAMILIAR                                   1\n",
              "VIVIENDA - COMERCIO                                   2\n",
              "VIVIENDA MULTIFAMILIAR                               22\n",
              "VIVIENDA MULTIFAMILIAR                                1\n",
              "VIVIENDA UNIFAMILIAR                                 21\n",
              "VIVIENDA UNIFAMILIAR                                  9\n",
              "VIVIUENDA UNIFAMILIAR                                 1\n",
              "NaN                                                  30\n",
              "Name: TIPO DE USO, dtype: int64"
            ]
          },
          "metadata": {},
          "execution_count": 65
        }
      ]
    },
    {
      "cell_type": "code",
      "source": [
        "df_ordenado['TIPO DE USO'] = df_ordenado['TIPO DE USO'].str.strip()"
      ],
      "metadata": {
        "id": "Mrfr_4fSuC8C"
      },
      "execution_count": 66,
      "outputs": []
    },
    {
      "cell_type": "code",
      "source": [
        "df_ordenado['TIPO DE USO'].value_counts(dropna=False).sort_index()"
      ],
      "metadata": {
        "colab": {
          "base_uri": "https://localhost:8080/"
        },
        "id": "i0UbxDPnuDRC",
        "outputId": "c7e35bed-c4d0-400e-ccc2-f627986f8b8c"
      },
      "execution_count": 67,
      "outputs": [
        {
          "output_type": "execute_result",
          "data": {
            "text/plain": [
              "CERCO                                                 1\n",
              "COMERCIO                                             12\n",
              "CONJUNTO RESIDENCIAL                                  4\n",
              "E1                                                    1\n",
              "EDIFICIO MULTIFAMILIAR - MODIFICACION DE PROYECTO     1\n",
              "EDUCACION                                             1\n",
              "MULTIFAMILIAR                                        55\n",
              "MULTIFAMILIAR - COMERCIO                              2\n",
              "TERRENO                                               1\n",
              "UNIFAMILIAR                                          12\n",
              "VIIENDA UNIFAMILIAR                                   2\n",
              "VIV.MULTIFAMILIAR                                     1\n",
              "VIVIENA UNIFAMILIAR                                   1\n",
              "VIVIENDA - COMERCIO                                   2\n",
              "VIVIENDA MULTIFAMILIAR                               23\n",
              "VIVIENDA UNIFAMILIAR                                 30\n",
              "VIVIUENDA UNIFAMILIAR                                 1\n",
              "NaN                                                  30\n",
              "Name: TIPO DE USO, dtype: int64"
            ]
          },
          "metadata": {},
          "execution_count": 67
        }
      ]
    },
    {
      "cell_type": "code",
      "source": [
        "def UNIFORMIDAD(FAMILIA):\n",
        "    if pd.isnull(FAMILIA):\n",
        "        return FAMILIA\n",
        "    FAMILIA = FAMILIA.upper()\n",
        "    if 'UNIFAMILIAR' in FAMILIA:\n",
        "        return 'UNIFAMILIAR'\n",
        "    elif 'MULTIFAMILIAR' in FAMILIA:\n",
        "        return 'MULTIFAMILIAR'\n",
        "    elif \"COMERCIO\" in FAMILIA:\n",
        "        return \"COMERCIO\"\n",
        "    else:\n",
        "        return FAMILIA\n",
        "\n",
        "df_ordenado['TIPO DE USO NORMALIZADO'] = df_ordenado['TIPO DE USO'].apply(UNIFORMIDAD)\n",
        "\n",
        "df_ordenado['TIPO DE USO NORMALIZADO'].value_counts(dropna=False).sort_index()"
      ],
      "metadata": {
        "colab": {
          "base_uri": "https://localhost:8080/"
        },
        "id": "A1KsSKl5wXIr",
        "outputId": "59255cc6-fd43-49c5-eb7d-605cfc52bb38"
      },
      "execution_count": 72,
      "outputs": [
        {
          "output_type": "execute_result",
          "data": {
            "text/plain": [
              "CERCO                    1\n",
              "COMERCIO                14\n",
              "CONJUNTO RESIDENCIAL     4\n",
              "E1                       1\n",
              "EDUCACION                1\n",
              "MULTIFAMILIAR           82\n",
              "TERRENO                  1\n",
              "UNIFAMILIAR             46\n",
              "NaN                     30\n",
              "Name: TIPO DE USO NORMALIZADO, dtype: int64"
            ]
          },
          "metadata": {},
          "execution_count": 72
        }
      ]
    },
    {
      "cell_type": "markdown",
      "source": [
        "Tipo de Altura"
      ],
      "metadata": {
        "id": "zLygEeJWy3q0"
      }
    },
    {
      "cell_type": "code",
      "source": [
        "df_ordenado['TIPO ALTURA'].value_counts(dropna=False).sort_index()"
      ],
      "metadata": {
        "colab": {
          "base_uri": "https://localhost:8080/"
        },
        "id": "JgE0167My4nE",
        "outputId": "e9b9d157-252c-464b-ca0d-68826366292e"
      },
      "execution_count": 73,
      "outputs": [
        {
          "output_type": "execute_result",
          "data": {
            "text/plain": [
              "PISOS      33\n",
              "PISOS     147\n",
              "Name: TIPO ALTURA, dtype: int64"
            ]
          },
          "metadata": {},
          "execution_count": 73
        }
      ]
    },
    {
      "cell_type": "code",
      "source": [
        "df_ordenado['TIPO ALTURA'] = df_ordenado['TIPO ALTURA'].str.strip()"
      ],
      "metadata": {
        "id": "k9jAUhqD0Ch0"
      },
      "execution_count": 74,
      "outputs": []
    },
    {
      "cell_type": "code",
      "source": [
        "df_ordenado['TIPO ALTURA'].value_counts(dropna=False).sort_index()"
      ],
      "metadata": {
        "colab": {
          "base_uri": "https://localhost:8080/"
        },
        "id": "d1rpKnr20C5f",
        "outputId": "67269085-3053-4606-c2ae-f6b1a6f82eb5"
      },
      "execution_count": 75,
      "outputs": [
        {
          "output_type": "execute_result",
          "data": {
            "text/plain": [
              "PISOS    180\n",
              "Name: TIPO ALTURA, dtype: int64"
            ]
          },
          "metadata": {},
          "execution_count": 75
        }
      ]
    },
    {
      "cell_type": "markdown",
      "source": [
        "Detalle altura"
      ],
      "metadata": {
        "id": "SAx9J8EV6-dB"
      }
    },
    {
      "cell_type": "code",
      "source": [
        "df_ordenado['DETALLE ALTURA'] = df_ordenado['DETALLE ALTURA'].astype(str)"
      ],
      "metadata": {
        "colab": {
          "base_uri": "https://localhost:8080/"
        },
        "id": "dQh488qp7Xnp",
        "outputId": "2f1b94e0-d7b2-4645-d826-7156ab5d20a8"
      },
      "execution_count": 111,
      "outputs": [
        {
          "output_type": "stream",
          "name": "stderr",
          "text": [
            "<ipython-input-111-d1df824774e1>:1: SettingWithCopyWarning: \n",
            "A value is trying to be set on a copy of a slice from a DataFrame.\n",
            "Try using .loc[row_indexer,col_indexer] = value instead\n",
            "\n",
            "See the caveats in the documentation: https://pandas.pydata.org/pandas-docs/stable/user_guide/indexing.html#returning-a-view-versus-a-copy\n",
            "  df_ordenado['DETALLE ALTURA'] = df_ordenado['DETALLE ALTURA'].astype(str)\n"
          ]
        }
      ]
    },
    {
      "cell_type": "code",
      "source": [
        "df_ordenado['DETALLE ALTURA'].value_counts(dropna=False).sort_index()"
      ],
      "metadata": {
        "colab": {
          "base_uri": "https://localhost:8080/"
        },
        "id": "7KROwsot69vi",
        "outputId": "834e45d9-3710-4a48-9194-256dbd31d6c1"
      },
      "execution_count": 112,
      "outputs": [
        {
          "output_type": "execute_result",
          "data": {
            "text/plain": [
              " 3 PISOS + AZOTEA                  1\n",
              "0                                  1\n",
              "1 PISO                             6\n",
              "1 PISO                             3\n",
              "1 SOTANO+7 PISOS+AZOTEA            1\n",
              "                                  ..\n",
              "SOTANO+SEMISOTANO+6P+AZ            1\n",
              "SOTANO+SEMISOTANO+6PISOS+AZOTEA    1\n",
              "SOTANO+SEMISOTANO+8P+AZ            1\n",
              "SOTANO+SEMISOTANO+8PISOS           1\n",
              "nan                                1\n",
              "Name: DETALLE ALTURA, Length: 67, dtype: int64"
            ]
          },
          "metadata": {},
          "execution_count": 112
        }
      ]
    },
    {
      "cell_type": "code",
      "source": [
        "df_ordenado['DETALLE ALTURA'] = df_ordenado['DETALLE ALTURA'].str.strip()"
      ],
      "metadata": {
        "colab": {
          "base_uri": "https://localhost:8080/"
        },
        "id": "T6Lp_K3F7ngV",
        "outputId": "e3255408-68c0-492e-e033-24c95ba6af06"
      },
      "execution_count": 113,
      "outputs": [
        {
          "output_type": "stream",
          "name": "stderr",
          "text": [
            "<ipython-input-113-119e336db31f>:1: SettingWithCopyWarning: \n",
            "A value is trying to be set on a copy of a slice from a DataFrame.\n",
            "Try using .loc[row_indexer,col_indexer] = value instead\n",
            "\n",
            "See the caveats in the documentation: https://pandas.pydata.org/pandas-docs/stable/user_guide/indexing.html#returning-a-view-versus-a-copy\n",
            "  df_ordenado['DETALLE ALTURA'] = df_ordenado['DETALLE ALTURA'].str.strip()\n"
          ]
        }
      ]
    },
    {
      "cell_type": "code",
      "source": [
        "df_ordenado['DETALLE ALTURA'].value_counts(dropna=False).sort_index()"
      ],
      "metadata": {
        "colab": {
          "base_uri": "https://localhost:8080/"
        },
        "id": "czYkgr8D7rek",
        "outputId": "933f25e9-85a7-42a6-be96-df6bcfea451d"
      },
      "execution_count": 114,
      "outputs": [
        {
          "output_type": "execute_result",
          "data": {
            "text/plain": [
              "0                                  1\n",
              "1 PISO                             9\n",
              "1 SOTANO+7 PISOS+AZOTEA            1\n",
              "11P+AZ                             1\n",
              "13:00:00                           1\n",
              "                                  ..\n",
              "SOTANO+SEMISOTANO+6P+AZ            1\n",
              "SOTANO+SEMISOTANO+6PISOS+AZOTEA    1\n",
              "SOTANO+SEMISOTANO+8P+AZ            1\n",
              "SOTANO+SEMISOTANO+8PISOS           1\n",
              "nan                                1\n",
              "Name: DETALLE ALTURA, Length: 64, dtype: int64"
            ]
          },
          "metadata": {},
          "execution_count": 114
        }
      ]
    },
    {
      "cell_type": "code",
      "source": [
        "def ALTURA(DETALLE):\n",
        "    if '1P' in DETALLE:\n",
        "        return '1 PISO'\n",
        "    elif '2P' in DETALLE:\n",
        "        return '2 PISOS'\n",
        "    elif \"3P\" in DETALLE:\n",
        "        return \"3 PISOS\"\n",
        "    elif \"4P\" in DETALLE:\n",
        "        return \"4 PISOS\"\n",
        "    elif \"5P\" in DETALLE:\n",
        "        return \"5 PISOS\"\n",
        "    else:\n",
        "        return DETALLE\n",
        "\n",
        "df_ordenado['DETALLE ALTURA'] = df_ordenado['DETALLE ALTURA'].apply(ALTURA)\n",
        "\n",
        "df_ordenado['DETALLE ALTURA'].value_counts(dropna=False).sort_index()"
      ],
      "metadata": {
        "colab": {
          "base_uri": "https://localhost:8080/"
        },
        "id": "TsKdikJB8IP2",
        "outputId": "91a30121-6e6b-451a-9506-71f5dd350955"
      },
      "execution_count": 115,
      "outputs": [
        {
          "output_type": "stream",
          "name": "stderr",
          "text": [
            "<ipython-input-115-7aef595a0c24>:15: SettingWithCopyWarning: \n",
            "A value is trying to be set on a copy of a slice from a DataFrame.\n",
            "Try using .loc[row_indexer,col_indexer] = value instead\n",
            "\n",
            "See the caveats in the documentation: https://pandas.pydata.org/pandas-docs/stable/user_guide/indexing.html#returning-a-view-versus-a-copy\n",
            "  df_ordenado['DETALLE ALTURA'] = df_ordenado['DETALLE ALTURA'].apply(ALTURA)\n"
          ]
        },
        {
          "output_type": "execute_result",
          "data": {
            "text/plain": [
              "0                                              1\n",
              "1 PISO                                        14\n",
              "1 SOTANO+7 PISOS+AZOTEA                        1\n",
              "13:00:00                                       1\n",
              "1SOTANO+17PISOS+AZOTEA                         1\n",
              "2 PISO                                         1\n",
              "2 PISOS                                       18\n",
              "2 PISOS + AZ                                   1\n",
              "2 PISOS + AZOTEA                               4\n",
              "2 SOTANOS + 7 PISOS + AZOTEA                   1\n",
              "2 SOTANOS + SEMISOTANO + 10 PISOS + AZOTEA     1\n",
              "2 SOTANOS+17P+AZ                               1\n",
              "2SOT.+16PISOS+AZO.                             1\n",
              "2SOTANOS+7PISOS+AZOTEA                         1\n",
              "3 PISO                                         1\n",
              "3 PISOS                                       14\n",
              "3 PISOS + AZOTEA                               4\n",
              "3 SOT,+20 PISOS+AZOTEA                         1\n",
              "3 SOT.+18 PISOS+AZO.                           1\n",
              "3 SÓTANOS + 9 PISOS + AZOTEA                   1\n",
              "4 PISOS                                        3\n",
              "4 PISOS + AZOTEA                               2\n",
              "4 SOT.+17 PISOS+AZOTEA                         3\n",
              "4 SOT.+20 PISOS+AZO.                           1\n",
              "4 SOTANOS+18 PISOS+AZOTEA                      1\n",
              "4SOTANOS +20PISOS+AZOTEA                       1\n",
              "4SOTANOS+8 PISOS+AZOTEA                        1\n",
              "4SOTANOS+SEMISOTANO+20PISOS+AZOTEA             1\n",
              "5 PISOS                                        2\n",
              "5 PISOS + AZOTEA                               8\n",
              "5 PISOS +AZO.                                  1\n",
              "5 SOTANOS + 17P+AZ                             1\n",
              "5 SOTANOS+5 PISOS+5MEZANINES+AZOTEA            2\n",
              "5SOT,+17PISOS+AZO.                             2\n",
              "5SOT.+20 PISOS + AZO.                          1\n",
              "6 PISOS+AZOTEA                                 1\n",
              "6P                                             1\n",
              "6PISOS + SÓTANO                                1\n",
              "9 PISOS + AZOTEA                               1\n",
              "SEMISOTANO + 4 PISOS + AZOTEA                  1\n",
              "SEMISOTANO + 6 PISOS + AZOTEA                  1\n",
              "SEMISOTANO + 9 PISOS + AZOTEA                  1\n",
              "SEMISOTANO+6 PISOS                             1\n",
              "SEMISOTANO+9PISOS                              1\n",
              "SOT. + 10PISOS + AZO.                          1\n",
              "SOT.+SEMISOTANO+6PISOS+AZOTEA                  1\n",
              "SOTANO + 7 PISOS + AZOTEA                      1\n",
              "SOTANO+8PISOS+AZOTEA                           1\n",
              "SOTANO+SEMISOTANO+6P+AZ                        1\n",
              "SOTANO+SEMISOTANO+6PISOS+AZOTEA                1\n",
              "SOTANO+SEMISOTANO+8P+AZ                        1\n",
              "SOTANO+SEMISOTANO+8PISOS                       1\n",
              "nan                                            1\n",
              "Name: DETALLE ALTURA, dtype: int64"
            ]
          },
          "metadata": {},
          "execution_count": 115
        }
      ]
    },
    {
      "cell_type": "code",
      "source": [
        "def ALTURA2(DETALLE2):\n",
        "    if '1 PISO' in DETALLE2:\n",
        "        return '1 PISO'\n",
        "    elif '2 PISO' in DETALLE2:\n",
        "        return '2 PISOS'\n",
        "    elif \"3 PISO\" in DETALLE2:\n",
        "        return \"3 PISOS\"\n",
        "    elif \"4 PISO\" in DETALLE2:\n",
        "        return \"4 PISOS\"\n",
        "    elif \"5 PISO\" in DETALLE2:\n",
        "        return \"5 PISOS\"\n",
        "    elif \"6P\" in DETALLE2:\n",
        "        return \"6 PISOS\"\n",
        "    elif \"6 PISO\" in DETALLE2:\n",
        "        return \"6 PISOS\"\n",
        "    elif \"7 PISO\" in DETALLE2:\n",
        "        return \"7 PISOS\"\n",
        "    elif \"7P\" in DETALLE2:\n",
        "        return \"7 PISOS\"\n",
        "    elif \"8 PISO\" in DETALLE2:\n",
        "        return \"8 PISOS\"\n",
        "    elif \"8P\" in DETALLE2:\n",
        "        return \"8 PISOS\"\n",
        "    elif \"9 PISO\" in DETALLE2:\n",
        "        return \"9 PISOS\"\n",
        "    elif \"9P\" in DETALLE2:\n",
        "        return \"9 PISOS\"\n",
        "    elif \"10 PISO\" in DETALLE2:\n",
        "        return \"10 PISOS\"\n",
        "    elif \"10P\" in DETALLE2:\n",
        "        return \"10 PISOS\"\n",
        "    elif \"11 PISO\" in DETALLE2:\n",
        "        return \"11 PISOS\"\n",
        "    elif \"12 PISO\" in DETALLE2:\n",
        "        return \"12 PISOS\"\n",
        "    elif \"13 PISO\" in DETALLE2:\n",
        "        return \"13 PISOS\"\n",
        "    elif \"14 PISO\" in DETALLE2:\n",
        "        return \"14 PISOS\"\n",
        "    elif \"15 PISO\" in DETALLE2:\n",
        "        return \"15 PISOS\"\n",
        "    elif \"16 PISO\" in DETALLE2:\n",
        "        return \"16 PISOS\"\n",
        "    elif \"17 PISO\" in DETALLE2:\n",
        "        return \"17 PISOS\"\n",
        "    elif \"17P\" in DETALLE2:\n",
        "        return \"17 PISOS\"\n",
        "    elif \"20 PISOS\" in DETALLE2:\n",
        "        return \"20 PISOS\"\n",
        "    elif \"20P\" in DETALLE2:\n",
        "        return \"20 PISOS\"\n",
        "    elif \"13:0\" in DETALLE2:\n",
        "        return \"\"\n",
        "    else:\n",
        "        return DETALLE2\n",
        "\n",
        "df_ordenado['DETALLE ALTURA'] = df_ordenado['DETALLE ALTURA'].apply(ALTURA2)\n",
        "\n",
        "df_ordenado['DETALLE ALTURA'].value_counts(dropna=False).sort_index()"
      ],
      "metadata": {
        "colab": {
          "base_uri": "https://localhost:8080/"
        },
        "id": "pgFClRr09Zxz",
        "outputId": "70ac89b7-9826-472c-9c95-1b9f12177649"
      },
      "execution_count": 124,
      "outputs": [
        {
          "output_type": "stream",
          "name": "stderr",
          "text": [
            "<ipython-input-124-4afbfe904ac7>:57: SettingWithCopyWarning: \n",
            "A value is trying to be set on a copy of a slice from a DataFrame.\n",
            "Try using .loc[row_indexer,col_indexer] = value instead\n",
            "\n",
            "See the caveats in the documentation: https://pandas.pydata.org/pandas-docs/stable/user_guide/indexing.html#returning-a-view-versus-a-copy\n",
            "  df_ordenado['DETALLE ALTURA'] = df_ordenado['DETALLE ALTURA'].apply(ALTURA2)\n"
          ]
        },
        {
          "output_type": "execute_result",
          "data": {
            "text/plain": [
              "             1\n",
              "0            1\n",
              "1 PISO      14\n",
              "10 PISOS     2\n",
              "2 PISOS     24\n",
              "20 PISOS     5\n",
              "3 PISOS     19\n",
              "4 PISOS      6\n",
              "5 PISOS     13\n",
              "6 PISOS      9\n",
              "7 PISOS     12\n",
              "8 PISOS      6\n",
              "9 PISOS      4\n",
              "nan          1\n",
              "Name: DETALLE ALTURA, dtype: int64"
            ]
          },
          "metadata": {},
          "execution_count": 124
        }
      ]
    },
    {
      "cell_type": "markdown",
      "metadata": {
        "id": "WOGanU8dBeYz"
      },
      "source": [
        "The categories are well written.\n",
        "\n",
        "Let's see the numeric columns. Let's identify cell that do not have numeric strings:\n"
      ]
    },
    {
      "cell_type": "code",
      "execution_count": null,
      "metadata": {
        "id": "ua5Q4xwBBeYz"
      },
      "outputs": [],
      "source": [
        "set(freedom.FitW_score[~freedom.FitW_score.str.contains('^\\\\d+\\\\.*\\\\d*$')])"
      ]
    },
    {
      "cell_type": "markdown",
      "metadata": {
        "id": "yhcdRAjjBeYz"
      },
      "source": [
        "Then, we can generalize:"
      ]
    },
    {
      "cell_type": "code",
      "execution_count": null,
      "metadata": {
        "id": "qdq52UVzBeY0"
      },
      "outputs": [],
      "source": [
        "badValues=[]\n",
        "for col in acronyms_score:\n",
        "    currentBad=freedom.loc[:,col][~freedom.loc[:,col].str.contains('^\\\\d+\\\\.*\\\\d*$')]\n",
        "    badValues.extend(currentBad)\n",
        "\n",
        "badValues=list(set(badValues))\n",
        "badValues"
      ]
    },
    {
      "cell_type": "markdown",
      "metadata": {
        "id": "qgua9r8fBeY0"
      },
      "source": [
        "We will need to replace those values with a proper missing value:"
      ]
    },
    {
      "cell_type": "code",
      "execution_count": null,
      "metadata": {
        "id": "BdcV8K1dBeY0"
      },
      "outputs": [],
      "source": [
        "import numpy as np\n",
        "\n",
        "freedom.replace(to_replace=badValues, value=np.nan,inplace=True)"
      ]
    },
    {
      "cell_type": "code",
      "execution_count": null,
      "metadata": {
        "id": "XPD4BYdtBeY0"
      },
      "outputs": [],
      "source": [
        "freedom.info()"
      ]
    },
    {
      "cell_type": "markdown",
      "metadata": {
        "id": "qQDdrRWMBeY0"
      },
      "source": [
        "Let's keep the complete data:"
      ]
    },
    {
      "cell_type": "code",
      "execution_count": null,
      "metadata": {
        "id": "7seOXwpYBeY0"
      },
      "outputs": [],
      "source": [
        "freedom.dropna(how='any',axis=0,inplace=True # keep complete\n",
        "               ) # reset index\n",
        "\n",
        "freedom"
      ]
    },
    {
      "cell_type": "code",
      "source": [
        "freedom.reset_index(drop=True,inplace=True)\n",
        "freedom"
      ],
      "metadata": {
        "id": "jKVSDzJ8E0HA"
      },
      "execution_count": null,
      "outputs": []
    },
    {
      "cell_type": "markdown",
      "metadata": {
        "id": "lcxp-N2SBeY0"
      },
      "source": [
        "## 3. Check key column"
      ]
    },
    {
      "cell_type": "code",
      "execution_count": null,
      "metadata": {
        "id": "cG6tUMEUBeY0"
      },
      "outputs": [],
      "source": [
        "freedom.Country"
      ]
    },
    {
      "cell_type": "code",
      "execution_count": null,
      "metadata": {
        "id": "Kdct6O3KBeY0"
      },
      "outputs": [],
      "source": [
        "# to upper case and no trailing or leading spaces\n",
        "freedom.Country.str.upper().str.strip()"
      ]
    },
    {
      "cell_type": "code",
      "execution_count": null,
      "metadata": {
        "id": "3Jy3JkGGBeY0"
      },
      "outputs": [],
      "source": [
        "freedom['Country']=freedom.Country.str.upper().str.strip()"
      ]
    },
    {
      "cell_type": "markdown",
      "metadata": {
        "id": "icHwHAJ7BeY1"
      },
      "source": [
        "## 4. Save output"
      ]
    },
    {
      "cell_type": "code",
      "execution_count": null,
      "metadata": {
        "id": "IG_pYAJkBeY1"
      },
      "outputs": [],
      "source": [
        "freedom.to_csv('freedom_Py.csv',index=False)"
      ]
    },
    {
      "cell_type": "code",
      "source": [
        "freedom"
      ],
      "metadata": {
        "id": "Ar-uNKRSFQm4"
      },
      "execution_count": null,
      "outputs": []
    }
  ],
  "metadata": {
    "anaconda-cloud": {},
    "kernelspec": {
      "display_name": "Python 3 (ipykernel)",
      "language": "python",
      "name": "python3"
    },
    "language_info": {
      "codemirror_mode": {
        "name": "ipython",
        "version": 3
      },
      "file_extension": ".py",
      "mimetype": "text/x-python",
      "name": "python",
      "nbconvert_exporter": "python",
      "pygments_lexer": "ipython3",
      "version": "3.12.0"
    },
    "colab": {
      "provenance": [],
      "include_colab_link": true
    }
  },
  "nbformat": 4,
  "nbformat_minor": 0
}